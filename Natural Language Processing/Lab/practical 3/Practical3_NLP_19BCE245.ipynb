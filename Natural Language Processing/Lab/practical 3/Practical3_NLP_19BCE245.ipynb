{
  "nbformat": 4,
  "nbformat_minor": 0,
  "metadata": {
    "colab": {
      "name": "Practical3-NLP-19BCE245.ipynb",
      "provenance": [],
      "collapsed_sections": []
    },
    "kernelspec": {
      "name": "python3",
      "display_name": "Python 3"
    },
    "language_info": {
      "name": "python"
    }
  },
  "cells": [
    {
      "cell_type": "markdown",
      "source": [
        "# NLP Practical 3\n",
        "> 19BCE245 - Aayush Shah\n",
        "\n",
        "  - **a.** Write a program to perform stemming at word level as well as sentence level using `PorterStemmer` algorithm.\n",
        "\n",
        "  - **b.** Write a program to perform POS tagging for the given sentence/paragraph."
      ],
      "metadata": {
        "id": "cbWz-j6RrpUK"
      }
    },
    {
      "cell_type": "code",
      "source": [
        "import nltk\n",
        "# nltk.download()\n",
        "nltk.download('punkt')\n",
        "nltk.download('averaged_perceptron_tagger')\n",
        "nltk.download('stopwords')"
      ],
      "metadata": {
        "colab": {
          "base_uri": "https://localhost:8080/"
        },
        "id": "-7FPB_zAsQqy",
        "outputId": "b5f35004-a9ab-4156-8714-126ca523df8f"
      },
      "execution_count": 34,
      "outputs": [
        {
          "output_type": "stream",
          "name": "stdout",
          "text": [
            "[nltk_data] Downloading package punkt to /root/nltk_data...\n",
            "[nltk_data]   Package punkt is already up-to-date!\n",
            "[nltk_data] Downloading package averaged_perceptron_tagger to\n",
            "[nltk_data]     /root/nltk_data...\n",
            "[nltk_data]   Package averaged_perceptron_tagger is already up-to-\n",
            "[nltk_data]       date!\n",
            "[nltk_data] Downloading package stopwords to /root/nltk_data...\n",
            "[nltk_data]   Package stopwords is already up-to-date!\n"
          ]
        },
        {
          "output_type": "execute_result",
          "data": {
            "text/plain": [
              "True"
            ]
          },
          "metadata": {},
          "execution_count": 34
        }
      ]
    },
    {
      "cell_type": "markdown",
      "source": [
        "## Tokenizing the text"
      ],
      "metadata": {
        "id": "22bp9V87sKUY"
      }
    },
    {
      "cell_type": "code",
      "execution_count": 35,
      "metadata": {
        "colab": {
          "base_uri": "https://localhost:8080/"
        },
        "id": "wPEiismTrYeE",
        "outputId": "9895db56-497b-46e4-85c6-ab19cac66067"
      },
      "outputs": [
        {
          "output_type": "stream",
          "name": "stdout",
          "text": [
            "Tokenized sentences :  ['Golden Retrievers are very good family dogs because they are extremely sweet and gentle with young children and do not bark very much.', 'They are known for having a soft mouth, and some have even been seen carrying raw eggs in their mouth without breaking them.[source?]', 'Goldens are well known for their calm and easy going temperament.', 'They are great family dogs and provide good companionship.', 'They are very smart and eager to please, which allows them to be easily trained.', 'Golden Retrievers are very active dogs and need a lot of exercise.', 'Goldens make wonderful pets, but they need to be exercised regularly to prevent weight gain and promote overall health.', 'They require a great deal of grooming, as they shed hair daily.', 'Goldens also enjoy the cool water.']\n",
            "Tokenized Words :  ['Golden', 'Retrievers', 'are', 'very', 'good', 'family', 'dogs', 'because', 'they', 'are', 'extremely', 'sweet', 'and', 'gentle', 'with', 'young', 'children', 'and', 'do', 'not', 'bark', 'very', 'much', '.', 'They', 'are', 'known', 'for', 'having', 'a', 'soft', 'mouth', ',', 'and', 'some', 'have', 'even', 'been', 'seen', 'carrying', 'raw', 'eggs', 'in', 'their', 'mouth', 'without', 'breaking', 'them.', '[', 'source', '?', ']', 'Goldens', 'are', 'well', 'known', 'for', 'their', 'calm', 'and', 'easy', 'going', 'temperament', '.', 'They', 'are', 'great', 'family', 'dogs', 'and', 'provide', 'good', 'companionship', '.', 'They', 'are', 'very', 'smart', 'and', 'eager', 'to', 'please', ',', 'which', 'allows', 'them', 'to', 'be', 'easily', 'trained', '.', 'Golden', 'Retrievers', 'are', 'very', 'active', 'dogs', 'and', 'need', 'a', 'lot', 'of', 'exercise', '.', 'Goldens', 'make', 'wonderful', 'pets', ',', 'but', 'they', 'need', 'to', 'be', 'exercised', 'regularly', 'to', 'prevent', 'weight', 'gain', 'and', 'promote', 'overall', 'health', '.', 'They', 'require', 'a', 'great', 'deal', 'of', 'grooming', ',', 'as', 'they', 'shed', 'hair', 'daily', '.', 'Goldens', 'also', 'enjoy', 'the', 'cool', 'water', '.']\n"
          ]
        }
      ],
      "source": [
        "from nltk.tokenize import sent_tokenize, word_tokenize \n",
        "  \n",
        "text = \"Golden Retrievers are very good family dogs because they are extremely sweet and gentle with young children and do not bark very much. They are known for having a soft mouth, and some have even been seen carrying raw eggs in their mouth without breaking them.[source?] Goldens are well known for their calm and easy going temperament. They are great family dogs and provide good companionship. They are very smart and eager to please, which allows them to be easily trained. Golden Retrievers are very active dogs and need a lot of exercise. Goldens make wonderful pets, but they need to be exercised regularly to prevent weight gain and promote overall health. They require a great deal of grooming, as they shed hair daily. Goldens also enjoy the cool water.\"\n",
        "sentences = sent_tokenize(text)\n",
        "words = word_tokenize(text)\n",
        "\n",
        "print('Tokenized sentences : ',sent_tokenize(text)) \n",
        "print('Tokenized Words : ',word_tokenize(text))"
      ]
    },
    {
      "cell_type": "markdown",
      "source": [
        "## 2. Stemming words"
      ],
      "metadata": {
        "id": "ptPpmWzxsiGb"
      }
    },
    {
      "cell_type": "code",
      "source": [
        "ps = nltk.stem.PorterStemmer() \n",
        "\n",
        "for w in words: \n",
        "    print(w, \" : \", ps.stem(w))"
      ],
      "metadata": {
        "colab": {
          "base_uri": "https://localhost:8080/"
        },
        "id": "V_3B3aQgsPVI",
        "outputId": "a0415707-2b40-4404-e46e-7ff0ab556e15"
      },
      "execution_count": 36,
      "outputs": [
        {
          "output_type": "stream",
          "name": "stdout",
          "text": [
            "Golden  :  golden\n",
            "Retrievers  :  retriev\n",
            "are  :  are\n",
            "very  :  veri\n",
            "good  :  good\n",
            "family  :  famili\n",
            "dogs  :  dog\n",
            "because  :  becaus\n",
            "they  :  they\n",
            "are  :  are\n",
            "extremely  :  extrem\n",
            "sweet  :  sweet\n",
            "and  :  and\n",
            "gentle  :  gentl\n",
            "with  :  with\n",
            "young  :  young\n",
            "children  :  children\n",
            "and  :  and\n",
            "do  :  do\n",
            "not  :  not\n",
            "bark  :  bark\n",
            "very  :  veri\n",
            "much  :  much\n",
            ".  :  .\n",
            "They  :  they\n",
            "are  :  are\n",
            "known  :  known\n",
            "for  :  for\n",
            "having  :  have\n",
            "a  :  a\n",
            "soft  :  soft\n",
            "mouth  :  mouth\n",
            ",  :  ,\n",
            "and  :  and\n",
            "some  :  some\n",
            "have  :  have\n",
            "even  :  even\n",
            "been  :  been\n",
            "seen  :  seen\n",
            "carrying  :  carri\n",
            "raw  :  raw\n",
            "eggs  :  egg\n",
            "in  :  in\n",
            "their  :  their\n",
            "mouth  :  mouth\n",
            "without  :  without\n",
            "breaking  :  break\n",
            "them.  :  them.\n",
            "[  :  [\n",
            "source  :  sourc\n",
            "?  :  ?\n",
            "]  :  ]\n",
            "Goldens  :  golden\n",
            "are  :  are\n",
            "well  :  well\n",
            "known  :  known\n",
            "for  :  for\n",
            "their  :  their\n",
            "calm  :  calm\n",
            "and  :  and\n",
            "easy  :  easi\n",
            "going  :  go\n",
            "temperament  :  tempera\n",
            ".  :  .\n",
            "They  :  they\n",
            "are  :  are\n",
            "great  :  great\n",
            "family  :  famili\n",
            "dogs  :  dog\n",
            "and  :  and\n",
            "provide  :  provid\n",
            "good  :  good\n",
            "companionship  :  companionship\n",
            ".  :  .\n",
            "They  :  they\n",
            "are  :  are\n",
            "very  :  veri\n",
            "smart  :  smart\n",
            "and  :  and\n",
            "eager  :  eager\n",
            "to  :  to\n",
            "please  :  pleas\n",
            ",  :  ,\n",
            "which  :  which\n",
            "allows  :  allow\n",
            "them  :  them\n",
            "to  :  to\n",
            "be  :  be\n",
            "easily  :  easili\n",
            "trained  :  train\n",
            ".  :  .\n",
            "Golden  :  golden\n",
            "Retrievers  :  retriev\n",
            "are  :  are\n",
            "very  :  veri\n",
            "active  :  activ\n",
            "dogs  :  dog\n",
            "and  :  and\n",
            "need  :  need\n",
            "a  :  a\n",
            "lot  :  lot\n",
            "of  :  of\n",
            "exercise  :  exercis\n",
            ".  :  .\n",
            "Goldens  :  golden\n",
            "make  :  make\n",
            "wonderful  :  wonder\n",
            "pets  :  pet\n",
            ",  :  ,\n",
            "but  :  but\n",
            "they  :  they\n",
            "need  :  need\n",
            "to  :  to\n",
            "be  :  be\n",
            "exercised  :  exercis\n",
            "regularly  :  regularli\n",
            "to  :  to\n",
            "prevent  :  prevent\n",
            "weight  :  weight\n",
            "gain  :  gain\n",
            "and  :  and\n",
            "promote  :  promot\n",
            "overall  :  overal\n",
            "health  :  health\n",
            ".  :  .\n",
            "They  :  they\n",
            "require  :  requir\n",
            "a  :  a\n",
            "great  :  great\n",
            "deal  :  deal\n",
            "of  :  of\n",
            "grooming  :  groom\n",
            ",  :  ,\n",
            "as  :  as\n",
            "they  :  they\n",
            "shed  :  shed\n",
            "hair  :  hair\n",
            "daily  :  daili\n",
            ".  :  .\n",
            "Goldens  :  golden\n",
            "also  :  also\n",
            "enjoy  :  enjoy\n",
            "the  :  the\n",
            "cool  :  cool\n",
            "water  :  water\n",
            ".  :  .\n"
          ]
        }
      ]
    },
    {
      "cell_type": "markdown",
      "source": [
        "## 3. Part of Speech Tagging with stop words"
      ],
      "metadata": {
        "id": "Se7mudNssmK1"
      }
    },
    {
      "cell_type": "code",
      "source": [
        "tagged = nltk.pos_tag(words)\n",
        "print(tagged)"
      ],
      "metadata": {
        "colab": {
          "base_uri": "https://localhost:8080/"
        },
        "id": "gZpEMVcRspkM",
        "outputId": "038aa3c1-6c5c-4ec4-a099-5bbb5779f72e"
      },
      "execution_count": 37,
      "outputs": [
        {
          "output_type": "stream",
          "name": "stdout",
          "text": [
            "[('Golden', 'JJ'), ('Retrievers', 'NNS'), ('are', 'VBP'), ('very', 'RB'), ('good', 'JJ'), ('family', 'NN'), ('dogs', 'NNS'), ('because', 'IN'), ('they', 'PRP'), ('are', 'VBP'), ('extremely', 'RB'), ('sweet', 'JJ'), ('and', 'CC'), ('gentle', 'JJ'), ('with', 'IN'), ('young', 'JJ'), ('children', 'NNS'), ('and', 'CC'), ('do', 'VBP'), ('not', 'RB'), ('bark', 'VB'), ('very', 'RB'), ('much', 'RB'), ('.', '.'), ('They', 'PRP'), ('are', 'VBP'), ('known', 'VBN'), ('for', 'IN'), ('having', 'VBG'), ('a', 'DT'), ('soft', 'JJ'), ('mouth', 'NN'), (',', ','), ('and', 'CC'), ('some', 'DT'), ('have', 'VBP'), ('even', 'RB'), ('been', 'VBN'), ('seen', 'VBN'), ('carrying', 'VBG'), ('raw', 'JJ'), ('eggs', 'NNS'), ('in', 'IN'), ('their', 'PRP$'), ('mouth', 'NN'), ('without', 'IN'), ('breaking', 'VBG'), ('them.', 'NN'), ('[', 'NNP'), ('source', 'NN'), ('?', '.'), (']', 'NN'), ('Goldens', 'NNPS'), ('are', 'VBP'), ('well', 'RB'), ('known', 'VBN'), ('for', 'IN'), ('their', 'PRP$'), ('calm', 'NN'), ('and', 'CC'), ('easy', 'JJ'), ('going', 'VBG'), ('temperament', 'NN'), ('.', '.'), ('They', 'PRP'), ('are', 'VBP'), ('great', 'JJ'), ('family', 'NN'), ('dogs', 'NNS'), ('and', 'CC'), ('provide', 'VB'), ('good', 'JJ'), ('companionship', 'NN'), ('.', '.'), ('They', 'PRP'), ('are', 'VBP'), ('very', 'RB'), ('smart', 'JJ'), ('and', 'CC'), ('eager', 'JJ'), ('to', 'TO'), ('please', 'VB'), (',', ','), ('which', 'WDT'), ('allows', 'VBZ'), ('them', 'PRP'), ('to', 'TO'), ('be', 'VB'), ('easily', 'RB'), ('trained', 'VBN'), ('.', '.'), ('Golden', 'JJ'), ('Retrievers', 'NNPS'), ('are', 'VBP'), ('very', 'RB'), ('active', 'JJ'), ('dogs', 'NNS'), ('and', 'CC'), ('need', 'VBP'), ('a', 'DT'), ('lot', 'NN'), ('of', 'IN'), ('exercise', 'NN'), ('.', '.'), ('Goldens', 'NNS'), ('make', 'VBP'), ('wonderful', 'JJ'), ('pets', 'NNS'), (',', ','), ('but', 'CC'), ('they', 'PRP'), ('need', 'VBP'), ('to', 'TO'), ('be', 'VB'), ('exercised', 'VBN'), ('regularly', 'RB'), ('to', 'TO'), ('prevent', 'VB'), ('weight', 'JJ'), ('gain', 'NN'), ('and', 'CC'), ('promote', 'VB'), ('overall', 'JJ'), ('health', 'NN'), ('.', '.'), ('They', 'PRP'), ('require', 'VBP'), ('a', 'DT'), ('great', 'JJ'), ('deal', 'NN'), ('of', 'IN'), ('grooming', 'VBG'), (',', ','), ('as', 'IN'), ('they', 'PRP'), ('shed', 'VBD'), ('hair', 'JJ'), ('daily', 'RB'), ('.', '.'), ('Goldens', 'NNP'), ('also', 'RB'), ('enjoy', 'VBP'), ('the', 'DT'), ('cool', 'JJ'), ('water', 'NN'), ('.', '.')]\n"
          ]
        }
      ]
    },
    {
      "cell_type": "markdown",
      "source": [
        "## 4. Remove Stop Words"
      ],
      "metadata": {
        "id": "g_9MGO2msr8X"
      }
    },
    {
      "cell_type": "code",
      "source": [
        "from nltk.corpus import stopwords\n",
        "sw = stopwords.words('english')\n",
        "print(\"Stopwords : \", sw)\n",
        "print()\n",
        "\n",
        "remove_stopwords = words[:]\n",
        "for w in words:\n",
        "  if w in sw:\n",
        "    remove_stopwords.remove(w)\n",
        "\n",
        "print(remove_stopwords)"
      ],
      "metadata": {
        "colab": {
          "base_uri": "https://localhost:8080/"
        },
        "id": "j0SJ_frLsuCq",
        "outputId": "b8277eae-33b4-4a12-f125-e56c2dcbca8a"
      },
      "execution_count": 38,
      "outputs": [
        {
          "output_type": "stream",
          "name": "stdout",
          "text": [
            "Stopwords :  ['i', 'me', 'my', 'myself', 'we', 'our', 'ours', 'ourselves', 'you', \"you're\", \"you've\", \"you'll\", \"you'd\", 'your', 'yours', 'yourself', 'yourselves', 'he', 'him', 'his', 'himself', 'she', \"she's\", 'her', 'hers', 'herself', 'it', \"it's\", 'its', 'itself', 'they', 'them', 'their', 'theirs', 'themselves', 'what', 'which', 'who', 'whom', 'this', 'that', \"that'll\", 'these', 'those', 'am', 'is', 'are', 'was', 'were', 'be', 'been', 'being', 'have', 'has', 'had', 'having', 'do', 'does', 'did', 'doing', 'a', 'an', 'the', 'and', 'but', 'if', 'or', 'because', 'as', 'until', 'while', 'of', 'at', 'by', 'for', 'with', 'about', 'against', 'between', 'into', 'through', 'during', 'before', 'after', 'above', 'below', 'to', 'from', 'up', 'down', 'in', 'out', 'on', 'off', 'over', 'under', 'again', 'further', 'then', 'once', 'here', 'there', 'when', 'where', 'why', 'how', 'all', 'any', 'both', 'each', 'few', 'more', 'most', 'other', 'some', 'such', 'no', 'nor', 'not', 'only', 'own', 'same', 'so', 'than', 'too', 'very', 's', 't', 'can', 'will', 'just', 'don', \"don't\", 'should', \"should've\", 'now', 'd', 'll', 'm', 'o', 're', 've', 'y', 'ain', 'aren', \"aren't\", 'couldn', \"couldn't\", 'didn', \"didn't\", 'doesn', \"doesn't\", 'hadn', \"hadn't\", 'hasn', \"hasn't\", 'haven', \"haven't\", 'isn', \"isn't\", 'ma', 'mightn', \"mightn't\", 'mustn', \"mustn't\", 'needn', \"needn't\", 'shan', \"shan't\", 'shouldn', \"shouldn't\", 'wasn', \"wasn't\", 'weren', \"weren't\", 'won', \"won't\", 'wouldn', \"wouldn't\"]\n",
            "\n",
            "['Golden', 'Retrievers', 'good', 'family', 'dogs', 'extremely', 'sweet', 'gentle', 'young', 'children', 'bark', 'much', '.', 'They', 'known', 'soft', 'mouth', ',', 'even', 'seen', 'carrying', 'raw', 'eggs', 'mouth', 'without', 'breaking', 'them.', '[', 'source', '?', ']', 'Goldens', 'well', 'known', 'calm', 'easy', 'going', 'temperament', '.', 'They', 'great', 'family', 'dogs', 'provide', 'good', 'companionship', '.', 'They', 'smart', 'eager', 'please', ',', 'allows', 'easily', 'trained', '.', 'Golden', 'Retrievers', 'active', 'dogs', 'need', 'lot', 'exercise', '.', 'Goldens', 'make', 'wonderful', 'pets', ',', 'need', 'exercised', 'regularly', 'prevent', 'weight', 'gain', 'promote', 'overall', 'health', '.', 'They', 'require', 'great', 'deal', 'grooming', ',', 'shed', 'hair', 'daily', '.', 'Goldens', 'also', 'enjoy', 'cool', 'water', '.']\n"
          ]
        }
      ]
    },
    {
      "cell_type": "markdown",
      "source": [
        "## 5. Count Word Frequency (*extra*)"
      ],
      "metadata": {
        "id": "LRqcyQb3svY8"
      }
    },
    {
      "cell_type": "code",
      "source": [
        "tokens = words[:]\n",
        "freq = nltk.FreqDist(tokens)\n",
        "\n",
        "dict1 = {}\n",
        "for key,val in freq.items():\n",
        "  dict1[key] = val\n",
        "\n",
        "print(dict1)\n",
        "freq.plot(20, cumulative=False)"
      ],
      "metadata": {
        "colab": {
          "base_uri": "https://localhost:8080/",
          "height": 358
        },
        "id": "dTrPxSIusxq7",
        "outputId": "a7e3d16f-a923-461a-e987-8888f63bc8e1"
      },
      "execution_count": 39,
      "outputs": [
        {
          "output_type": "stream",
          "name": "stdout",
          "text": [
            "{'Golden': 2, 'Retrievers': 2, 'are': 7, 'very': 4, 'good': 2, 'family': 2, 'dogs': 3, 'because': 1, 'they': 3, 'extremely': 1, 'sweet': 1, 'and': 8, 'gentle': 1, 'with': 1, 'young': 1, 'children': 1, 'do': 1, 'not': 1, 'bark': 1, 'much': 1, '.': 8, 'They': 4, 'known': 2, 'for': 2, 'having': 1, 'a': 3, 'soft': 1, 'mouth': 2, ',': 4, 'some': 1, 'have': 1, 'even': 1, 'been': 1, 'seen': 1, 'carrying': 1, 'raw': 1, 'eggs': 1, 'in': 1, 'their': 2, 'without': 1, 'breaking': 1, 'them.': 1, '[': 1, 'source': 1, '?': 1, ']': 1, 'Goldens': 3, 'well': 1, 'calm': 1, 'easy': 1, 'going': 1, 'temperament': 1, 'great': 2, 'provide': 1, 'companionship': 1, 'smart': 1, 'eager': 1, 'to': 4, 'please': 1, 'which': 1, 'allows': 1, 'them': 1, 'be': 2, 'easily': 1, 'trained': 1, 'active': 1, 'need': 2, 'lot': 1, 'of': 2, 'exercise': 1, 'make': 1, 'wonderful': 1, 'pets': 1, 'but': 1, 'exercised': 1, 'regularly': 1, 'prevent': 1, 'weight': 1, 'gain': 1, 'promote': 1, 'overall': 1, 'health': 1, 'require': 1, 'deal': 1, 'grooming': 1, 'as': 1, 'shed': 1, 'hair': 1, 'daily': 1, 'also': 1, 'enjoy': 1, 'the': 1, 'cool': 1, 'water': 1}\n"
          ]
        },
        {
          "output_type": "display_data",
          "data": {
            "text/plain": [
              "<Figure size 432x288 with 1 Axes>"
            ],
            "image/png": "[encoded data removed]"
          },
          "metadata": {
            "needs_background": "light"
          }
        }
      ]
    }
  ]
}