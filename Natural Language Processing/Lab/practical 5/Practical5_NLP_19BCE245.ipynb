{
  "nbformat": 4,
  "nbformat_minor": 0,
  "metadata": {
    "colab": {
      "name": "Practical5-NLP-19BCE245.ipynb",
      "provenance": []
    },
    "kernelspec": {
      "name": "python3",
      "display_name": "Python 3"
    },
    "language_info": {
      "name": "python"
    }
  },
  "cells": [
    {
      "cell_type": "markdown",
      "source": [
        "# NLP Practical 5 \n",
        "> 19BCE245 - Aayush Shah\n",
        "\n",
        "- Explore and understand `Sequence to Sequence` learning (`RNN`, `LSTM`, `GRU` based processing of text data)"
      ],
      "metadata": {
        "id": "EIWeYj4MRK-K"
      }
    },
    {
      "cell_type": "code",
      "execution_count": null,
      "metadata": {
        "id": "bpEXVMw6zWlA"
      },
      "outputs": [],
      "source": [
        "import numpy as np\n",
        "import matplotlib.pyplot as plt\n",
        "import pandas as pd\n",
        "from tensorflow.keras.models import Sequential\n",
        "from tensorflow.keras.layers import Dense, LSTM,GRU,SimpleRNN\n",
        "from sklearn.preprocessing import MinMaxScaler\n",
        "from sklearn.metrics import mean_squared_error"
      ]
    },
    {
      "cell_type": "code",
      "source": [
        "# !wget https://raw.githubusercontent.com/jbrownlee/Datasets/master/auto-insurance.csv\n",
        "!wget https://raw.githubusercontent.com/jbrownlee/Datasets/master/airline-passengers.csv"
      ],
      "metadata": {
        "colab": {
          "base_uri": "https://localhost:8080/"
        },
        "id": "_mTKN9ZmdwmL",
        "outputId": "4577fcf4-46bc-460a-b3ca-1c5268a4ad2d"
      },
      "execution_count": null,
      "outputs": [
        {
          "output_type": "stream",
          "name": "stdout",
          "text": [
            "--2022-03-28 10:00:17--  https://raw.githubusercontent.com/jbrownlee/Datasets/master/airline-passengers.csv\n",
            "Resolving raw.githubusercontent.com (raw.githubusercontent.com)... 185.199.111.133, 185.199.109.133, 185.199.110.133, ...\n",
            "Connecting to raw.githubusercontent.com (raw.githubusercontent.com)|185.199.111.133|:443... connected.\n",
            "HTTP request sent, awaiting response... 200 OK\n",
            "Length: 2180 (2.1K) [text/plain]\n",
            "Saving to: ‘airline-passengers.csv.3’\n",
            "\n",
            "\rairline-passengers.   0%[                    ]       0  --.-KB/s               \rairline-passengers. 100%[===================>]   2.13K  --.-KB/s    in 0s      \n",
            "\n",
            "2022-03-28 10:00:17 (30.2 MB/s) - ‘airline-passengers.csv.3’ saved [2180/2180]\n",
            "\n"
          ]
        }
      ]
    },
    {
      "cell_type": "code",
      "source": [
        "# df = pd.read_csv('auto-insurance.csv')\n",
        "df = pd.read_csv('airline-passengers.csv')\n",
        "df.head(15)"
      ],
      "metadata": {
        "colab": {
          "base_uri": "https://localhost:8080/",
          "height": 520
        },
        "id": "ukuNG95QdyH_",
        "outputId": "e8ba7096-7cff-4fee-d10c-45780f888923"
      },
      "execution_count": null,
      "outputs": [
        {
          "output_type": "execute_result",
          "data": {
            "text/plain": [
              "      Month  Passengers\n",
              "0   1949-01         112\n",
              "1   1949-02         118\n",
              "2   1949-03         132\n",
              "3   1949-04         129\n",
              "4   1949-05         121\n",
              "5   1949-06         135\n",
              "6   1949-07         148\n",
              "7   1949-08         148\n",
              "8   1949-09         136\n",
              "9   1949-10         119\n",
              "10  1949-11         104\n",
              "11  1949-12         118\n",
              "12  1950-01         115\n",
              "13  1950-02         126\n",
              "14  1950-03         141"
            ],
            "text/html": [
              "\n",
              "  <div id=\"df-a9f760a1-2299-4ca3-a60f-93dc126ad88a\">\n",
              "    <div class=\"colab-df-container\">\n",
              "      <div>\n",
              "<style scoped>\n",
              "    .dataframe tbody tr th:only-of-type {\n",
              "        vertical-align: middle;\n",
              "    }\n",
              "\n",
              "    .dataframe tbody tr th {\n",
              "        vertical-align: top;\n",
              "    }\n",
              "\n",
              "    .dataframe thead th {\n",
              "        text-align: right;\n",
              "    }\n",
              "</style>\n",
              "<table border=\"1\" class=\"dataframe\">\n",
              "  <thead>\n",
              "    <tr style=\"text-align: right;\">\n",
              "      <th></th>\n",
              "      <th>Month</th>\n",
              "      <th>Passengers</th>\n",
              "    </tr>\n",
              "  </thead>\n",
              "  <tbody>\n",
              "    <tr>\n",
              "      <th>0</th>\n",
              "      <td>1949-01</td>\n",
              "      <td>112</td>\n",
              "    </tr>\n",
              "    <tr>\n",
              "      <th>1</th>\n",
              "      <td>1949-02</td>\n",
              "      <td>118</td>\n",
              "    </tr>\n",
              "    <tr>\n",
              "      <th>2</th>\n",
              "      <td>1949-03</td>\n",
              "      <td>132</td>\n",
              "    </tr>\n",
              "    <tr>\n",
              "      <th>3</th>\n",
              "      <td>1949-04</td>\n",
              "      <td>129</td>\n",
              "    </tr>\n",
              "    <tr>\n",
              "      <th>4</th>\n",
              "      <td>1949-05</td>\n",
              "      <td>121</td>\n",
              "    </tr>\n",
              "    <tr>\n",
              "      <th>5</th>\n",
              "      <td>1949-06</td>\n",
              "      <td>135</td>\n",
              "    </tr>\n",
              "    <tr>\n",
              "      <th>6</th>\n",
              "      <td>1949-07</td>\n",
              "      <td>148</td>\n",
              "    </tr>\n",
              "    <tr>\n",
              "      <th>7</th>\n",
              "      <td>1949-08</td>\n",
              "      <td>148</td>\n",
              "    </tr>\n",
              "    <tr>\n",
              "      <th>8</th>\n",
              "      <td>1949-09</td>\n",
              "      <td>136</td>\n",
              "    </tr>\n",
              "    <tr>\n",
              "      <th>9</th>\n",
              "      <td>1949-10</td>\n",
              "      <td>119</td>\n",
              "    </tr>\n",
              "    <tr>\n",
              "      <th>10</th>\n",
              "      <td>1949-11</td>\n",
              "      <td>104</td>\n",
              "    </tr>\n",
              "    <tr>\n",
              "      <th>11</th>\n",
              "      <td>1949-12</td>\n",
              "      <td>118</td>\n",
              "    </tr>\n",
              "    <tr>\n",
              "      <th>12</th>\n",
              "      <td>1950-01</td>\n",
              "      <td>115</td>\n",
              "    </tr>\n",
              "    <tr>\n",
              "      <th>13</th>\n",
              "      <td>1950-02</td>\n",
              "      <td>126</td>\n",
              "    </tr>\n",
              "    <tr>\n",
              "      <th>14</th>\n",
              "      <td>1950-03</td>\n",
              "      <td>141</td>\n",
              "    </tr>\n",
              "  </tbody>\n",
              "</table>\n",
              "</div>\n",
              "      <button class=\"colab-df-convert\" onclick=\"convertToInteractive('df-a9f760a1-2299-4ca3-a60f-93dc126ad88a')\"\n",
              "              title=\"Convert this dataframe to an interactive table.\"\n",
              "              style=\"display:none;\">\n",
              "        \n",
              "  <svg xmlns=\"http://www.w3.org/2000/svg\" height=\"24px\"viewBox=\"0 0 24 24\"\n",
              "       width=\"24px\">\n",
              "    <path d=\"M0 0h24v24H0V0z\" fill=\"none\"/>\n",
              "    <path d=\"M18.56 5.44l.94 2.06.94-2.06 2.06-.94-2.06-.94-.94-2.06-.94 2.06-2.06.94zm-11 1L8.5 8.5l.94-2.06 2.06-.94-2.06-.94L8.5 2.5l-.94 2.06-2.06.94zm10 10l.94 2.06.94-2.06 2.06-.94-2.06-.94-.94-2.06-.94 2.06-2.06.94z\"/><path d=\"M17.41 7.96l-1.37-1.37c-.4-.4-.92-.59-1.43-.59-.52 0-1.04.2-1.43.59L10.3 9.45l-7.72 7.72c-.78.78-.78 2.05 0 2.83L4 21.41c.39.39.9.59 1.41.59.51 0 1.02-.2 1.41-.59l7.78-7.78 2.81-2.81c.8-.78.8-2.07 0-2.86zM5.41 20L4 18.59l7.72-7.72 1.47 1.35L5.41 20z\"/>\n",
              "  </svg>\n",
              "      </button>\n",
              "      \n",
              "  <style>\n",
              "    .colab-df-container {\n",
              "      display:flex;\n",
              "      flex-wrap:wrap;\n",
              "      gap: 12px;\n",
              "    }\n",
              "\n",
              "    .colab-df-convert {\n",
              "      background-color: #E8F0FE;\n",
              "      border: none;\n",
              "      border-radius: 50%;\n",
              "      cursor: pointer;\n",
              "      display: none;\n",
              "      fill: #1967D2;\n",
              "      height: 32px;\n",
              "      padding: 0 0 0 0;\n",
              "      width: 32px;\n",
              "    }\n",
              "\n",
              "    .colab-df-convert:hover {\n",
              "      background-color: #E2EBFA;\n",
              "      box-shadow: 0px 1px 2px rgba(60, 64, 67, 0.3), 0px 1px 3px 1px rgba(60, 64, 67, 0.15);\n",
              "      fill: #174EA6;\n",
              "    }\n",
              "\n",
              "    [theme=dark] .colab-df-convert {\n",
              "      background-color: #3B4455;\n",
              "      fill: #D2E3FC;\n",
              "    }\n",
              "\n",
              "    [theme=dark] .colab-df-convert:hover {\n",
              "      background-color: #434B5C;\n",
              "      box-shadow: 0px 1px 3px 1px rgba(0, 0, 0, 0.15);\n",
              "      filter: drop-shadow(0px 1px 2px rgba(0, 0, 0, 0.3));\n",
              "      fill: #FFFFFF;\n",
              "    }\n",
              "  </style>\n",
              "\n",
              "      <script>\n",
              "        const buttonEl =\n",
              "          document.querySelector('#df-a9f760a1-2299-4ca3-a60f-93dc126ad88a button.colab-df-convert');\n",
              "        buttonEl.style.display =\n",
              "          google.colab.kernel.accessAllowed ? 'block' : 'none';\n",
              "\n",
              "        async function convertToInteractive(key) {\n",
              "          const element = document.querySelector('#df-a9f760a1-2299-4ca3-a60f-93dc126ad88a');\n",
              "          const dataTable =\n",
              "            await google.colab.kernel.invokeFunction('convertToInteractive',\n",
              "                                                     [key], {});\n",
              "          if (!dataTable) return;\n",
              "\n",
              "          const docLinkHtml = 'Like what you see? Visit the ' +\n",
              "            '<a target=\"_blank\" href=https://colab.research.google.com/notebooks/data_table.ipynb>data table notebook</a>'\n",
              "            + ' to learn more about interactive tables.';\n",
              "          element.innerHTML = '';\n",
              "          dataTable['output_type'] = 'display_data';\n",
              "          await google.colab.output.renderOutput(dataTable, element);\n",
              "          const docLink = document.createElement('div');\n",
              "          docLink.innerHTML = docLinkHtml;\n",
              "          element.appendChild(docLink);\n",
              "        }\n",
              "      </script>\n",
              "    </div>\n",
              "  </div>\n",
              "  "
            ]
          },
          "metadata": {},
          "execution_count": 100
        }
      ]
    },
    {
      "cell_type": "code",
      "source": [
        "df.columns =['Month', 'Passengers']\n",
        "df1 = df.drop(['Month'],axis=1)\n",
        "dataset = df1.values\n",
        "\n",
        "plt.plot(dataset)\n",
        "plt.xlabel(\"Months\")\n",
        "plt.ylabel(\"No of passengers\")"
      ],
      "metadata": {
        "colab": {
          "base_uri": "https://localhost:8080/",
          "height": 297
        },
        "id": "EK9EMBryelEQ",
        "outputId": "f36b4c2b-94ee-4ac8-be58-4444de6a4c7f"
      },
      "execution_count": null,
      "outputs": [
        {
          "output_type": "execute_result",
          "data": {
            "text/plain": [
              "Text(0, 0.5, 'No of passengers')"
            ]
          },
          "metadata": {},
          "execution_count": 101
        },
        {
          "output_type": "display_data",
          "data": {
            "text/plain": [
              "<Figure size 432x288 with 1 Axes>"
            ],
            "image/png": "[encoded data removed]"
          },
          "metadata": {
            "needs_background": "light"
          }
        }
      ]
    },
    {
      "cell_type": "code",
      "source": [
        "scaler = MinMaxScaler()\n",
        "dataset = scaler.fit_transform(dataset)"
      ],
      "metadata": {
        "id": "8bKk2KPwgdfl"
      },
      "execution_count": null,
      "outputs": []
    },
    {
      "cell_type": "code",
      "source": [
        "df.head()"
      ],
      "metadata": {
        "id": "cTY0TKHBuO7t",
        "outputId": "6ee10faf-921c-4306-a778-9e9626ab2722",
        "colab": {
          "base_uri": "https://localhost:8080/",
          "height": 206
        }
      },
      "execution_count": null,
      "outputs": [
        {
          "output_type": "execute_result",
          "data": {
            "text/plain": [
              "     Month  Passengers\n",
              "0  1949-01         112\n",
              "1  1949-02         118\n",
              "2  1949-03         132\n",
              "3  1949-04         129\n",
              "4  1949-05         121"
            ],
            "text/html": [
              "\n",
              "  <div id=\"df-7866f7bc-a214-4756-aa1d-ab2537b73289\">\n",
              "    <div class=\"colab-df-container\">\n",
              "      <div>\n",
              "<style scoped>\n",
              "    .dataframe tbody tr th:only-of-type {\n",
              "        vertical-align: middle;\n",
              "    }\n",
              "\n",
              "    .dataframe tbody tr th {\n",
              "        vertical-align: top;\n",
              "    }\n",
              "\n",
              "    .dataframe thead th {\n",
              "        text-align: right;\n",
              "    }\n",
              "</style>\n",
              "<table border=\"1\" class=\"dataframe\">\n",
              "  <thead>\n",
              "    <tr style=\"text-align: right;\">\n",
              "      <th></th>\n",
              "      <th>Month</th>\n",
              "      <th>Passengers</th>\n",
              "    </tr>\n",
              "  </thead>\n",
              "  <tbody>\n",
              "    <tr>\n",
              "      <th>0</th>\n",
              "      <td>1949-01</td>\n",
              "      <td>112</td>\n",
              "    </tr>\n",
              "    <tr>\n",
              "      <th>1</th>\n",
              "      <td>1949-02</td>\n",
              "      <td>118</td>\n",
              "    </tr>\n",
              "    <tr>\n",
              "      <th>2</th>\n",
              "      <td>1949-03</td>\n",
              "      <td>132</td>\n",
              "    </tr>\n",
              "    <tr>\n",
              "      <th>3</th>\n",
              "      <td>1949-04</td>\n",
              "      <td>129</td>\n",
              "    </tr>\n",
              "    <tr>\n",
              "      <th>4</th>\n",
              "      <td>1949-05</td>\n",
              "      <td>121</td>\n",
              "    </tr>\n",
              "  </tbody>\n",
              "</table>\n",
              "</div>\n",
              "      <button class=\"colab-df-convert\" onclick=\"convertToInteractive('df-7866f7bc-a214-4756-aa1d-ab2537b73289')\"\n",
              "              title=\"Convert this dataframe to an interactive table.\"\n",
              "              style=\"display:none;\">\n",
              "        \n",
              "  <svg xmlns=\"http://www.w3.org/2000/svg\" height=\"24px\"viewBox=\"0 0 24 24\"\n",
              "       width=\"24px\">\n",
              "    <path d=\"M0 0h24v24H0V0z\" fill=\"none\"/>\n",
              "    <path d=\"M18.56 5.44l.94 2.06.94-2.06 2.06-.94-2.06-.94-.94-2.06-.94 2.06-2.06.94zm-11 1L8.5 8.5l.94-2.06 2.06-.94-2.06-.94L8.5 2.5l-.94 2.06-2.06.94zm10 10l.94 2.06.94-2.06 2.06-.94-2.06-.94-.94-2.06-.94 2.06-2.06.94z\"/><path d=\"M17.41 7.96l-1.37-1.37c-.4-.4-.92-.59-1.43-.59-.52 0-1.04.2-1.43.59L10.3 9.45l-7.72 7.72c-.78.78-.78 2.05 0 2.83L4 21.41c.39.39.9.59 1.41.59.51 0 1.02-.2 1.41-.59l7.78-7.78 2.81-2.81c.8-.78.8-2.07 0-2.86zM5.41 20L4 18.59l7.72-7.72 1.47 1.35L5.41 20z\"/>\n",
              "  </svg>\n",
              "      </button>\n",
              "      \n",
              "  <style>\n",
              "    .colab-df-container {\n",
              "      display:flex;\n",
              "      flex-wrap:wrap;\n",
              "      gap: 12px;\n",
              "    }\n",
              "\n",
              "    .colab-df-convert {\n",
              "      background-color: #E8F0FE;\n",
              "      border: none;\n",
              "      border-radius: 50%;\n",
              "      cursor: pointer;\n",
              "      display: none;\n",
              "      fill: #1967D2;\n",
              "      height: 32px;\n",
              "      padding: 0 0 0 0;\n",
              "      width: 32px;\n",
              "    }\n",
              "\n",
              "    .colab-df-convert:hover {\n",
              "      background-color: #E2EBFA;\n",
              "      box-shadow: 0px 1px 2px rgba(60, 64, 67, 0.3), 0px 1px 3px 1px rgba(60, 64, 67, 0.15);\n",
              "      fill: #174EA6;\n",
              "    }\n",
              "\n",
              "    [theme=dark] .colab-df-convert {\n",
              "      background-color: #3B4455;\n",
              "      fill: #D2E3FC;\n",
              "    }\n",
              "\n",
              "    [theme=dark] .colab-df-convert:hover {\n",
              "      background-color: #434B5C;\n",
              "      box-shadow: 0px 1px 3px 1px rgba(0, 0, 0, 0.15);\n",
              "      filter: drop-shadow(0px 1px 2px rgba(0, 0, 0, 0.3));\n",
              "      fill: #FFFFFF;\n",
              "    }\n",
              "  </style>\n",
              "\n",
              "      <script>\n",
              "        const buttonEl =\n",
              "          document.querySelector('#df-7866f7bc-a214-4756-aa1d-ab2537b73289 button.colab-df-convert');\n",
              "        buttonEl.style.display =\n",
              "          google.colab.kernel.accessAllowed ? 'block' : 'none';\n",
              "\n",
              "        async function convertToInteractive(key) {\n",
              "          const element = document.querySelector('#df-7866f7bc-a214-4756-aa1d-ab2537b73289');\n",
              "          const dataTable =\n",
              "            await google.colab.kernel.invokeFunction('convertToInteractive',\n",
              "                                                     [key], {});\n",
              "          if (!dataTable) return;\n",
              "\n",
              "          const docLinkHtml = 'Like what you see? Visit the ' +\n",
              "            '<a target=\"_blank\" href=https://colab.research.google.com/notebooks/data_table.ipynb>data table notebook</a>'\n",
              "            + ' to learn more about interactive tables.';\n",
              "          element.innerHTML = '';\n",
              "          dataTable['output_type'] = 'display_data';\n",
              "          await google.colab.output.renderOutput(dataTable, element);\n",
              "          const docLink = document.createElement('div');\n",
              "          docLink.innerHTML = docLinkHtml;\n",
              "          element.appendChild(docLink);\n",
              "        }\n",
              "      </script>\n",
              "    </div>\n",
              "  </div>\n",
              "  "
            ]
          },
          "metadata": {},
          "execution_count": 103
        }
      ]
    },
    {
      "cell_type": "code",
      "source": [
        "train_size = int(len(dataset)*0.75)\n",
        "test_size = len(dataset) - train_size\n",
        "\n",
        "train=dataset[:train_size,:]\n",
        "test=dataset[train_size:,:]\n",
        "print(train)"
      ],
      "metadata": {
        "id": "c5uPBHN7gzRL",
        "colab": {
          "base_uri": "https://localhost:8080/"
        },
        "outputId": "4cd68261-9797-45ab-da1b-9ab89c13d122"
      },
      "execution_count": null,
      "outputs": [
        {
          "output_type": "stream",
          "name": "stdout",
          "text": [
            "[[0.01544402]\n",
            " [0.02702703]\n",
            " [0.05405405]\n",
            " [0.04826255]\n",
            " [0.03281853]\n",
            " [0.05984556]\n",
            " [0.08494208]\n",
            " [0.08494208]\n",
            " [0.06177606]\n",
            " [0.02895753]\n",
            " [0.        ]\n",
            " [0.02702703]\n",
            " [0.02123552]\n",
            " [0.04247104]\n",
            " [0.07142857]\n",
            " [0.05984556]\n",
            " [0.04054054]\n",
            " [0.08687259]\n",
            " [0.12741313]\n",
            " [0.12741313]\n",
            " [0.1042471 ]\n",
            " [0.05598456]\n",
            " [0.01930502]\n",
            " [0.06949807]\n",
            " [0.07915058]\n",
            " [0.08880309]\n",
            " [0.14285714]\n",
            " [0.11389961]\n",
            " [0.13127413]\n",
            " [0.14285714]\n",
            " [0.18339768]\n",
            " [0.18339768]\n",
            " [0.15444015]\n",
            " [0.11196911]\n",
            " [0.08108108]\n",
            " [0.11969112]\n",
            " [0.12934363]\n",
            " [0.14671815]\n",
            " [0.17181467]\n",
            " [0.14864865]\n",
            " [0.15250965]\n",
            " [0.22007722]\n",
            " [0.24324324]\n",
            " [0.26640927]\n",
            " [0.2027027 ]\n",
            " [0.16795367]\n",
            " [0.13127413]\n",
            " [0.17374517]\n",
            " [0.17760618]\n",
            " [0.17760618]\n",
            " [0.25482625]\n",
            " [0.25289575]\n",
            " [0.24131274]\n",
            " [0.26833977]\n",
            " [0.30888031]\n",
            " [0.32432432]\n",
            " [0.25675676]\n",
            " [0.20656371]\n",
            " [0.14671815]\n",
            " [0.18725869]\n",
            " [0.19305019]\n",
            " [0.16216216]\n",
            " [0.25289575]\n",
            " [0.23745174]\n",
            " [0.25096525]\n",
            " [0.30888031]\n",
            " [0.38223938]\n",
            " [0.36486486]\n",
            " [0.2992278 ]\n",
            " [0.24131274]\n",
            " [0.19111969]\n",
            " [0.24131274]\n",
            " [0.26640927]\n",
            " [0.24903475]\n",
            " [0.31467181]\n",
            " [0.31853282]\n",
            " [0.32046332]\n",
            " [0.40733591]\n",
            " [0.5019305 ]\n",
            " [0.46911197]\n",
            " [0.4015444 ]\n",
            " [0.32818533]\n",
            " [0.25675676]\n",
            " [0.33590734]\n",
            " [0.34749035]\n",
            " [0.33397683]\n",
            " [0.41119691]\n",
            " [0.4034749 ]\n",
            " [0.41312741]\n",
            " [0.52123552]\n",
            " [0.5965251 ]\n",
            " [0.58108108]\n",
            " [0.48455598]\n",
            " [0.38996139]\n",
            " [0.32239382]\n",
            " [0.38996139]\n",
            " [0.40733591]\n",
            " [0.38030888]\n",
            " [0.48648649]\n",
            " [0.47104247]\n",
            " [0.48455598]\n",
            " [0.61389961]\n",
            " [0.6969112 ]\n",
            " [0.7007722 ]\n",
            " [0.57915058]\n",
            " [0.46911197]\n",
            " [0.38803089]\n",
            " [0.44787645]]\n"
          ]
        }
      ]
    },
    {
      "cell_type": "code",
      "source": [
        "def getdata(data,lookback):\n",
        "    X,Y=[],[]\n",
        "    for i in range(len(data)-lookback-1):\n",
        "        X.append(data[i:i+lookback,0])\n",
        "        Y.append(data[i+lookback,0])\n",
        "    return np.array(X),np.array(Y).reshape(-1,1)"
      ],
      "metadata": {
        "id": "KNBwZcA-rvxF"
      },
      "execution_count": null,
      "outputs": []
    },
    {
      "cell_type": "code",
      "source": [
        "lookback=1\n",
        "X_train,y_train=getdata(train,lookback)\n",
        "X_test,y_test=getdata(test,lookback)"
      ],
      "metadata": {
        "id": "FhB8NC5luI4o"
      },
      "execution_count": null,
      "outputs": []
    },
    {
      "cell_type": "code",
      "source": [
        "print(X_train)"
      ],
      "metadata": {
        "colab": {
          "base_uri": "https://localhost:8080/"
        },
        "id": "YK15ok8l9oI5",
        "outputId": "63161e23-d617-4c86-a2ee-32b9314d297b"
      },
      "execution_count": null,
      "outputs": [
        {
          "output_type": "stream",
          "name": "stdout",
          "text": [
            "[[0.01544402]\n",
            " [0.02702703]\n",
            " [0.05405405]\n",
            " [0.04826255]\n",
            " [0.03281853]\n",
            " [0.05984556]\n",
            " [0.08494208]\n",
            " [0.08494208]\n",
            " [0.06177606]\n",
            " [0.02895753]\n",
            " [0.        ]\n",
            " [0.02702703]\n",
            " [0.02123552]\n",
            " [0.04247104]\n",
            " [0.07142857]\n",
            " [0.05984556]\n",
            " [0.04054054]\n",
            " [0.08687259]\n",
            " [0.12741313]\n",
            " [0.12741313]\n",
            " [0.1042471 ]\n",
            " [0.05598456]\n",
            " [0.01930502]\n",
            " [0.06949807]\n",
            " [0.07915058]\n",
            " [0.08880309]\n",
            " [0.14285714]\n",
            " [0.11389961]\n",
            " [0.13127413]\n",
            " [0.14285714]\n",
            " [0.18339768]\n",
            " [0.18339768]\n",
            " [0.15444015]\n",
            " [0.11196911]\n",
            " [0.08108108]\n",
            " [0.11969112]\n",
            " [0.12934363]\n",
            " [0.14671815]\n",
            " [0.17181467]\n",
            " [0.14864865]\n",
            " [0.15250965]\n",
            " [0.22007722]\n",
            " [0.24324324]\n",
            " [0.26640927]\n",
            " [0.2027027 ]\n",
            " [0.16795367]\n",
            " [0.13127413]\n",
            " [0.17374517]\n",
            " [0.17760618]\n",
            " [0.17760618]\n",
            " [0.25482625]\n",
            " [0.25289575]\n",
            " [0.24131274]\n",
            " [0.26833977]\n",
            " [0.30888031]\n",
            " [0.32432432]\n",
            " [0.25675676]\n",
            " [0.20656371]\n",
            " [0.14671815]\n",
            " [0.18725869]\n",
            " [0.19305019]\n",
            " [0.16216216]\n",
            " [0.25289575]\n",
            " [0.23745174]\n",
            " [0.25096525]\n",
            " [0.30888031]\n",
            " [0.38223938]\n",
            " [0.36486486]\n",
            " [0.2992278 ]\n",
            " [0.24131274]\n",
            " [0.19111969]\n",
            " [0.24131274]\n",
            " [0.26640927]\n",
            " [0.24903475]\n",
            " [0.31467181]\n",
            " [0.31853282]\n",
            " [0.32046332]\n",
            " [0.40733591]\n",
            " [0.5019305 ]\n",
            " [0.46911197]\n",
            " [0.4015444 ]\n",
            " [0.32818533]\n",
            " [0.25675676]\n",
            " [0.33590734]\n",
            " [0.34749035]\n",
            " [0.33397683]\n",
            " [0.41119691]\n",
            " [0.4034749 ]\n",
            " [0.41312741]\n",
            " [0.52123552]\n",
            " [0.5965251 ]\n",
            " [0.58108108]\n",
            " [0.48455598]\n",
            " [0.38996139]\n",
            " [0.32239382]\n",
            " [0.38996139]\n",
            " [0.40733591]\n",
            " [0.38030888]\n",
            " [0.48648649]\n",
            " [0.47104247]\n",
            " [0.48455598]\n",
            " [0.61389961]\n",
            " [0.6969112 ]\n",
            " [0.7007722 ]\n",
            " [0.57915058]\n",
            " [0.46911197]]\n"
          ]
        }
      ]
    },
    {
      "cell_type": "code",
      "source": [
        "X_train=X_train.reshape(X_train.shape[0],X_train.shape[1],1)\n",
        "X_test=X_test.reshape(X_test.shape[0],X_test.shape[1],1)"
      ],
      "metadata": {
        "id": "qiRVFOTnuJWR"
      },
      "execution_count": null,
      "outputs": []
    },
    {
      "cell_type": "code",
      "source": [
        "print(X_train)"
      ],
      "metadata": {
        "colab": {
          "base_uri": "https://localhost:8080/"
        },
        "id": "3Hy57sAM9xbH",
        "outputId": "136f1ba1-36f9-4cad-dabb-63e60717f0cd"
      },
      "execution_count": null,
      "outputs": [
        {
          "output_type": "stream",
          "name": "stdout",
          "text": [
            "[[[0.01544402]]\n",
            "\n",
            " [[0.02702703]]\n",
            "\n",
            " [[0.05405405]]\n",
            "\n",
            " [[0.04826255]]\n",
            "\n",
            " [[0.03281853]]\n",
            "\n",
            " [[0.05984556]]\n",
            "\n",
            " [[0.08494208]]\n",
            "\n",
            " [[0.08494208]]\n",
            "\n",
            " [[0.06177606]]\n",
            "\n",
            " [[0.02895753]]\n",
            "\n",
            " [[0.        ]]\n",
            "\n",
            " [[0.02702703]]\n",
            "\n",
            " [[0.02123552]]\n",
            "\n",
            " [[0.04247104]]\n",
            "\n",
            " [[0.07142857]]\n",
            "\n",
            " [[0.05984556]]\n",
            "\n",
            " [[0.04054054]]\n",
            "\n",
            " [[0.08687259]]\n",
            "\n",
            " [[0.12741313]]\n",
            "\n",
            " [[0.12741313]]\n",
            "\n",
            " [[0.1042471 ]]\n",
            "\n",
            " [[0.05598456]]\n",
            "\n",
            " [[0.01930502]]\n",
            "\n",
            " [[0.06949807]]\n",
            "\n",
            " [[0.07915058]]\n",
            "\n",
            " [[0.08880309]]\n",
            "\n",
            " [[0.14285714]]\n",
            "\n",
            " [[0.11389961]]\n",
            "\n",
            " [[0.13127413]]\n",
            "\n",
            " [[0.14285714]]\n",
            "\n",
            " [[0.18339768]]\n",
            "\n",
            " [[0.18339768]]\n",
            "\n",
            " [[0.15444015]]\n",
            "\n",
            " [[0.11196911]]\n",
            "\n",
            " [[0.08108108]]\n",
            "\n",
            " [[0.11969112]]\n",
            "\n",
            " [[0.12934363]]\n",
            "\n",
            " [[0.14671815]]\n",
            "\n",
            " [[0.17181467]]\n",
            "\n",
            " [[0.14864865]]\n",
            "\n",
            " [[0.15250965]]\n",
            "\n",
            " [[0.22007722]]\n",
            "\n",
            " [[0.24324324]]\n",
            "\n",
            " [[0.26640927]]\n",
            "\n",
            " [[0.2027027 ]]\n",
            "\n",
            " [[0.16795367]]\n",
            "\n",
            " [[0.13127413]]\n",
            "\n",
            " [[0.17374517]]\n",
            "\n",
            " [[0.17760618]]\n",
            "\n",
            " [[0.17760618]]\n",
            "\n",
            " [[0.25482625]]\n",
            "\n",
            " [[0.25289575]]\n",
            "\n",
            " [[0.24131274]]\n",
            "\n",
            " [[0.26833977]]\n",
            "\n",
            " [[0.30888031]]\n",
            "\n",
            " [[0.32432432]]\n",
            "\n",
            " [[0.25675676]]\n",
            "\n",
            " [[0.20656371]]\n",
            "\n",
            " [[0.14671815]]\n",
            "\n",
            " [[0.18725869]]\n",
            "\n",
            " [[0.19305019]]\n",
            "\n",
            " [[0.16216216]]\n",
            "\n",
            " [[0.25289575]]\n",
            "\n",
            " [[0.23745174]]\n",
            "\n",
            " [[0.25096525]]\n",
            "\n",
            " [[0.30888031]]\n",
            "\n",
            " [[0.38223938]]\n",
            "\n",
            " [[0.36486486]]\n",
            "\n",
            " [[0.2992278 ]]\n",
            "\n",
            " [[0.24131274]]\n",
            "\n",
            " [[0.19111969]]\n",
            "\n",
            " [[0.24131274]]\n",
            "\n",
            " [[0.26640927]]\n",
            "\n",
            " [[0.24903475]]\n",
            "\n",
            " [[0.31467181]]\n",
            "\n",
            " [[0.31853282]]\n",
            "\n",
            " [[0.32046332]]\n",
            "\n",
            " [[0.40733591]]\n",
            "\n",
            " [[0.5019305 ]]\n",
            "\n",
            " [[0.46911197]]\n",
            "\n",
            " [[0.4015444 ]]\n",
            "\n",
            " [[0.32818533]]\n",
            "\n",
            " [[0.25675676]]\n",
            "\n",
            " [[0.33590734]]\n",
            "\n",
            " [[0.34749035]]\n",
            "\n",
            " [[0.33397683]]\n",
            "\n",
            " [[0.41119691]]\n",
            "\n",
            " [[0.4034749 ]]\n",
            "\n",
            " [[0.41312741]]\n",
            "\n",
            " [[0.52123552]]\n",
            "\n",
            " [[0.5965251 ]]\n",
            "\n",
            " [[0.58108108]]\n",
            "\n",
            " [[0.48455598]]\n",
            "\n",
            " [[0.38996139]]\n",
            "\n",
            " [[0.32239382]]\n",
            "\n",
            " [[0.38996139]]\n",
            "\n",
            " [[0.40733591]]\n",
            "\n",
            " [[0.38030888]]\n",
            "\n",
            " [[0.48648649]]\n",
            "\n",
            " [[0.47104247]]\n",
            "\n",
            " [[0.48455598]]\n",
            "\n",
            " [[0.61389961]]\n",
            "\n",
            " [[0.6969112 ]]\n",
            "\n",
            " [[0.7007722 ]]\n",
            "\n",
            " [[0.57915058]]\n",
            "\n",
            " [[0.46911197]]]\n"
          ]
        }
      ]
    },
    {
      "cell_type": "markdown",
      "source": [
        "### LSTM"
      ],
      "metadata": {
        "id": "0jJx5ENkvSyR"
      }
    },
    {
      "cell_type": "code",
      "source": [
        "model1=Sequential()\n",
        "model1.add(LSTM(5,input_shape=(1,lookback)))\n",
        "model1.add(Dense(1))\n",
        "model1.compile(loss='mean_squared_error',optimizer='adam')"
      ],
      "metadata": {
        "id": "Tv-vYwdHu1_a"
      },
      "execution_count": null,
      "outputs": []
    },
    {
      "cell_type": "code",
      "source": [
        "model1.fit(X_train, y_train, epochs=50, batch_size=1)\n",
        "y_pred = model1.predict(X_test)\n",
        "y_test1=scaler.inverse_transform(y_test)\n",
        "y_pred1=scaler.inverse_transform(y_pred)"
      ],
      "metadata": {
        "colab": {
          "base_uri": "https://localhost:8080/"
        },
        "id": "9WfX4CRuwPba",
        "outputId": "c292cece-c434-4ef6-8709-baef52ab4956"
      },
      "execution_count": null,
      "outputs": [
        {
          "output_type": "stream",
          "name": "stdout",
          "text": [
            "Epoch 1/50\n",
            "106/106 [==============================] - 2s 2ms/step - loss: 0.0658\n",
            "Epoch 2/50\n",
            "106/106 [==============================] - 0s 2ms/step - loss: 0.0316\n",
            "Epoch 3/50\n",
            "106/106 [==============================] - 0s 2ms/step - loss: 0.0232\n",
            "Epoch 4/50\n",
            "106/106 [==============================] - 0s 2ms/step - loss: 0.0208\n",
            "Epoch 5/50\n",
            "106/106 [==============================] - 0s 2ms/step - loss: 0.0187\n",
            "Epoch 6/50\n",
            "106/106 [==============================] - 0s 2ms/step - loss: 0.0169\n",
            "Epoch 7/50\n",
            "106/106 [==============================] - 0s 2ms/step - loss: 0.0152\n",
            "Epoch 8/50\n",
            "106/106 [==============================] - 0s 2ms/step - loss: 0.0133\n",
            "Epoch 9/50\n",
            "106/106 [==============================] - 0s 2ms/step - loss: 0.0118\n",
            "Epoch 10/50\n",
            "106/106 [==============================] - 0s 2ms/step - loss: 0.0099\n",
            "Epoch 11/50\n",
            "106/106 [==============================] - 0s 2ms/step - loss: 0.0084\n",
            "Epoch 12/50\n",
            "106/106 [==============================] - 0s 2ms/step - loss: 0.0070\n",
            "Epoch 13/50\n",
            "106/106 [==============================] - 0s 3ms/step - loss: 0.0059\n",
            "Epoch 14/50\n",
            "106/106 [==============================] - 0s 3ms/step - loss: 0.0049\n",
            "Epoch 15/50\n",
            "106/106 [==============================] - 0s 2ms/step - loss: 0.0042\n",
            "Epoch 16/50\n",
            "106/106 [==============================] - 0s 2ms/step - loss: 0.0036\n",
            "Epoch 17/50\n",
            "106/106 [==============================] - 0s 2ms/step - loss: 0.0032\n",
            "Epoch 18/50\n",
            "106/106 [==============================] - 0s 2ms/step - loss: 0.0029\n",
            "Epoch 19/50\n",
            "106/106 [==============================] - 0s 2ms/step - loss: 0.0028\n",
            "Epoch 20/50\n",
            "106/106 [==============================] - 0s 2ms/step - loss: 0.0027\n",
            "Epoch 21/50\n",
            "106/106 [==============================] - 0s 2ms/step - loss: 0.0026\n",
            "Epoch 22/50\n",
            "106/106 [==============================] - 0s 2ms/step - loss: 0.0026\n",
            "Epoch 23/50\n",
            "106/106 [==============================] - 0s 2ms/step - loss: 0.0026\n",
            "Epoch 24/50\n",
            "106/106 [==============================] - 0s 2ms/step - loss: 0.0026\n",
            "Epoch 25/50\n",
            "106/106 [==============================] - 0s 2ms/step - loss: 0.0026\n",
            "Epoch 26/50\n",
            "106/106 [==============================] - 0s 2ms/step - loss: 0.0025\n",
            "Epoch 27/50\n",
            "106/106 [==============================] - 0s 2ms/step - loss: 0.0026\n",
            "Epoch 28/50\n",
            "106/106 [==============================] - 0s 2ms/step - loss: 0.0025\n",
            "Epoch 29/50\n",
            "106/106 [==============================] - 0s 2ms/step - loss: 0.0025\n",
            "Epoch 30/50\n",
            "106/106 [==============================] - 0s 2ms/step - loss: 0.0024\n",
            "Epoch 31/50\n",
            "106/106 [==============================] - 0s 2ms/step - loss: 0.0026\n",
            "Epoch 32/50\n",
            "106/106 [==============================] - 0s 2ms/step - loss: 0.0025\n",
            "Epoch 33/50\n",
            "106/106 [==============================] - 0s 2ms/step - loss: 0.0025\n",
            "Epoch 34/50\n",
            "106/106 [==============================] - 0s 2ms/step - loss: 0.0025\n",
            "Epoch 35/50\n",
            "106/106 [==============================] - 0s 2ms/step - loss: 0.0026\n",
            "Epoch 36/50\n",
            "106/106 [==============================] - 0s 2ms/step - loss: 0.0025\n",
            "Epoch 37/50\n",
            "106/106 [==============================] - 0s 2ms/step - loss: 0.0025\n",
            "Epoch 38/50\n",
            "106/106 [==============================] - 0s 2ms/step - loss: 0.0026\n",
            "Epoch 39/50\n",
            "106/106 [==============================] - 0s 2ms/step - loss: 0.0026\n",
            "Epoch 40/50\n",
            "106/106 [==============================] - 0s 2ms/step - loss: 0.0025\n",
            "Epoch 41/50\n",
            "106/106 [==============================] - 0s 2ms/step - loss: 0.0025\n",
            "Epoch 42/50\n",
            "106/106 [==============================] - 0s 2ms/step - loss: 0.0025\n",
            "Epoch 43/50\n",
            "106/106 [==============================] - 0s 2ms/step - loss: 0.0025\n",
            "Epoch 44/50\n",
            "106/106 [==============================] - 0s 2ms/step - loss: 0.0026\n",
            "Epoch 45/50\n",
            "106/106 [==============================] - 0s 2ms/step - loss: 0.0025\n",
            "Epoch 46/50\n",
            "106/106 [==============================] - 0s 2ms/step - loss: 0.0025\n",
            "Epoch 47/50\n",
            "106/106 [==============================] - 0s 2ms/step - loss: 0.0025\n",
            "Epoch 48/50\n",
            "106/106 [==============================] - 0s 3ms/step - loss: 0.0026\n",
            "Epoch 49/50\n",
            "106/106 [==============================] - 0s 3ms/step - loss: 0.0025\n",
            "Epoch 50/50\n",
            "106/106 [==============================] - 0s 4ms/step - loss: 0.0027\n"
          ]
        }
      ]
    },
    {
      "cell_type": "code",
      "source": [
        "plt.figure(figsize=(14,5))\n",
        "plt.plot(y_test1, label = 'Real number of passengers')\n",
        "plt.plot(y_pred1, label = 'Predicted number of passengers')\n",
        "plt.ylabel('# passengers LSTM')\n",
        "plt.legend()\n",
        "plt.show()"
      ],
      "metadata": {
        "colab": {
          "base_uri": "https://localhost:8080/",
          "height": 320
        },
        "id": "RqRMEnjAwZBb",
        "outputId": "e8ab48dd-c770-42ef-cb4f-9072737948d2"
      },
      "execution_count": null,
      "outputs": [
        {
          "output_type": "display_data",
          "data": {
            "text/plain": [
              "<Figure size 1008x360 with 1 Axes>"
            ],
            "image/png": "[encoded data removed]"
          },
          "metadata": {
            "needs_background": "light"
          }
        }
      ]
    },
    {
      "cell_type": "code",
      "source": [
        "mean_squared_error(y_test1,y_pred1)"
      ],
      "metadata": {
        "colab": {
          "base_uri": "https://localhost:8080/"
        },
        "id": "XCWXujwYx6Nj",
        "outputId": "550d9953-c5da-4cb9-ce07-347db913729a"
      },
      "execution_count": null,
      "outputs": [
        {
          "output_type": "execute_result",
          "data": {
            "text/plain": [
              "2447.7071476609667"
            ]
          },
          "metadata": {},
          "execution_count": 89
        }
      ]
    },
    {
      "cell_type": "markdown",
      "source": [
        "### RNN"
      ],
      "metadata": {
        "id": "g4j3ysfVvgUs"
      }
    },
    {
      "cell_type": "code",
      "source": [
        "model2=Sequential()\n",
        "model2.add(SimpleRNN(5,input_shape=(1,lookback)))\n",
        "model2.add(Dense(1))\n",
        "model2.compile(loss='mean_squared_error',optimizer='adam')"
      ],
      "metadata": {
        "id": "M0kILCGbvWOE"
      },
      "execution_count": null,
      "outputs": []
    },
    {
      "cell_type": "code",
      "source": [
        "model2.fit(X_train, y_train, epochs=50, batch_size=1)\n",
        "y_pred=model2.predict(X_test)\n",
        "y_test2=scaler.inverse_transform(y_test)\n",
        "y_pred2=scaler.inverse_transform(y_pred)"
      ],
      "metadata": {
        "colab": {
          "base_uri": "https://localhost:8080/"
        },
        "id": "GwCiicbkwili",
        "outputId": "bd57b3a5-b885-4543-9804-8f01e265244b"
      },
      "execution_count": null,
      "outputs": [
        {
          "output_type": "stream",
          "name": "stdout",
          "text": [
            "Epoch 1/50\n",
            "106/106 [==============================] - 2s 3ms/step - loss: 0.0028\n",
            "Epoch 2/50\n",
            "106/106 [==============================] - 0s 3ms/step - loss: 0.0026\n",
            "Epoch 3/50\n",
            "106/106 [==============================] - 0s 3ms/step - loss: 0.0024\n",
            "Epoch 4/50\n",
            "106/106 [==============================] - 0s 3ms/step - loss: 0.0025\n",
            "Epoch 5/50\n",
            "106/106 [==============================] - 0s 3ms/step - loss: 0.0025\n",
            "Epoch 6/50\n",
            "106/106 [==============================] - 0s 3ms/step - loss: 0.0024\n",
            "Epoch 7/50\n",
            "106/106 [==============================] - 0s 3ms/step - loss: 0.0025\n",
            "Epoch 8/50\n",
            "106/106 [==============================] - 0s 3ms/step - loss: 0.0025\n",
            "Epoch 9/50\n",
            "106/106 [==============================] - 0s 3ms/step - loss: 0.0024\n",
            "Epoch 10/50\n",
            "106/106 [==============================] - 0s 3ms/step - loss: 0.0025\n",
            "Epoch 11/50\n",
            "106/106 [==============================] - 0s 3ms/step - loss: 0.0024\n",
            "Epoch 12/50\n",
            "106/106 [==============================] - 0s 3ms/step - loss: 0.0028\n",
            "Epoch 13/50\n",
            "106/106 [==============================] - 0s 3ms/step - loss: 0.0024\n",
            "Epoch 14/50\n",
            "106/106 [==============================] - 0s 4ms/step - loss: 0.0025\n",
            "Epoch 15/50\n",
            "106/106 [==============================] - 0s 3ms/step - loss: 0.0026\n",
            "Epoch 16/50\n",
            "106/106 [==============================] - 0s 3ms/step - loss: 0.0026\n",
            "Epoch 17/50\n",
            "106/106 [==============================] - 0s 3ms/step - loss: 0.0026\n",
            "Epoch 18/50\n",
            "106/106 [==============================] - 0s 4ms/step - loss: 0.0025\n",
            "Epoch 19/50\n",
            "106/106 [==============================] - 0s 3ms/step - loss: 0.0024\n",
            "Epoch 20/50\n",
            "106/106 [==============================] - 0s 3ms/step - loss: 0.0024\n",
            "Epoch 21/50\n",
            "106/106 [==============================] - 0s 3ms/step - loss: 0.0025\n",
            "Epoch 22/50\n",
            "106/106 [==============================] - 0s 3ms/step - loss: 0.0025\n",
            "Epoch 23/50\n",
            "106/106 [==============================] - 0s 3ms/step - loss: 0.0025\n",
            "Epoch 24/50\n",
            "106/106 [==============================] - 0s 3ms/step - loss: 0.0024\n",
            "Epoch 25/50\n",
            "106/106 [==============================] - 0s 3ms/step - loss: 0.0025\n",
            "Epoch 26/50\n",
            "106/106 [==============================] - 0s 3ms/step - loss: 0.0025\n",
            "Epoch 27/50\n",
            "106/106 [==============================] - 0s 3ms/step - loss: 0.0026\n",
            "Epoch 28/50\n",
            "106/106 [==============================] - 0s 3ms/step - loss: 0.0024\n",
            "Epoch 29/50\n",
            "106/106 [==============================] - 0s 4ms/step - loss: 0.0025\n",
            "Epoch 30/50\n",
            "106/106 [==============================] - 0s 3ms/step - loss: 0.0025\n",
            "Epoch 31/50\n",
            "106/106 [==============================] - 0s 4ms/step - loss: 0.0025\n",
            "Epoch 32/50\n",
            "106/106 [==============================] - 0s 4ms/step - loss: 0.0025\n",
            "Epoch 33/50\n",
            "106/106 [==============================] - 0s 3ms/step - loss: 0.0025\n",
            "Epoch 34/50\n",
            "106/106 [==============================] - 0s 4ms/step - loss: 0.0024\n",
            "Epoch 35/50\n",
            "106/106 [==============================] - 1s 5ms/step - loss: 0.0025\n",
            "Epoch 36/50\n",
            "106/106 [==============================] - 0s 3ms/step - loss: 0.0025\n",
            "Epoch 37/50\n",
            "106/106 [==============================] - 1s 5ms/step - loss: 0.0025\n",
            "Epoch 38/50\n",
            "106/106 [==============================] - 0s 3ms/step - loss: 0.0024\n",
            "Epoch 39/50\n",
            "106/106 [==============================] - 0s 3ms/step - loss: 0.0025\n",
            "Epoch 40/50\n",
            "106/106 [==============================] - 0s 4ms/step - loss: 0.0026\n",
            "Epoch 41/50\n",
            "106/106 [==============================] - 1s 5ms/step - loss: 0.0025\n",
            "Epoch 42/50\n",
            "106/106 [==============================] - 0s 4ms/step - loss: 0.0026\n",
            "Epoch 43/50\n",
            "106/106 [==============================] - 0s 4ms/step - loss: 0.0025\n",
            "Epoch 44/50\n",
            "106/106 [==============================] - 1s 5ms/step - loss: 0.0025\n",
            "Epoch 45/50\n",
            "106/106 [==============================] - 0s 3ms/step - loss: 0.0024\n",
            "Epoch 46/50\n",
            "106/106 [==============================] - 0s 3ms/step - loss: 0.0025\n",
            "Epoch 47/50\n",
            "106/106 [==============================] - 0s 4ms/step - loss: 0.0024\n",
            "Epoch 48/50\n",
            "106/106 [==============================] - 0s 2ms/step - loss: 0.0026\n",
            "Epoch 49/50\n",
            "106/106 [==============================] - 0s 3ms/step - loss: 0.0023\n",
            "Epoch 50/50\n",
            "106/106 [==============================] - 0s 3ms/step - loss: 0.0026\n"
          ]
        }
      ]
    },
    {
      "cell_type": "code",
      "source": [
        "plt.figure(figsize=(14,5))\n",
        "plt.plot(y_test2, label = 'Real number of passengers')\n",
        "plt.plot(y_pred2, label = 'Predicted number of passengers')\n",
        "plt.ylabel('# passengers RNN')\n",
        "plt.legend()\n",
        "plt.show()"
      ],
      "metadata": {
        "colab": {
          "base_uri": "https://localhost:8080/",
          "height": 320
        },
        "id": "leFIBmTLxPyh",
        "outputId": "2514a5e8-95ac-4e92-d7e2-1426ae48d94d"
      },
      "execution_count": null,
      "outputs": [
        {
          "output_type": "display_data",
          "data": {
            "text/plain": [
              "<Figure size 1008x360 with 1 Axes>"
            ],
            "image/png": "[encoded data removed]"
          },
          "metadata": {
            "needs_background": "light"
          }
        }
      ]
    },
    {
      "cell_type": "code",
      "source": [
        "mean_squared_error(y_test2,y_pred2)"
      ],
      "metadata": {
        "colab": {
          "base_uri": "https://localhost:8080/"
        },
        "id": "vhumL-83yGpW",
        "outputId": "aed83ab7-e9c3-4a6e-f5f4-d3e238c85399"
      },
      "execution_count": null,
      "outputs": [
        {
          "output_type": "execute_result",
          "data": {
            "text/plain": [
              "3058.500923184486"
            ]
          },
          "metadata": {},
          "execution_count": 93
        }
      ]
    },
    {
      "cell_type": "markdown",
      "source": [
        "### GRU"
      ],
      "metadata": {
        "id": "Gzcv7b0avm-z"
      }
    },
    {
      "cell_type": "code",
      "source": [
        "model3=Sequential()\n",
        "model3.add(GRU(5,input_shape=(1,lookback)))\n",
        "model3.add(Dense(1))\n",
        "model3.compile(loss='mean_squared_error',optimizer='adam')"
      ],
      "metadata": {
        "id": "YfzNM-EFu42V"
      },
      "execution_count": null,
      "outputs": []
    },
    {
      "cell_type": "code",
      "source": [
        "model3.fit(X_train, y_train, epochs=50, batch_size=1)\n",
        "y_pred=model3.predict(X_test)\n",
        "y_test3=scaler.inverse_transform(y_test)\n",
        "y_pred3=scaler.inverse_transform(y_pred)\n"
      ],
      "metadata": {
        "colab": {
          "base_uri": "https://localhost:8080/"
        },
        "id": "1yjcnN3ZvkJo",
        "outputId": "f3b51da7-ffd5-49b6-ffdb-9f425f969632"
      },
      "execution_count": null,
      "outputs": [
        {
          "output_type": "stream",
          "name": "stdout",
          "text": [
            "Epoch 1/50\n",
            "106/106 [==============================] - 4s 4ms/step - loss: 0.0242\n",
            "Epoch 2/50\n",
            "106/106 [==============================] - 0s 3ms/step - loss: 0.0121\n",
            "Epoch 3/50\n",
            "106/106 [==============================] - 0s 2ms/step - loss: 0.0095\n",
            "Epoch 4/50\n",
            "106/106 [==============================] - 0s 2ms/step - loss: 0.0075\n",
            "Epoch 5/50\n",
            "106/106 [==============================] - 0s 2ms/step - loss: 0.0058\n",
            "Epoch 6/50\n",
            "106/106 [==============================] - 0s 2ms/step - loss: 0.0046\n",
            "Epoch 7/50\n",
            "106/106 [==============================] - 0s 2ms/step - loss: 0.0038\n",
            "Epoch 8/50\n",
            "106/106 [==============================] - 0s 2ms/step - loss: 0.0033\n",
            "Epoch 9/50\n",
            "106/106 [==============================] - 0s 2ms/step - loss: 0.0029\n",
            "Epoch 10/50\n",
            "106/106 [==============================] - 0s 2ms/step - loss: 0.0027\n",
            "Epoch 11/50\n",
            "106/106 [==============================] - 0s 2ms/step - loss: 0.0026\n",
            "Epoch 12/50\n",
            "106/106 [==============================] - 0s 2ms/step - loss: 0.0025\n",
            "Epoch 13/50\n",
            "106/106 [==============================] - 0s 2ms/step - loss: 0.0025\n",
            "Epoch 14/50\n",
            "106/106 [==============================] - 0s 2ms/step - loss: 0.0026\n",
            "Epoch 15/50\n",
            "106/106 [==============================] - 0s 2ms/step - loss: 0.0027\n",
            "Epoch 16/50\n",
            "106/106 [==============================] - 0s 2ms/step - loss: 0.0027\n",
            "Epoch 17/50\n",
            "106/106 [==============================] - 0s 2ms/step - loss: 0.0026\n",
            "Epoch 18/50\n",
            "106/106 [==============================] - 0s 2ms/step - loss: 0.0025\n",
            "Epoch 19/50\n",
            "106/106 [==============================] - 0s 2ms/step - loss: 0.0026\n",
            "Epoch 20/50\n",
            "106/106 [==============================] - 0s 2ms/step - loss: 0.0025\n",
            "Epoch 21/50\n",
            "106/106 [==============================] - 0s 2ms/step - loss: 0.0026\n",
            "Epoch 22/50\n",
            "106/106 [==============================] - 0s 2ms/step - loss: 0.0025\n",
            "Epoch 23/50\n",
            "106/106 [==============================] - 0s 2ms/step - loss: 0.0026\n",
            "Epoch 24/50\n",
            "106/106 [==============================] - 0s 2ms/step - loss: 0.0025\n",
            "Epoch 25/50\n",
            "106/106 [==============================] - 0s 2ms/step - loss: 0.0025\n",
            "Epoch 26/50\n",
            "106/106 [==============================] - 0s 2ms/step - loss: 0.0026\n",
            "Epoch 27/50\n",
            "106/106 [==============================] - 0s 2ms/step - loss: 0.0026\n",
            "Epoch 28/50\n",
            "106/106 [==============================] - 0s 2ms/step - loss: 0.0026\n",
            "Epoch 29/50\n",
            "106/106 [==============================] - 0s 2ms/step - loss: 0.0026\n",
            "Epoch 30/50\n",
            "106/106 [==============================] - 0s 2ms/step - loss: 0.0026\n",
            "Epoch 31/50\n",
            "106/106 [==============================] - 0s 2ms/step - loss: 0.0026\n",
            "Epoch 32/50\n",
            "106/106 [==============================] - 0s 2ms/step - loss: 0.0026\n",
            "Epoch 33/50\n",
            "106/106 [==============================] - 0s 2ms/step - loss: 0.0025\n",
            "Epoch 34/50\n",
            "106/106 [==============================] - 0s 2ms/step - loss: 0.0025\n",
            "Epoch 35/50\n",
            "106/106 [==============================] - 0s 2ms/step - loss: 0.0026\n",
            "Epoch 36/50\n",
            "106/106 [==============================] - 0s 2ms/step - loss: 0.0026\n",
            "Epoch 37/50\n",
            "106/106 [==============================] - 0s 2ms/step - loss: 0.0026\n",
            "Epoch 38/50\n",
            "106/106 [==============================] - 0s 2ms/step - loss: 0.0026\n",
            "Epoch 39/50\n",
            "106/106 [==============================] - 0s 2ms/step - loss: 0.0026\n",
            "Epoch 40/50\n",
            "106/106 [==============================] - 0s 2ms/step - loss: 0.0026\n",
            "Epoch 41/50\n",
            "106/106 [==============================] - 0s 2ms/step - loss: 0.0025\n",
            "Epoch 42/50\n",
            "106/106 [==============================] - 0s 2ms/step - loss: 0.0025\n",
            "Epoch 43/50\n",
            "106/106 [==============================] - 0s 2ms/step - loss: 0.0026\n",
            "Epoch 44/50\n",
            "106/106 [==============================] - 0s 2ms/step - loss: 0.0026\n",
            "Epoch 45/50\n",
            "106/106 [==============================] - 0s 2ms/step - loss: 0.0027\n",
            "Epoch 46/50\n",
            "106/106 [==============================] - 0s 2ms/step - loss: 0.0025\n",
            "Epoch 47/50\n",
            "106/106 [==============================] - 0s 2ms/step - loss: 0.0025\n",
            "Epoch 48/50\n",
            "106/106 [==============================] - 0s 2ms/step - loss: 0.0026\n",
            "Epoch 49/50\n",
            "106/106 [==============================] - 0s 2ms/step - loss: 0.0026\n",
            "Epoch 50/50\n",
            "106/106 [==============================] - 0s 2ms/step - loss: 0.0025\n"
          ]
        }
      ]
    },
    {
      "cell_type": "code",
      "source": [
        "plt.figure(figsize=(14,5))\n",
        "plt.plot(y_test3, label = 'Real number of passengers')\n",
        "plt.plot(y_pred3, label = 'Predicted number of passengers')\n",
        "plt.ylabel('# passengers GRU')\n",
        "plt.legend()\n",
        "plt.show()"
      ],
      "metadata": {
        "colab": {
          "base_uri": "https://localhost:8080/",
          "height": 320
        },
        "id": "NpyKYpyvwJMd",
        "outputId": "f47afc22-67c9-4aa0-a459-7509d6b9f62a"
      },
      "execution_count": null,
      "outputs": [
        {
          "output_type": "display_data",
          "data": {
            "text/plain": [
              "<Figure size 1008x360 with 1 Axes>"
            ],
            "image/png": "[encoded data removed]"
          },
          "metadata": {
            "needs_background": "light"
          }
        }
      ]
    },
    {
      "cell_type": "code",
      "source": [
        "mean_squared_error(y_test3,y_pred3)"
      ],
      "metadata": {
        "colab": {
          "base_uri": "https://localhost:8080/"
        },
        "id": "rSxynxFFxqpd",
        "outputId": "6b68dc01-893f-4892-c54f-d7388eb9ac37"
      },
      "execution_count": null,
      "outputs": [
        {
          "output_type": "execute_result",
          "data": {
            "text/plain": [
              "2493.8800626861153"
            ]
          },
          "metadata": {},
          "execution_count": 97
        }
      ]
    }
  ]
}