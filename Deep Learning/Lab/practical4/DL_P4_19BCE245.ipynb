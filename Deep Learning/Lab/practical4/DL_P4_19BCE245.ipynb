{
 "cells": [
  {
   "cell_type": "code",
   "execution_count": 1,
   "id": "537a56be",
   "metadata": {
    "_cell_guid": "b1076dfc-b9ad-4769-8c92-a6c4dae69d19",
    "_uuid": "8f2839f25d086af736a60e9eeb907d3b93b6e0e5",
    "execution": {
     "iopub.execute_input": "2022-03-28T10:57:54.929486Z",
     "iopub.status.busy": "2022-03-28T10:57:54.927675Z",
     "iopub.status.idle": "2022-03-28T10:58:01.451229Z",
     "shell.execute_reply": "2022-03-28T10:58:01.451797Z",
     "shell.execute_reply.started": "2022-03-28T09:00:14.030094Z"
    },
    "papermill": {
     "duration": 6.548704,
     "end_time": "2022-03-28T10:58:01.452094",
     "exception": false,
     "start_time": "2022-03-28T10:57:54.903390",
     "status": "completed"
    },
    "tags": []
   },
   "outputs": [
    {
     "name": "stdout",
     "output_type": "stream",
     "text": [
      "/kaggle/input/cifar-10/trainLabels.csv\n",
      "/kaggle/input/cifar-10/sampleSubmission.csv\n",
      "/kaggle/input/cifar-10/test.7z\n",
      "/kaggle/input/cifar-10/train.7z\n"
     ]
    }
   ],
   "source": [
    "# This Python 3 environment comes with many helpful analytics libraries installed\n",
    "# It is defined by the kaggle/python Docker image: https://github.com/kaggle/docker-python\n",
    "# For example, here's several helpful packages to load\n",
    "\n",
    "import numpy as np # linear algebra\n",
    "import pandas as pd # data processing, CSV file I/O (e.g. pd.read_csv)\n",
    "import os\n",
    "from tensorflow import keras\n",
    "import tensorflow as tf\n",
    "from keras import Sequential\n",
    "from keras.layers import Dense, Conv2D, MaxPooling2D, Activation, BatchNormalization, Flatten\n",
    "from keras.utils.np_utils import to_categorical\n",
    "from keras.preprocessing.image import ImageDataGenerator\n",
    "\n",
    "# Input data files are available in the read-only \"../input/\" directory\n",
    "# For example, running this (by clicking run or pressing Shift+Enter) will list all files under the input directory\n",
    "\n",
    "import os\n",
    "for dirname, _, filenames in os.walk('/kaggle/input'):\n",
    "    for filename in filenames:\n",
    "        print(os.path.join(dirname, filename))\n",
    "\n",
    "# You can write up to 20GB to the current directory (/kaggle/working/) that gets preserved as output when you create a version using \"Save & Run All\" \n",
    "# You can also write temporary files to /kaggle/temp/, but they won't be saved outside of the current session"
   ]
  },
  {
   "cell_type": "code",
   "execution_count": 2,
   "id": "5eeaf78f",
   "metadata": {
    "execution": {
     "iopub.execute_input": "2022-03-28T10:58:01.493613Z",
     "iopub.status.busy": "2022-03-28T10:58:01.492561Z",
     "iopub.status.idle": "2022-03-28T10:58:15.564368Z",
     "shell.execute_reply": "2022-03-28T10:58:15.563288Z",
     "shell.execute_reply.started": "2022-03-28T09:00:20.080109Z"
    },
    "papermill": {
     "duration": 14.093004,
     "end_time": "2022-03-28T10:58:15.564535",
     "exception": false,
     "start_time": "2022-03-28T10:58:01.471531",
     "status": "completed"
    },
    "tags": []
   },
   "outputs": [
    {
     "name": "stdout",
     "output_type": "stream",
     "text": [
      "Collecting py7zr\r\n",
      "  Downloading py7zr-0.18.3-py3-none-any.whl (76 kB)\r\n",
      "     |████████████████████████████████| 76 kB 1.4 MB/s             \r\n",
      "\u001b[?25hCollecting zipfile-deflate64>=0.2.0\r\n",
      "  Downloading zipfile_deflate64-0.2.0-cp37-cp37m-manylinux_2_17_x86_64.manylinux2014_x86_64.whl (43 kB)\r\n",
      "     |████████████████████████████████| 43 kB 1.1 MB/s             \r\n",
      "\u001b[?25hCollecting pyzstd>=0.14.4\r\n",
      "  Downloading pyzstd-0.15.2-cp37-cp37m-manylinux_2_17_x86_64.manylinux2014_x86_64.whl (2.4 MB)\r\n",
      "     |████████████████████████████████| 2.4 MB 4.3 MB/s            \r\n",
      "\u001b[?25hRequirement already satisfied: importlib-metadata in /opt/conda/lib/python3.7/site-packages (from py7zr) (4.11.3)\r\n",
      "Collecting brotli>=1.0.9\r\n",
      "  Downloading Brotli-1.0.9-cp37-cp37m-manylinux1_x86_64.whl (357 kB)\r\n",
      "     |████████████████████████████████| 357 kB 49.3 MB/s            \r\n",
      "\u001b[?25hCollecting multivolumefile>=0.2.3\r\n",
      "  Downloading multivolumefile-0.2.3-py3-none-any.whl (17 kB)\r\n",
      "Requirement already satisfied: texttable in /opt/conda/lib/python3.7/site-packages (from py7zr) (1.6.4)\r\n",
      "Collecting pyppmd<0.19.0,>=0.18.1\r\n",
      "  Downloading pyppmd-0.18.1-cp37-cp37m-manylinux_2_17_x86_64.manylinux2014_x86_64.whl (131 kB)\r\n",
      "     |████████████████████████████████| 131 kB 51.8 MB/s            \r\n",
      "\u001b[?25hCollecting pycryptodomex>=3.6.6\r\n",
      "  Downloading pycryptodomex-3.14.1-cp35-abi3-manylinux2010_x86_64.whl (2.0 MB)\r\n",
      "     |████████████████████████████████| 2.0 MB 49.5 MB/s            \r\n",
      "\u001b[?25hCollecting pybcj>=0.5.0\r\n",
      "  Downloading pybcj-0.5.1-cp37-cp37m-manylinux_2_17_x86_64.manylinux2014_x86_64.whl (57 kB)\r\n",
      "     |████████████████████████████████| 57 kB 3.2 MB/s             \r\n",
      "\u001b[?25hRequirement already satisfied: typing-extensions>=3.6.4 in /opt/conda/lib/python3.7/site-packages (from importlib-metadata->py7zr) (4.1.1)\r\n",
      "Requirement already satisfied: zipp>=0.5 in /opt/conda/lib/python3.7/site-packages (from importlib-metadata->py7zr) (3.6.0)\r\n",
      "Installing collected packages: zipfile-deflate64, pyzstd, pyppmd, pycryptodomex, pybcj, multivolumefile, brotli, py7zr\r\n",
      "Successfully installed brotli-1.0.9 multivolumefile-0.2.3 py7zr-0.18.3 pybcj-0.5.1 pycryptodomex-3.14.1 pyppmd-0.18.1 pyzstd-0.15.2 zipfile-deflate64-0.2.0\r\n",
      "\u001b[33mWARNING: Running pip as the 'root' user can result in broken permissions and conflicting behaviour with the system package manager. It is recommended to use a virtual environment instead: https://pip.pypa.io/warnings/venv\u001b[0m\r\n"
     ]
    }
   ],
   "source": [
    "!pip install py7zr"
   ]
  },
  {
   "cell_type": "code",
   "execution_count": 3,
   "id": "8ee8521e",
   "metadata": {
    "execution": {
     "iopub.execute_input": "2022-03-28T10:58:15.626791Z",
     "iopub.status.busy": "2022-03-28T10:58:15.626046Z",
     "iopub.status.idle": "2022-03-28T10:58:15.802485Z",
     "shell.execute_reply": "2022-03-28T10:58:15.803032Z",
     "shell.execute_reply.started": "2022-03-28T09:00:38.156364Z"
    },
    "papermill": {
     "duration": 0.21039,
     "end_time": "2022-03-28T10:58:15.803225",
     "exception": false,
     "start_time": "2022-03-28T10:58:15.592835",
     "status": "completed"
    },
    "tags": []
   },
   "outputs": [],
   "source": [
    "from py7zr import unpack_7zarchive\n",
    "import shutil\n",
    "\n",
    "shutil.register_unpack_format('7zip',['.7z'],unpack_7zarchive)"
   ]
  },
  {
   "cell_type": "code",
   "execution_count": 4,
   "id": "30141db6",
   "metadata": {
    "execution": {
     "iopub.execute_input": "2022-03-28T10:58:15.864101Z",
     "iopub.status.busy": "2022-03-28T10:58:15.863132Z",
     "iopub.status.idle": "2022-03-28T10:59:03.480989Z",
     "shell.execute_reply": "2022-03-28T10:59:03.480370Z",
     "shell.execute_reply.started": "2022-03-28T09:00:38.348142Z"
    },
    "papermill": {
     "duration": 47.649448,
     "end_time": "2022-03-28T10:59:03.481139",
     "exception": false,
     "start_time": "2022-03-28T10:58:15.831691",
     "status": "completed"
    },
    "tags": []
   },
   "outputs": [],
   "source": [
    "shutil.unpack_archive('../input/cifar-10/train.7z', '/kaggle/temp/')"
   ]
  },
  {
   "cell_type": "code",
   "execution_count": 5,
   "id": "7f8e7671",
   "metadata": {
    "execution": {
     "iopub.execute_input": "2022-03-28T10:59:03.541882Z",
     "iopub.status.busy": "2022-03-28T10:59:03.540817Z",
     "iopub.status.idle": "2022-03-28T10:59:03.595947Z",
     "shell.execute_reply": "2022-03-28T10:59:03.595232Z",
     "shell.execute_reply.started": "2022-03-28T09:01:26.962080Z"
    },
    "papermill": {
     "duration": 0.086331,
     "end_time": "2022-03-28T10:59:03.596099",
     "exception": false,
     "start_time": "2022-03-28T10:59:03.509768",
     "status": "completed"
    },
    "tags": []
   },
   "outputs": [
    {
     "name": "stdout",
     "output_type": "stream",
     "text": [
      "['frog' 'truck' 'deer' 'automobile' 'bird' 'horse' 'ship' 'cat' 'dog'\n",
      " 'airplane']\n"
     ]
    }
   ],
   "source": [
    "train_labels = pd.read_csv(\"../input/cifar-10/trainLabels.csv\", header=\"infer\")\n",
    "\n",
    "classes = train_labels['label'].unique()\n",
    "print(classes)"
   ]
  },
  {
   "cell_type": "code",
   "execution_count": 6,
   "id": "61529e17",
   "metadata": {
    "execution": {
     "iopub.execute_input": "2022-03-28T10:59:03.656616Z",
     "iopub.status.busy": "2022-03-28T10:59:03.655826Z",
     "iopub.status.idle": "2022-03-28T10:59:09.113904Z",
     "shell.execute_reply": "2022-03-28T10:59:09.114798Z",
     "shell.execute_reply.started": "2022-03-28T09:01:27.034826Z"
    },
    "papermill": {
     "duration": 5.490209,
     "end_time": "2022-03-28T10:59:09.114996",
     "exception": false,
     "start_time": "2022-03-28T10:59:03.624787",
     "status": "completed"
    },
    "tags": []
   },
   "outputs": [],
   "source": [
    "if not os.path.exists(\"/kaggle/temp/valid\"):\n",
    "    os.mkdir(\"/kaggle/temp/valid\")\n",
    "    \n",
    "parent_path_train = \"/kaggle/temp/train\"\n",
    "parent_path_valid = \"/kaggle/temp/valid\"\n",
    "parent_path_test = \"/kaggle/temp/test\"\n",
    "\n",
    "for class1 in classes:\n",
    "    path_train = os.path.join(parent_path_train,class1)\n",
    "    if not os.path.exists(path_train):\n",
    "        os.mkdir(path_train)\n",
    "    path_valid = os.path.join(parent_path_valid,class1)\n",
    "    if not os.path.exists(path_valid):\n",
    "        os.mkdir(path_valid)\n",
    "        \n",
    "for (int_ind,row) in train_labels.iterrows():\n",
    "    id = str(row[\"id\"])+\".png\"\n",
    "    source_path = os.path.join(parent_path_train,id)\n",
    "    \n",
    "    p=np.random.random()\n",
    "    if p<=0.8:\n",
    "        target_path = os.path.join(parent_path_train,row[\"label\"],id)\n",
    "        os.replace(source_path, target_path)\n",
    "    else:\n",
    "        target_path = os.path.join(parent_path_valid,row[\"label\"],id)\n",
    "        os.replace(source_path, target_path)"
   ]
  },
  {
   "cell_type": "code",
   "execution_count": 7,
   "id": "1da352c9",
   "metadata": {
    "execution": {
     "iopub.execute_input": "2022-03-28T10:59:09.194130Z",
     "iopub.status.busy": "2022-03-28T10:59:09.193300Z",
     "iopub.status.idle": "2022-03-28T10:59:10.731884Z",
     "shell.execute_reply": "2022-03-28T10:59:10.731063Z",
     "shell.execute_reply.started": "2022-03-28T09:01:32.355569Z"
    },
    "papermill": {
     "duration": 1.584951,
     "end_time": "2022-03-28T10:59:10.732048",
     "exception": false,
     "start_time": "2022-03-28T10:59:09.147097",
     "status": "completed"
    },
    "tags": []
   },
   "outputs": [
    {
     "name": "stdout",
     "output_type": "stream",
     "text": [
      "airplane  automobile  bird  cat  deer  dog  frog  horse  ship  truck\r\n",
      "airplane  automobile  bird  cat  deer  dog  frog  horse  ship  truck\r\n"
     ]
    }
   ],
   "source": [
    "!ls /kaggle/temp/valid\n",
    "!ls /kaggle/temp/train"
   ]
  },
  {
   "cell_type": "code",
   "execution_count": 8,
   "id": "e36e06b1",
   "metadata": {
    "execution": {
     "iopub.execute_input": "2022-03-28T10:59:10.794561Z",
     "iopub.status.busy": "2022-03-28T10:59:10.793892Z",
     "iopub.status.idle": "2022-03-28T10:59:11.174396Z",
     "shell.execute_reply": "2022-03-28T10:59:11.175917Z",
     "shell.execute_reply.started": "2022-03-28T09:01:33.802119Z"
    },
    "papermill": {
     "duration": 0.414976,
     "end_time": "2022-03-28T10:59:11.176163",
     "exception": false,
     "start_time": "2022-03-28T10:59:10.761187",
     "status": "completed"
    },
    "tags": []
   },
   "outputs": [
    {
     "name": "stderr",
     "output_type": "stream",
     "text": [
      "2022-03-28 10:59:10.843937: I tensorflow/core/common_runtime/process_util.cc:146] Creating new thread pool with default inter op setting: 2. Tune using inter_op_parallelism_threads for best performance.\n"
     ]
    }
   ],
   "source": [
    "model = Sequential()\n",
    "model.add(Conv2D(filters=32,kernel_size=(3,3),strides=(1,1),padding='valid',activation=None,use_bias=False,input_shape=(32,32,3)))\n",
    "model.add(BatchNormalization())\n",
    "model.add(Activation('relu'))\n",
    "\n",
    "model.add(Conv2D(filters=48, kernel_size=(3,3), strides=(1,1), padding='valid', activation=None, use_bias=False))\n",
    "model.add(BatchNormalization())\n",
    "model.add(Activation('relu'))\n",
    "\n",
    "model.add(Conv2D(filters=64, kernel_size=(3,3), strides=(1,1), padding='valid', activation=None, use_bias=False))\n",
    "model.add(BatchNormalization())\n",
    "model.add(Activation('relu'))\n",
    "\n",
    "model.add(Conv2D(filters=80, kernel_size=(3,3), strides=(1,1), padding='valid', activation=None, use_bias=False))\n",
    "model.add(BatchNormalization())\n",
    "model.add(Activation('relu'))\n",
    "\n",
    "model.add(Conv2D(filters=96, kernel_size=(3,3), strides=(1,1), padding='valid', activation=None, use_bias=False))\n",
    "model.add(BatchNormalization())\n",
    "model.add(Activation('relu'))\n",
    "\n",
    "model.add(Conv2D(filters=128, kernel_size=(3,3), strides=(1,1), padding='valid', activation=None, use_bias=False))\n",
    "model.add(BatchNormalization())\n",
    "model.add(Activation('relu'))\n",
    "\n",
    "model.add(Flatten())\n",
    "model.add(Dense(units=10))\n",
    "model.add(BatchNormalization())\n",
    "model.add(Activation('softmax'))\n",
    "model.compile(loss='categorical_crossentropy', optimizer='adam', metrics=['accuracy'])\n"
   ]
  },
  {
   "cell_type": "code",
   "execution_count": 9,
   "id": "cc0718a0",
   "metadata": {
    "execution": {
     "iopub.execute_input": "2022-03-28T10:59:11.264345Z",
     "iopub.status.busy": "2022-03-28T10:59:11.262497Z",
     "iopub.status.idle": "2022-03-28T10:59:13.562058Z",
     "shell.execute_reply": "2022-03-28T10:59:13.563393Z",
     "shell.execute_reply.started": "2022-03-28T09:01:34.103922Z"
    },
    "papermill": {
     "duration": 2.346346,
     "end_time": "2022-03-28T10:59:13.563666",
     "exception": false,
     "start_time": "2022-03-28T10:59:11.217320",
     "status": "completed"
    },
    "tags": []
   },
   "outputs": [
    {
     "name": "stdout",
     "output_type": "stream",
     "text": [
      "Found 40060 images belonging to 10 classes.\n",
      "Found 9940 images belonging to 10 classes.\n"
     ]
    }
   ],
   "source": [
    "train_datagen = ImageDataGenerator(featurewise_center=False,\n",
    "                             samplewise_center=False,\n",
    "                             featurewise_std_normalization=False,\n",
    "                             samplewise_std_normalization=False,\n",
    "                             zca_whitening=False,\n",
    "                             rotation_range=10,\n",
    "                             zoom_range=0.1,\n",
    "                             width_shift_range=0.1,\n",
    "                             height_shift_range=0.1,\n",
    "                             horizontal_flip=False,\n",
    "                             vertical_flip=False,\n",
    "                             rescale=1./255)\n",
    "valid_datagen = ImageDataGenerator()\n",
    "\n",
    "train_generator = train_datagen.flow_from_directory(directory='/kaggle/temp/train/', shuffle=True, target_size=(32,32),batch_size=128)\n",
    "valid_generator = valid_datagen.flow_from_directory(directory='/kaggle/temp/valid/', shuffle=True, target_size=(32,32),batch_size=128)"
   ]
  },
  {
   "cell_type": "code",
   "execution_count": 10,
   "id": "c8cf77a6",
   "metadata": {
    "execution": {
     "iopub.execute_input": "2022-03-28T10:59:13.646396Z",
     "iopub.status.busy": "2022-03-28T10:59:13.645261Z",
     "iopub.status.idle": "2022-03-28T12:04:38.451709Z",
     "shell.execute_reply": "2022-03-28T12:04:38.451031Z"
    },
    "papermill": {
     "duration": 3924.846585,
     "end_time": "2022-03-28T12:04:38.451870",
     "exception": false,
     "start_time": "2022-03-28T10:59:13.605285",
     "status": "completed"
    },
    "tags": []
   },
   "outputs": [
    {
     "name": "stderr",
     "output_type": "stream",
     "text": [
      "2022-03-28 10:59:13.915783: I tensorflow/compiler/mlir/mlir_graph_optimization_pass.cc:185] None of the MLIR Optimization Passes are enabled (registered 2)\n"
     ]
    },
    {
     "name": "stdout",
     "output_type": "stream",
     "text": [
      "Epoch 1/10\n",
      "312/312 [==============================] - 379s 1s/step - loss: 1.4938 - accuracy: 0.4866 - val_loss: 102.2503 - val_accuracy: 0.1355\n",
      "Epoch 2/10\n",
      "312/312 [==============================] - 375s 1s/step - loss: 1.1637 - accuracy: 0.6184 - val_loss: 70.6234 - val_accuracy: 0.2143\n",
      "Epoch 3/10\n",
      "312/312 [==============================] - 376s 1s/step - loss: 0.9989 - accuracy: 0.6757 - val_loss: 290.4420 - val_accuracy: 0.1089\n",
      "Epoch 4/10\n",
      "312/312 [==============================] - 374s 1s/step - loss: 0.9032 - accuracy: 0.7070 - val_loss: 137.5347 - val_accuracy: 0.1854\n",
      "Epoch 5/10\n",
      "312/312 [==============================] - 375s 1s/step - loss: 0.8236 - accuracy: 0.7303 - val_loss: 283.7267 - val_accuracy: 0.1894\n",
      "Epoch 6/10\n",
      "312/312 [==============================] - 384s 1s/step - loss: 0.7654 - accuracy: 0.7476 - val_loss: 188.3864 - val_accuracy: 0.1764\n",
      "Epoch 7/10\n",
      "312/312 [==============================] - 380s 1s/step - loss: 0.7179 - accuracy: 0.7622 - val_loss: 346.6114 - val_accuracy: 0.1857\n",
      "Epoch 8/10\n",
      "312/312 [==============================] - 379s 1s/step - loss: 0.6768 - accuracy: 0.7792 - val_loss: 419.1365 - val_accuracy: 0.1233\n",
      "Epoch 9/10\n",
      "312/312 [==============================] - 382s 1s/step - loss: 0.6442 - accuracy: 0.7873 - val_loss: 295.7296 - val_accuracy: 0.1655\n",
      "Epoch 10/10\n",
      "312/312 [==============================] - 381s 1s/step - loss: 0.6043 - accuracy: 0.8013 - val_loss: 357.6776 - val_accuracy: 0.1085\n"
     ]
    },
    {
     "data": {
      "text/plain": [
       "<keras.callbacks.History at 0x7f9de81c5290>"
      ]
     },
     "execution_count": 10,
     "metadata": {},
     "output_type": "execute_result"
    }
   ],
   "source": [
    "model.fit(train_generator,epochs=10, validation_data=valid_generator,steps_per_epoch=train_generator.n//train_generator.batch_size,\n",
    "         validation_steps= valid_generator.n//valid_generator.batch_size,workers=8,use_multiprocessing=True)"
   ]
  },
  {
   "cell_type": "code",
   "execution_count": 11,
   "id": "26471ae9",
   "metadata": {
    "execution": {
     "iopub.execute_input": "2022-03-28T12:04:40.786301Z",
     "iopub.status.busy": "2022-03-28T12:04:40.785506Z",
     "iopub.status.idle": "2022-03-28T12:23:36.126922Z",
     "shell.execute_reply": "2022-03-28T12:23:36.126190Z"
    },
    "papermill": {
     "duration": 1136.509161,
     "end_time": "2022-03-28T12:23:36.127122",
     "exception": false,
     "start_time": "2022-03-28T12:04:39.617961",
     "status": "completed"
    },
    "tags": []
   },
   "outputs": [],
   "source": [
    "shutil.unpack_archive('/kaggle/input/cifar-10/test.7z','/kaggle/temp/test')"
   ]
  },
  {
   "cell_type": "code",
   "execution_count": 12,
   "id": "086750c6",
   "metadata": {
    "execution": {
     "iopub.execute_input": "2022-03-28T12:23:38.937084Z",
     "iopub.status.busy": "2022-03-28T12:23:38.935993Z",
     "iopub.status.idle": "2022-03-28T12:23:38.939100Z",
     "shell.execute_reply": "2022-03-28T12:23:38.938327Z"
    },
    "papermill": {
     "duration": 1.415971,
     "end_time": "2022-03-28T12:23:38.939265",
     "exception": false,
     "start_time": "2022-03-28T12:23:37.523294",
     "status": "completed"
    },
    "tags": []
   },
   "outputs": [],
   "source": [
    "shutil.unregister_unpack_format('7zip')"
   ]
  },
  {
   "cell_type": "code",
   "execution_count": 13,
   "id": "34abc7cf",
   "metadata": {
    "execution": {
     "iopub.execute_input": "2022-03-28T12:23:41.662702Z",
     "iopub.status.busy": "2022-03-28T12:23:41.661619Z",
     "iopub.status.idle": "2022-03-28T12:23:49.956688Z",
     "shell.execute_reply": "2022-03-28T12:23:49.956085Z"
    },
    "papermill": {
     "duration": 9.610955,
     "end_time": "2022-03-28T12:23:49.956853",
     "exception": false,
     "start_time": "2022-03-28T12:23:40.345898",
     "status": "completed"
    },
    "tags": []
   },
   "outputs": [
    {
     "name": "stdout",
     "output_type": "stream",
     "text": [
      "Found 300000 images belonging to 1 classes.\n"
     ]
    }
   ],
   "source": [
    "test_datagen = ImageDataGenerator(rescale=1./255)\n",
    "\n",
    "test_gen = test_datagen.flow_from_directory(directory='/kaggle/temp/test',target_size=(32,32),batch_size=64,class_mode=None,shuffle=False)"
   ]
  },
  {
   "cell_type": "code",
   "execution_count": 14,
   "id": "7d2dcc5e",
   "metadata": {
    "execution": {
     "iopub.execute_input": "2022-03-28T12:23:52.472523Z",
     "iopub.status.busy": "2022-03-28T12:23:52.471826Z",
     "iopub.status.idle": "2022-03-28T12:36:59.412055Z",
     "shell.execute_reply": "2022-03-28T12:36:59.412711Z"
    },
    "papermill": {
     "duration": 788.214783,
     "end_time": "2022-03-28T12:36:59.412934",
     "exception": false,
     "start_time": "2022-03-28T12:23:51.198151",
     "status": "completed"
    },
    "tags": []
   },
   "outputs": [],
   "source": [
    "test_gen.reset()\n",
    "predictions_vecs = model.predict(test_gen)\n",
    "\n",
    "predictions_final = np.argmax(predictions_vecs, axis=1)"
   ]
  },
  {
   "cell_type": "code",
   "execution_count": 15,
   "id": "96abb523",
   "metadata": {
    "execution": {
     "iopub.execute_input": "2022-03-28T12:37:01.776058Z",
     "iopub.status.busy": "2022-03-28T12:37:01.775336Z",
     "iopub.status.idle": "2022-03-28T12:37:02.425870Z",
     "shell.execute_reply": "2022-03-28T12:37:02.425154Z"
    },
    "papermill": {
     "duration": 1.827903,
     "end_time": "2022-03-28T12:37:02.426034",
     "exception": false,
     "start_time": "2022-03-28T12:37:00.598131",
     "status": "completed"
    },
    "tags": []
   },
   "outputs": [
    {
     "name": "stdout",
     "output_type": "stream",
     "text": [
      "<class 'dict'>\n",
      "{'airplane': 0, 'automobile': 1, 'bird': 2, 'cat': 3, 'deer': 4, 'dog': 5, 'frog': 6, 'horse': 7, 'ship': 8, 'truck': 9}\n",
      "{0: 'airplane', 1: 'automobile', 2: 'bird', 3: 'cat', 4: 'deer', 5: 'dog', 6: 'frog', 7: 'horse', 8: 'ship', 9: 'truck'}\n"
     ]
    }
   ],
   "source": [
    "print(type(train_generator.class_indices))\n",
    "print(train_generator.class_indices)\n",
    "\n",
    "classes = {value:key for (key,value) in train_generator.class_indices.items()}\n",
    "print(classes)\n",
    "\n",
    "predicted_classes=np.empty(shape=300000,dtype=np.dtype('U20'))\n",
    "\n",
    "ind=0\n",
    "for i in predictions_final.tolist():\n",
    "    predicted_classes[ind]=classes[i]\n",
    "    ind=ind+1\n",
    "    \n",
    "filenames_wo_ext = []\n",
    "for fname in test_gen.filenames:\n",
    "    filenames_wo_ext.append(int(fname.split(sep=\"/\")[1].split(sep=\".\")[0])-1)\n",
    "\n",
    "predicted_classes_final = np.empty(shape=300000,dtype=np.dtype('U20'))\n",
    "predicted_classes_final[filenames_wo_ext]=predicted_classes\n"
   ]
  },
  {
   "cell_type": "code",
   "execution_count": 16,
   "id": "2473d787",
   "metadata": {
    "execution": {
     "iopub.execute_input": "2022-03-28T12:37:04.818267Z",
     "iopub.status.busy": "2022-03-28T12:37:04.817537Z",
     "iopub.status.idle": "2022-03-28T12:37:05.041506Z",
     "shell.execute_reply": "2022-03-28T12:37:05.042113Z"
    },
    "papermill": {
     "duration": 1.412366,
     "end_time": "2022-03-28T12:37:05.042309",
     "exception": false,
     "start_time": "2022-03-28T12:37:03.629943",
     "status": "completed"
    },
    "tags": []
   },
   "outputs": [
    {
     "name": "stdout",
     "output_type": "stream",
     "text": [
      "<class 'pandas.core.frame.DataFrame'>\n",
      "RangeIndex: 300000 entries, 0 to 299999\n",
      "Data columns (total 2 columns):\n",
      " #   Column  Non-Null Count   Dtype \n",
      "---  ------  --------------   ----- \n",
      " 0   id      300000 non-null  int64 \n",
      " 1   label   300000 non-null  object\n",
      "dtypes: int64(1), object(1)\n",
      "memory usage: 4.6+ MB\n"
     ]
    }
   ],
   "source": [
    "sub = pd.read_csv('../input/cifar-10/sampleSubmission.csv',header='infer')\n",
    "sub.info()"
   ]
  },
  {
   "cell_type": "code",
   "execution_count": 17,
   "id": "bedaa752",
   "metadata": {
    "execution": {
     "iopub.execute_input": "2022-03-28T12:37:07.525448Z",
     "iopub.status.busy": "2022-03-28T12:37:07.524256Z",
     "iopub.status.idle": "2022-03-28T12:37:08.203389Z",
     "shell.execute_reply": "2022-03-28T12:37:08.202723Z"
    },
    "papermill": {
     "duration": 1.891479,
     "end_time": "2022-03-28T12:37:08.203539",
     "exception": false,
     "start_time": "2022-03-28T12:37:06.312060",
     "status": "completed"
    },
    "tags": []
   },
   "outputs": [],
   "source": [
    "sub['label'] = predicted_classes_final\n",
    "sub.to_csv('submission.csv',index=False)"
   ]
  },
  {
   "cell_type": "code",
   "execution_count": null,
   "id": "cae42f46",
   "metadata": {
    "papermill": {
     "duration": 1.189945,
     "end_time": "2022-03-28T12:37:10.587689",
     "exception": false,
     "start_time": "2022-03-28T12:37:09.397744",
     "status": "completed"
    },
    "tags": []
   },
   "outputs": [],
   "source": []
  }
 ],
 "metadata": {
  "kernelspec": {
   "display_name": "Python 3",
   "language": "python",
   "name": "python3"
  },
  "language_info": {
   "codemirror_mode": {
    "name": "ipython",
    "version": 3
   },
   "file_extension": ".py",
   "mimetype": "text/x-python",
   "name": "python",
   "nbconvert_exporter": "python",
   "pygments_lexer": "ipython3",
   "version": "3.7.12"
  },
  "papermill": {
   "default_parameters": {},
   "duration": 5970.737887,
   "end_time": "2022-03-28T12:37:14.520001",
   "environment_variables": {},
   "exception": null,
   "input_path": "__notebook__.ipynb",
   "output_path": "__notebook__.ipynb",
   "parameters": {},
   "start_time": "2022-03-28T10:57:43.782114",
   "version": "2.3.3"
  }
 },
 "nbformat": 4,
 "nbformat_minor": 5
}
