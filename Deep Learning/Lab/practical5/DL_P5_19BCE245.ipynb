{
 "cells": [
  {
   "cell_type": "code",
   "execution_count": 1,
   "id": "14a7f7be",
   "metadata": {
    "_cell_guid": "b1076dfc-b9ad-4769-8c92-a6c4dae69d19",
    "_uuid": "8f2839f25d086af736a60e9eeb907d3b93b6e0e5",
    "execution": {
     "iopub.execute_input": "2022-04-07T18:22:34.047074Z",
     "iopub.status.busy": "2022-04-07T18:22:34.045876Z",
     "iopub.status.idle": "2022-04-07T18:22:39.911014Z",
     "shell.execute_reply": "2022-04-07T18:22:39.911629Z",
     "shell.execute_reply.started": "2022-03-25T18:13:13.914908Z"
    },
    "papermill": {
     "duration": 5.899231,
     "end_time": "2022-04-07T18:22:39.911977",
     "exception": false,
     "start_time": "2022-04-07T18:22:34.012746",
     "status": "completed"
    },
    "tags": []
   },
   "outputs": [],
   "source": [
    "import numpy as np # linear algebra\n",
    "import pandas as pd # data processing, CSV file I/O (e.g. pd.read_csv)\n",
    "import os\n",
    "from tensorflow import keras\n",
    "import tensorflow as tf\n",
    "from keras import Sequential\n",
    "from keras.layers import Dense, Conv2D, MaxPooling2D, Activation, BatchNormalization, Flatten, GlobalAveragePooling2D,Dropout\n",
    "from keras.utils.np_utils import to_categorical\n",
    "from keras.preprocessing.image import ImageDataGenerator\n",
    "from keras.callbacks import ReduceLROnPlateau\n",
    "from keras.applications.xception import Xception, preprocess_input"
   ]
  },
  {
   "cell_type": "code",
   "execution_count": 2,
   "id": "1a8a0cbe",
   "metadata": {
    "execution": {
     "iopub.execute_input": "2022-04-07T18:22:39.965684Z",
     "iopub.status.busy": "2022-04-07T18:22:39.964503Z",
     "iopub.status.idle": "2022-04-07T18:22:56.393264Z",
     "shell.execute_reply": "2022-04-07T18:22:56.392145Z",
     "shell.execute_reply.started": "2022-03-25T18:13:13.923846Z"
    },
    "papermill": {
     "duration": 16.45611,
     "end_time": "2022-04-07T18:22:56.393438",
     "exception": false,
     "start_time": "2022-04-07T18:22:39.937328",
     "status": "completed"
    },
    "tags": []
   },
   "outputs": [
    {
     "name": "stdout",
     "output_type": "stream",
     "text": [
      "Collecting py7zr\r\n",
      "  Downloading py7zr-0.18.3-py3-none-any.whl (76 kB)\r\n",
      "     |████████████████████████████████| 76 kB 562 kB/s            \r\n",
      "\u001b[?25hCollecting multivolumefile>=0.2.3\r\n",
      "  Downloading multivolumefile-0.2.3-py3-none-any.whl (17 kB)\r\n",
      "Collecting pycryptodomex>=3.6.6\r\n",
      "  Downloading pycryptodomex-3.14.1-cp35-abi3-manylinux2010_x86_64.whl (2.0 MB)\r\n",
      "     |████████████████████████████████| 2.0 MB 1.1 MB/s            \r\n",
      "\u001b[?25hCollecting zipfile-deflate64>=0.2.0\r\n",
      "  Downloading zipfile_deflate64-0.2.0-cp37-cp37m-manylinux_2_17_x86_64.manylinux2014_x86_64.whl (43 kB)\r\n",
      "     |████████████████████████████████| 43 kB 1.1 MB/s             \r\n",
      "\u001b[?25hRequirement already satisfied: texttable in /opt/conda/lib/python3.7/site-packages (from py7zr) (1.6.4)\r\n",
      "Collecting pyppmd<0.19.0,>=0.18.1\r\n",
      "  Downloading pyppmd-0.18.2-cp37-cp37m-manylinux_2_17_x86_64.manylinux2014_x86_64.whl (131 kB)\r\n",
      "     |████████████████████████████████| 131 kB 40.6 MB/s            \r\n",
      "\u001b[?25hCollecting pybcj>=0.5.0\r\n",
      "  Downloading pybcj-0.5.1-cp37-cp37m-manylinux_2_17_x86_64.manylinux2014_x86_64.whl (57 kB)\r\n",
      "     |████████████████████████████████| 57 kB 3.9 MB/s             \r\n",
      "\u001b[?25hCollecting pyzstd>=0.14.4\r\n",
      "  Downloading pyzstd-0.15.2-cp37-cp37m-manylinux_2_17_x86_64.manylinux2014_x86_64.whl (2.4 MB)\r\n",
      "     |████████████████████████████████| 2.4 MB 15.1 MB/s            \r\n",
      "\u001b[?25hCollecting brotli>=1.0.9\r\n",
      "  Downloading Brotli-1.0.9-cp37-cp37m-manylinux1_x86_64.whl (357 kB)\r\n",
      "     |████████████████████████████████| 357 kB 33.2 MB/s            \r\n",
      "\u001b[?25hRequirement already satisfied: importlib-metadata in /opt/conda/lib/python3.7/site-packages (from py7zr) (4.11.3)\r\n",
      "Requirement already satisfied: zipp>=0.5 in /opt/conda/lib/python3.7/site-packages (from importlib-metadata->py7zr) (3.6.0)\r\n",
      "Requirement already satisfied: typing-extensions>=3.6.4 in /opt/conda/lib/python3.7/site-packages (from importlib-metadata->py7zr) (4.1.1)\r\n",
      "Installing collected packages: zipfile-deflate64, pyzstd, pyppmd, pycryptodomex, pybcj, multivolumefile, brotli, py7zr\r\n",
      "Successfully installed brotli-1.0.9 multivolumefile-0.2.3 py7zr-0.18.3 pybcj-0.5.1 pycryptodomex-3.14.1 pyppmd-0.18.2 pyzstd-0.15.2 zipfile-deflate64-0.2.0\r\n",
      "\u001b[33mWARNING: Running pip as the 'root' user can result in broken permissions and conflicting behaviour with the system package manager. It is recommended to use a virtual environment instead: https://pip.pypa.io/warnings/venv\u001b[0m\r\n"
     ]
    }
   ],
   "source": [
    "!pip install py7zr"
   ]
  },
  {
   "cell_type": "code",
   "execution_count": 3,
   "id": "74acd57e",
   "metadata": {
    "execution": {
     "iopub.execute_input": "2022-04-07T18:22:56.565442Z",
     "iopub.status.busy": "2022-04-07T18:22:56.564364Z",
     "iopub.status.idle": "2022-04-07T18:22:56.860906Z",
     "shell.execute_reply": "2022-04-07T18:22:56.862111Z",
     "shell.execute_reply.started": "2022-03-25T18:13:22.538181Z"
    },
    "papermill": {
     "duration": 0.378785,
     "end_time": "2022-04-07T18:22:56.862381",
     "exception": false,
     "start_time": "2022-04-07T18:22:56.483596",
     "status": "completed"
    },
    "tags": []
   },
   "outputs": [],
   "source": [
    "from py7zr import unpack_7zarchive\n",
    "import shutil\n",
    "\n",
    "shutil.register_unpack_format('7zip',['.7z'],unpack_7zarchive) #Run for first time only"
   ]
  },
  {
   "cell_type": "code",
   "execution_count": 4,
   "id": "478a0058",
   "metadata": {
    "execution": {
     "iopub.execute_input": "2022-04-07T18:22:56.996416Z",
     "iopub.status.busy": "2022-04-07T18:22:56.995268Z",
     "iopub.status.idle": "2022-04-07T18:23:46.192275Z",
     "shell.execute_reply": "2022-04-07T18:23:46.191614Z",
     "shell.execute_reply.started": "2022-03-25T18:13:22.578485Z"
    },
    "papermill": {
     "duration": 49.26604,
     "end_time": "2022-04-07T18:23:46.192454",
     "exception": false,
     "start_time": "2022-04-07T18:22:56.926414",
     "status": "completed"
    },
    "tags": []
   },
   "outputs": [],
   "source": [
    "shutil.unpack_archive('../input/cifar-10/train.7z', '/kaggle/temp/')"
   ]
  },
  {
   "cell_type": "code",
   "execution_count": 5,
   "id": "436510eb",
   "metadata": {
    "execution": {
     "iopub.execute_input": "2022-04-07T18:23:46.273356Z",
     "iopub.status.busy": "2022-04-07T18:23:46.272651Z",
     "iopub.status.idle": "2022-04-07T18:23:46.316052Z",
     "shell.execute_reply": "2022-04-07T18:23:46.317083Z",
     "shell.execute_reply.started": "2022-03-25T18:13:22.580632Z"
    },
    "papermill": {
     "duration": 0.08746,
     "end_time": "2022-04-07T18:23:46.317339",
     "exception": false,
     "start_time": "2022-04-07T18:23:46.229879",
     "status": "completed"
    },
    "tags": []
   },
   "outputs": [
    {
     "name": "stdout",
     "output_type": "stream",
     "text": [
      "['frog' 'truck' 'deer' 'automobile' 'bird' 'horse' 'ship' 'cat' 'dog'\n",
      " 'airplane']\n"
     ]
    }
   ],
   "source": [
    "train_labels = pd.read_csv(\"../input/cifar-10/trainLabels.csv\", header=\"infer\")\n",
    "\n",
    "classes = train_labels['label'].unique()\n",
    "print(classes)"
   ]
  },
  {
   "cell_type": "code",
   "execution_count": 6,
   "id": "69daf5d4",
   "metadata": {
    "execution": {
     "iopub.execute_input": "2022-04-07T18:23:46.403174Z",
     "iopub.status.busy": "2022-04-07T18:23:46.402123Z",
     "iopub.status.idle": "2022-04-07T18:23:56.221093Z",
     "shell.execute_reply": "2022-04-07T18:23:56.221902Z",
     "shell.execute_reply.started": "2022-03-25T18:13:22.582843Z"
    },
    "papermill": {
     "duration": 9.866472,
     "end_time": "2022-04-07T18:23:56.222291",
     "exception": false,
     "start_time": "2022-04-07T18:23:46.355819",
     "status": "completed"
    },
    "tags": []
   },
   "outputs": [],
   "source": [
    "if not os.path.exists(\"/kaggle/temp/valid\"):\n",
    "    os.mkdir(\"/kaggle/temp/valid\")\n",
    "    \n",
    "parent_path_train = \"/kaggle/temp/train\"\n",
    "parent_path_valid = \"/kaggle/temp/valid\"\n",
    "parent_path_test = \"/kaggle/temp/test\"\n",
    "\n",
    "for class1 in classes:\n",
    "    path_train = os.path.join(parent_path_train,class1)\n",
    "    if not os.path.exists(path_train):\n",
    "        os.mkdir(path_train)\n",
    "    path_valid = os.path.join(parent_path_valid,class1)\n",
    "    if not os.path.exists(path_valid):\n",
    "        os.mkdir(path_valid)\n",
    "        \n",
    "for (int_ind,row) in train_labels.iterrows():\n",
    "    id = str(row[\"id\"])+\".png\"\n",
    "    source_path = os.path.join(parent_path_train,id)\n",
    "    \n",
    "    p=np.random.random()\n",
    "    if p<=0.8:\n",
    "        target_path = os.path.join(parent_path_train,row[\"label\"],id)\n",
    "        os.replace(source_path, target_path)\n",
    "    else:\n",
    "        target_path = os.path.join(parent_path_valid,row[\"label\"],id)\n",
    "        os.replace(source_path, target_path)"
   ]
  },
  {
   "cell_type": "code",
   "execution_count": 7,
   "id": "fcb29918",
   "metadata": {
    "execution": {
     "iopub.execute_input": "2022-04-07T18:23:56.357276Z",
     "iopub.status.busy": "2022-04-07T18:23:56.356195Z",
     "iopub.status.idle": "2022-04-07T18:23:58.346011Z",
     "shell.execute_reply": "2022-04-07T18:23:58.344671Z",
     "shell.execute_reply.started": "2022-03-25T18:13:22.584936Z"
    },
    "papermill": {
     "duration": 2.058845,
     "end_time": "2022-04-07T18:23:58.346345",
     "exception": false,
     "start_time": "2022-04-07T18:23:56.287500",
     "status": "completed"
    },
    "tags": []
   },
   "outputs": [
    {
     "name": "stdout",
     "output_type": "stream",
     "text": [
      "airplane  automobile  bird  cat  deer  dog  frog  horse  ship  truck\r\n",
      "airplane  automobile  bird  cat  deer  dog  frog  horse  ship  truck\r\n"
     ]
    }
   ],
   "source": [
    "!ls /kaggle/temp/valid\n",
    "!ls /kaggle/temp/train"
   ]
  },
  {
   "cell_type": "code",
   "execution_count": 8,
   "id": "00082f5f",
   "metadata": {
    "execution": {
     "iopub.execute_input": "2022-04-07T18:23:58.533174Z",
     "iopub.status.busy": "2022-04-07T18:23:58.530265Z",
     "iopub.status.idle": "2022-04-07T18:24:08.595324Z",
     "shell.execute_reply": "2022-04-07T18:24:08.595918Z",
     "shell.execute_reply.started": "2022-03-25T18:13:22.587139Z"
    },
    "papermill": {
     "duration": 10.163133,
     "end_time": "2022-04-07T18:24:08.596099",
     "exception": false,
     "start_time": "2022-04-07T18:23:58.432966",
     "status": "completed"
    },
    "tags": []
   },
   "outputs": [
    {
     "name": "stderr",
     "output_type": "stream",
     "text": [
      "2022-04-07 18:23:58.702514: I tensorflow/stream_executor/cuda/cuda_gpu_executor.cc:937] successful NUMA node read from SysFS had negative value (-1), but there must be at least one NUMA node, so returning NUMA node zero\n",
      "2022-04-07 18:23:58.843733: I tensorflow/stream_executor/cuda/cuda_gpu_executor.cc:937] successful NUMA node read from SysFS had negative value (-1), but there must be at least one NUMA node, so returning NUMA node zero\n",
      "2022-04-07 18:23:58.845092: I tensorflow/stream_executor/cuda/cuda_gpu_executor.cc:937] successful NUMA node read from SysFS had negative value (-1), but there must be at least one NUMA node, so returning NUMA node zero\n",
      "2022-04-07 18:23:58.849083: I tensorflow/core/platform/cpu_feature_guard.cc:142] This TensorFlow binary is optimized with oneAPI Deep Neural Network Library (oneDNN) to use the following CPU instructions in performance-critical operations:  AVX2 FMA\n",
      "To enable them in other operations, rebuild TensorFlow with the appropriate compiler flags.\n",
      "2022-04-07 18:23:58.850905: I tensorflow/stream_executor/cuda/cuda_gpu_executor.cc:937] successful NUMA node read from SysFS had negative value (-1), but there must be at least one NUMA node, so returning NUMA node zero\n",
      "2022-04-07 18:23:58.852410: I tensorflow/stream_executor/cuda/cuda_gpu_executor.cc:937] successful NUMA node read from SysFS had negative value (-1), but there must be at least one NUMA node, so returning NUMA node zero\n",
      "2022-04-07 18:23:58.853944: I tensorflow/stream_executor/cuda/cuda_gpu_executor.cc:937] successful NUMA node read from SysFS had negative value (-1), but there must be at least one NUMA node, so returning NUMA node zero\n",
      "2022-04-07 18:24:01.888871: I tensorflow/stream_executor/cuda/cuda_gpu_executor.cc:937] successful NUMA node read from SysFS had negative value (-1), but there must be at least one NUMA node, so returning NUMA node zero\n",
      "2022-04-07 18:24:01.890382: I tensorflow/stream_executor/cuda/cuda_gpu_executor.cc:937] successful NUMA node read from SysFS had negative value (-1), but there must be at least one NUMA node, so returning NUMA node zero\n",
      "2022-04-07 18:24:01.891831: I tensorflow/stream_executor/cuda/cuda_gpu_executor.cc:937] successful NUMA node read from SysFS had negative value (-1), but there must be at least one NUMA node, so returning NUMA node zero\n",
      "2022-04-07 18:24:01.893385: I tensorflow/core/common_runtime/gpu/gpu_device.cc:1510] Created device /job:localhost/replica:0/task:0/device:GPU:0 with 15403 MB memory:  -> device: 0, name: Tesla P100-PCIE-16GB, pci bus id: 0000:00:04.0, compute capability: 6.0\n"
     ]
    },
    {
     "name": "stdout",
     "output_type": "stream",
     "text": [
      "Downloading data from https://storage.googleapis.com/tensorflow/keras-applications/xception/xception_weights_tf_dim_ordering_tf_kernels_notop.h5\n",
      "83689472/83683744 [==============================] - 3s 0us/step\n",
      "83697664/83683744 [==============================] - 3s 0us/step\n",
      "Model: \"xception\"\n",
      "__________________________________________________________________________________________________\n",
      "Layer (type)                    Output Shape         Param #     Connected to                     \n",
      "==================================================================================================\n",
      "input_1 (InputLayer)            [(None, 291, 291, 3) 0                                            \n",
      "__________________________________________________________________________________________________\n",
      "block1_conv1 (Conv2D)           (None, 145, 145, 32) 864         input_1[0][0]                    \n",
      "__________________________________________________________________________________________________\n",
      "block1_conv1_bn (BatchNormaliza (None, 145, 145, 32) 128         block1_conv1[0][0]               \n",
      "__________________________________________________________________________________________________\n",
      "block1_conv1_act (Activation)   (None, 145, 145, 32) 0           block1_conv1_bn[0][0]            \n",
      "__________________________________________________________________________________________________\n",
      "block1_conv2 (Conv2D)           (None, 143, 143, 64) 18432       block1_conv1_act[0][0]           \n",
      "__________________________________________________________________________________________________\n",
      "block1_conv2_bn (BatchNormaliza (None, 143, 143, 64) 256         block1_conv2[0][0]               \n",
      "__________________________________________________________________________________________________\n",
      "block1_conv2_act (Activation)   (None, 143, 143, 64) 0           block1_conv2_bn[0][0]            \n",
      "__________________________________________________________________________________________________\n",
      "block2_sepconv1 (SeparableConv2 (None, 143, 143, 128 8768        block1_conv2_act[0][0]           \n",
      "__________________________________________________________________________________________________\n",
      "block2_sepconv1_bn (BatchNormal (None, 143, 143, 128 512         block2_sepconv1[0][0]            \n",
      "__________________________________________________________________________________________________\n",
      "block2_sepconv2_act (Activation (None, 143, 143, 128 0           block2_sepconv1_bn[0][0]         \n",
      "__________________________________________________________________________________________________\n",
      "block2_sepconv2 (SeparableConv2 (None, 143, 143, 128 17536       block2_sepconv2_act[0][0]        \n",
      "__________________________________________________________________________________________________\n",
      "block2_sepconv2_bn (BatchNormal (None, 143, 143, 128 512         block2_sepconv2[0][0]            \n",
      "__________________________________________________________________________________________________\n",
      "conv2d (Conv2D)                 (None, 72, 72, 128)  8192        block1_conv2_act[0][0]           \n",
      "__________________________________________________________________________________________________\n",
      "block2_pool (MaxPooling2D)      (None, 72, 72, 128)  0           block2_sepconv2_bn[0][0]         \n",
      "__________________________________________________________________________________________________\n",
      "batch_normalization (BatchNorma (None, 72, 72, 128)  512         conv2d[0][0]                     \n",
      "__________________________________________________________________________________________________\n",
      "add (Add)                       (None, 72, 72, 128)  0           block2_pool[0][0]                \n",
      "                                                                 batch_normalization[0][0]        \n",
      "__________________________________________________________________________________________________\n",
      "block3_sepconv1_act (Activation (None, 72, 72, 128)  0           add[0][0]                        \n",
      "__________________________________________________________________________________________________\n",
      "block3_sepconv1 (SeparableConv2 (None, 72, 72, 256)  33920       block3_sepconv1_act[0][0]        \n",
      "__________________________________________________________________________________________________\n",
      "block3_sepconv1_bn (BatchNormal (None, 72, 72, 256)  1024        block3_sepconv1[0][0]            \n",
      "__________________________________________________________________________________________________\n",
      "block3_sepconv2_act (Activation (None, 72, 72, 256)  0           block3_sepconv1_bn[0][0]         \n",
      "__________________________________________________________________________________________________\n",
      "block3_sepconv2 (SeparableConv2 (None, 72, 72, 256)  67840       block3_sepconv2_act[0][0]        \n",
      "__________________________________________________________________________________________________\n",
      "block3_sepconv2_bn (BatchNormal (None, 72, 72, 256)  1024        block3_sepconv2[0][0]            \n",
      "__________________________________________________________________________________________________\n",
      "conv2d_1 (Conv2D)               (None, 36, 36, 256)  32768       add[0][0]                        \n",
      "__________________________________________________________________________________________________\n",
      "block3_pool (MaxPooling2D)      (None, 36, 36, 256)  0           block3_sepconv2_bn[0][0]         \n",
      "__________________________________________________________________________________________________\n",
      "batch_normalization_1 (BatchNor (None, 36, 36, 256)  1024        conv2d_1[0][0]                   \n",
      "__________________________________________________________________________________________________\n",
      "add_1 (Add)                     (None, 36, 36, 256)  0           block3_pool[0][0]                \n",
      "                                                                 batch_normalization_1[0][0]      \n",
      "__________________________________________________________________________________________________\n",
      "block4_sepconv1_act (Activation (None, 36, 36, 256)  0           add_1[0][0]                      \n",
      "__________________________________________________________________________________________________\n",
      "block4_sepconv1 (SeparableConv2 (None, 36, 36, 728)  188672      block4_sepconv1_act[0][0]        \n",
      "__________________________________________________________________________________________________\n",
      "block4_sepconv1_bn (BatchNormal (None, 36, 36, 728)  2912        block4_sepconv1[0][0]            \n",
      "__________________________________________________________________________________________________\n",
      "block4_sepconv2_act (Activation (None, 36, 36, 728)  0           block4_sepconv1_bn[0][0]         \n",
      "__________________________________________________________________________________________________\n",
      "block4_sepconv2 (SeparableConv2 (None, 36, 36, 728)  536536      block4_sepconv2_act[0][0]        \n",
      "__________________________________________________________________________________________________\n",
      "block4_sepconv2_bn (BatchNormal (None, 36, 36, 728)  2912        block4_sepconv2[0][0]            \n",
      "__________________________________________________________________________________________________\n",
      "conv2d_2 (Conv2D)               (None, 18, 18, 728)  186368      add_1[0][0]                      \n",
      "__________________________________________________________________________________________________\n",
      "block4_pool (MaxPooling2D)      (None, 18, 18, 728)  0           block4_sepconv2_bn[0][0]         \n",
      "__________________________________________________________________________________________________\n",
      "batch_normalization_2 (BatchNor (None, 18, 18, 728)  2912        conv2d_2[0][0]                   \n",
      "__________________________________________________________________________________________________\n",
      "add_2 (Add)                     (None, 18, 18, 728)  0           block4_pool[0][0]                \n",
      "                                                                 batch_normalization_2[0][0]      \n",
      "__________________________________________________________________________________________________\n",
      "block5_sepconv1_act (Activation (None, 18, 18, 728)  0           add_2[0][0]                      \n",
      "__________________________________________________________________________________________________\n",
      "block5_sepconv1 (SeparableConv2 (None, 18, 18, 728)  536536      block5_sepconv1_act[0][0]        \n",
      "__________________________________________________________________________________________________\n",
      "block5_sepconv1_bn (BatchNormal (None, 18, 18, 728)  2912        block5_sepconv1[0][0]            \n",
      "__________________________________________________________________________________________________\n",
      "block5_sepconv2_act (Activation (None, 18, 18, 728)  0           block5_sepconv1_bn[0][0]         \n",
      "__________________________________________________________________________________________________\n",
      "block5_sepconv2 (SeparableConv2 (None, 18, 18, 728)  536536      block5_sepconv2_act[0][0]        \n",
      "__________________________________________________________________________________________________\n",
      "block5_sepconv2_bn (BatchNormal (None, 18, 18, 728)  2912        block5_sepconv2[0][0]            \n",
      "__________________________________________________________________________________________________\n",
      "block5_sepconv3_act (Activation (None, 18, 18, 728)  0           block5_sepconv2_bn[0][0]         \n",
      "__________________________________________________________________________________________________\n",
      "block5_sepconv3 (SeparableConv2 (None, 18, 18, 728)  536536      block5_sepconv3_act[0][0]        \n",
      "__________________________________________________________________________________________________\n",
      "block5_sepconv3_bn (BatchNormal (None, 18, 18, 728)  2912        block5_sepconv3[0][0]            \n",
      "__________________________________________________________________________________________________\n",
      "add_3 (Add)                     (None, 18, 18, 728)  0           block5_sepconv3_bn[0][0]         \n",
      "                                                                 add_2[0][0]                      \n",
      "__________________________________________________________________________________________________\n",
      "block6_sepconv1_act (Activation (None, 18, 18, 728)  0           add_3[0][0]                      \n",
      "__________________________________________________________________________________________________\n",
      "block6_sepconv1 (SeparableConv2 (None, 18, 18, 728)  536536      block6_sepconv1_act[0][0]        \n",
      "__________________________________________________________________________________________________\n",
      "block6_sepconv1_bn (BatchNormal (None, 18, 18, 728)  2912        block6_sepconv1[0][0]            \n",
      "__________________________________________________________________________________________________\n",
      "block6_sepconv2_act (Activation (None, 18, 18, 728)  0           block6_sepconv1_bn[0][0]         \n",
      "__________________________________________________________________________________________________\n",
      "block6_sepconv2 (SeparableConv2 (None, 18, 18, 728)  536536      block6_sepconv2_act[0][0]        \n",
      "__________________________________________________________________________________________________\n",
      "block6_sepconv2_bn (BatchNormal (None, 18, 18, 728)  2912        block6_sepconv2[0][0]            \n",
      "__________________________________________________________________________________________________\n",
      "block6_sepconv3_act (Activation (None, 18, 18, 728)  0           block6_sepconv2_bn[0][0]         \n",
      "__________________________________________________________________________________________________\n",
      "block6_sepconv3 (SeparableConv2 (None, 18, 18, 728)  536536      block6_sepconv3_act[0][0]        \n",
      "__________________________________________________________________________________________________\n",
      "block6_sepconv3_bn (BatchNormal (None, 18, 18, 728)  2912        block6_sepconv3[0][0]            \n",
      "__________________________________________________________________________________________________\n",
      "add_4 (Add)                     (None, 18, 18, 728)  0           block6_sepconv3_bn[0][0]         \n",
      "                                                                 add_3[0][0]                      \n",
      "__________________________________________________________________________________________________\n",
      "block7_sepconv1_act (Activation (None, 18, 18, 728)  0           add_4[0][0]                      \n",
      "__________________________________________________________________________________________________\n",
      "block7_sepconv1 (SeparableConv2 (None, 18, 18, 728)  536536      block7_sepconv1_act[0][0]        \n",
      "__________________________________________________________________________________________________\n",
      "block7_sepconv1_bn (BatchNormal (None, 18, 18, 728)  2912        block7_sepconv1[0][0]            \n",
      "__________________________________________________________________________________________________\n",
      "block7_sepconv2_act (Activation (None, 18, 18, 728)  0           block7_sepconv1_bn[0][0]         \n",
      "__________________________________________________________________________________________________\n",
      "block7_sepconv2 (SeparableConv2 (None, 18, 18, 728)  536536      block7_sepconv2_act[0][0]        \n",
      "__________________________________________________________________________________________________\n",
      "block7_sepconv2_bn (BatchNormal (None, 18, 18, 728)  2912        block7_sepconv2[0][0]            \n",
      "__________________________________________________________________________________________________\n",
      "block7_sepconv3_act (Activation (None, 18, 18, 728)  0           block7_sepconv2_bn[0][0]         \n",
      "__________________________________________________________________________________________________\n",
      "block7_sepconv3 (SeparableConv2 (None, 18, 18, 728)  536536      block7_sepconv3_act[0][0]        \n",
      "__________________________________________________________________________________________________\n",
      "block7_sepconv3_bn (BatchNormal (None, 18, 18, 728)  2912        block7_sepconv3[0][0]            \n",
      "__________________________________________________________________________________________________\n",
      "add_5 (Add)                     (None, 18, 18, 728)  0           block7_sepconv3_bn[0][0]         \n",
      "                                                                 add_4[0][0]                      \n",
      "__________________________________________________________________________________________________\n",
      "block8_sepconv1_act (Activation (None, 18, 18, 728)  0           add_5[0][0]                      \n",
      "__________________________________________________________________________________________________\n",
      "block8_sepconv1 (SeparableConv2 (None, 18, 18, 728)  536536      block8_sepconv1_act[0][0]        \n",
      "__________________________________________________________________________________________________\n",
      "block8_sepconv1_bn (BatchNormal (None, 18, 18, 728)  2912        block8_sepconv1[0][0]            \n",
      "__________________________________________________________________________________________________\n",
      "block8_sepconv2_act (Activation (None, 18, 18, 728)  0           block8_sepconv1_bn[0][0]         \n",
      "__________________________________________________________________________________________________\n",
      "block8_sepconv2 (SeparableConv2 (None, 18, 18, 728)  536536      block8_sepconv2_act[0][0]        \n",
      "__________________________________________________________________________________________________\n",
      "block8_sepconv2_bn (BatchNormal (None, 18, 18, 728)  2912        block8_sepconv2[0][0]            \n",
      "__________________________________________________________________________________________________\n",
      "block8_sepconv3_act (Activation (None, 18, 18, 728)  0           block8_sepconv2_bn[0][0]         \n",
      "__________________________________________________________________________________________________\n",
      "block8_sepconv3 (SeparableConv2 (None, 18, 18, 728)  536536      block8_sepconv3_act[0][0]        \n",
      "__________________________________________________________________________________________________\n",
      "block8_sepconv3_bn (BatchNormal (None, 18, 18, 728)  2912        block8_sepconv3[0][0]            \n",
      "__________________________________________________________________________________________________\n",
      "add_6 (Add)                     (None, 18, 18, 728)  0           block8_sepconv3_bn[0][0]         \n",
      "                                                                 add_5[0][0]                      \n",
      "__________________________________________________________________________________________________\n",
      "block9_sepconv1_act (Activation (None, 18, 18, 728)  0           add_6[0][0]                      \n",
      "__________________________________________________________________________________________________\n",
      "block9_sepconv1 (SeparableConv2 (None, 18, 18, 728)  536536      block9_sepconv1_act[0][0]        \n",
      "__________________________________________________________________________________________________\n",
      "block9_sepconv1_bn (BatchNormal (None, 18, 18, 728)  2912        block9_sepconv1[0][0]            \n",
      "__________________________________________________________________________________________________\n",
      "block9_sepconv2_act (Activation (None, 18, 18, 728)  0           block9_sepconv1_bn[0][0]         \n",
      "__________________________________________________________________________________________________\n",
      "block9_sepconv2 (SeparableConv2 (None, 18, 18, 728)  536536      block9_sepconv2_act[0][0]        \n",
      "__________________________________________________________________________________________________\n",
      "block9_sepconv2_bn (BatchNormal (None, 18, 18, 728)  2912        block9_sepconv2[0][0]            \n",
      "__________________________________________________________________________________________________\n",
      "block9_sepconv3_act (Activation (None, 18, 18, 728)  0           block9_sepconv2_bn[0][0]         \n",
      "__________________________________________________________________________________________________\n",
      "block9_sepconv3 (SeparableConv2 (None, 18, 18, 728)  536536      block9_sepconv3_act[0][0]        \n",
      "__________________________________________________________________________________________________\n",
      "block9_sepconv3_bn (BatchNormal (None, 18, 18, 728)  2912        block9_sepconv3[0][0]            \n",
      "__________________________________________________________________________________________________\n",
      "add_7 (Add)                     (None, 18, 18, 728)  0           block9_sepconv3_bn[0][0]         \n",
      "                                                                 add_6[0][0]                      \n",
      "__________________________________________________________________________________________________\n",
      "block10_sepconv1_act (Activatio (None, 18, 18, 728)  0           add_7[0][0]                      \n",
      "__________________________________________________________________________________________________\n",
      "block10_sepconv1 (SeparableConv (None, 18, 18, 728)  536536      block10_sepconv1_act[0][0]       \n",
      "__________________________________________________________________________________________________\n",
      "block10_sepconv1_bn (BatchNorma (None, 18, 18, 728)  2912        block10_sepconv1[0][0]           \n",
      "__________________________________________________________________________________________________\n",
      "block10_sepconv2_act (Activatio (None, 18, 18, 728)  0           block10_sepconv1_bn[0][0]        \n",
      "__________________________________________________________________________________________________\n",
      "block10_sepconv2 (SeparableConv (None, 18, 18, 728)  536536      block10_sepconv2_act[0][0]       \n",
      "__________________________________________________________________________________________________\n",
      "block10_sepconv2_bn (BatchNorma (None, 18, 18, 728)  2912        block10_sepconv2[0][0]           \n",
      "__________________________________________________________________________________________________\n",
      "block10_sepconv3_act (Activatio (None, 18, 18, 728)  0           block10_sepconv2_bn[0][0]        \n",
      "__________________________________________________________________________________________________\n",
      "block10_sepconv3 (SeparableConv (None, 18, 18, 728)  536536      block10_sepconv3_act[0][0]       \n",
      "__________________________________________________________________________________________________\n",
      "block10_sepconv3_bn (BatchNorma (None, 18, 18, 728)  2912        block10_sepconv3[0][0]           \n",
      "__________________________________________________________________________________________________\n",
      "add_8 (Add)                     (None, 18, 18, 728)  0           block10_sepconv3_bn[0][0]        \n",
      "                                                                 add_7[0][0]                      \n",
      "__________________________________________________________________________________________________\n",
      "block11_sepconv1_act (Activatio (None, 18, 18, 728)  0           add_8[0][0]                      \n",
      "__________________________________________________________________________________________________\n",
      "block11_sepconv1 (SeparableConv (None, 18, 18, 728)  536536      block11_sepconv1_act[0][0]       \n",
      "__________________________________________________________________________________________________\n",
      "block11_sepconv1_bn (BatchNorma (None, 18, 18, 728)  2912        block11_sepconv1[0][0]           \n",
      "__________________________________________________________________________________________________\n",
      "block11_sepconv2_act (Activatio (None, 18, 18, 728)  0           block11_sepconv1_bn[0][0]        \n",
      "__________________________________________________________________________________________________\n",
      "block11_sepconv2 (SeparableConv (None, 18, 18, 728)  536536      block11_sepconv2_act[0][0]       \n",
      "__________________________________________________________________________________________________\n",
      "block11_sepconv2_bn (BatchNorma (None, 18, 18, 728)  2912        block11_sepconv2[0][0]           \n",
      "__________________________________________________________________________________________________\n",
      "block11_sepconv3_act (Activatio (None, 18, 18, 728)  0           block11_sepconv2_bn[0][0]        \n",
      "__________________________________________________________________________________________________\n",
      "block11_sepconv3 (SeparableConv (None, 18, 18, 728)  536536      block11_sepconv3_act[0][0]       \n",
      "__________________________________________________________________________________________________\n",
      "block11_sepconv3_bn (BatchNorma (None, 18, 18, 728)  2912        block11_sepconv3[0][0]           \n",
      "__________________________________________________________________________________________________\n",
      "add_9 (Add)                     (None, 18, 18, 728)  0           block11_sepconv3_bn[0][0]        \n",
      "                                                                 add_8[0][0]                      \n",
      "__________________________________________________________________________________________________\n",
      "block12_sepconv1_act (Activatio (None, 18, 18, 728)  0           add_9[0][0]                      \n",
      "__________________________________________________________________________________________________\n",
      "block12_sepconv1 (SeparableConv (None, 18, 18, 728)  536536      block12_sepconv1_act[0][0]       \n",
      "__________________________________________________________________________________________________\n",
      "block12_sepconv1_bn (BatchNorma (None, 18, 18, 728)  2912        block12_sepconv1[0][0]           \n",
      "__________________________________________________________________________________________________\n",
      "block12_sepconv2_act (Activatio (None, 18, 18, 728)  0           block12_sepconv1_bn[0][0]        \n",
      "__________________________________________________________________________________________________\n",
      "block12_sepconv2 (SeparableConv (None, 18, 18, 728)  536536      block12_sepconv2_act[0][0]       \n",
      "__________________________________________________________________________________________________\n",
      "block12_sepconv2_bn (BatchNorma (None, 18, 18, 728)  2912        block12_sepconv2[0][0]           \n",
      "__________________________________________________________________________________________________\n",
      "block12_sepconv3_act (Activatio (None, 18, 18, 728)  0           block12_sepconv2_bn[0][0]        \n",
      "__________________________________________________________________________________________________\n",
      "block12_sepconv3 (SeparableConv (None, 18, 18, 728)  536536      block12_sepconv3_act[0][0]       \n",
      "__________________________________________________________________________________________________\n",
      "block12_sepconv3_bn (BatchNorma (None, 18, 18, 728)  2912        block12_sepconv3[0][0]           \n",
      "__________________________________________________________________________________________________\n",
      "add_10 (Add)                    (None, 18, 18, 728)  0           block12_sepconv3_bn[0][0]        \n",
      "                                                                 add_9[0][0]                      \n",
      "__________________________________________________________________________________________________\n",
      "block13_sepconv1_act (Activatio (None, 18, 18, 728)  0           add_10[0][0]                     \n",
      "__________________________________________________________________________________________________\n",
      "block13_sepconv1 (SeparableConv (None, 18, 18, 728)  536536      block13_sepconv1_act[0][0]       \n",
      "__________________________________________________________________________________________________\n",
      "block13_sepconv1_bn (BatchNorma (None, 18, 18, 728)  2912        block13_sepconv1[0][0]           \n",
      "__________________________________________________________________________________________________\n",
      "block13_sepconv2_act (Activatio (None, 18, 18, 728)  0           block13_sepconv1_bn[0][0]        \n",
      "__________________________________________________________________________________________________\n",
      "block13_sepconv2 (SeparableConv (None, 18, 18, 1024) 752024      block13_sepconv2_act[0][0]       \n",
      "__________________________________________________________________________________________________\n",
      "block13_sepconv2_bn (BatchNorma (None, 18, 18, 1024) 4096        block13_sepconv2[0][0]           \n",
      "__________________________________________________________________________________________________\n",
      "conv2d_3 (Conv2D)               (None, 9, 9, 1024)   745472      add_10[0][0]                     \n",
      "__________________________________________________________________________________________________\n",
      "block13_pool (MaxPooling2D)     (None, 9, 9, 1024)   0           block13_sepconv2_bn[0][0]        \n",
      "__________________________________________________________________________________________________\n",
      "batch_normalization_3 (BatchNor (None, 9, 9, 1024)   4096        conv2d_3[0][0]                   \n",
      "__________________________________________________________________________________________________\n",
      "add_11 (Add)                    (None, 9, 9, 1024)   0           block13_pool[0][0]               \n",
      "                                                                 batch_normalization_3[0][0]      \n",
      "__________________________________________________________________________________________________\n",
      "block14_sepconv1 (SeparableConv (None, 9, 9, 1536)   1582080     add_11[0][0]                     \n",
      "__________________________________________________________________________________________________\n",
      "block14_sepconv1_bn (BatchNorma (None, 9, 9, 1536)   6144        block14_sepconv1[0][0]           \n",
      "__________________________________________________________________________________________________\n",
      "block14_sepconv1_act (Activatio (None, 9, 9, 1536)   0           block14_sepconv1_bn[0][0]        \n",
      "__________________________________________________________________________________________________\n",
      "block14_sepconv2 (SeparableConv (None, 9, 9, 2048)   3159552     block14_sepconv1_act[0][0]       \n",
      "__________________________________________________________________________________________________\n",
      "block14_sepconv2_bn (BatchNorma (None, 9, 9, 2048)   8192        block14_sepconv2[0][0]           \n",
      "__________________________________________________________________________________________________\n",
      "block14_sepconv2_act (Activatio (None, 9, 9, 2048)   0           block14_sepconv2_bn[0][0]        \n",
      "==================================================================================================\n",
      "Total params: 20,861,480\n",
      "Trainable params: 20,806,952\n",
      "Non-trainable params: 54,528\n",
      "__________________________________________________________________________________________________\n"
     ]
    }
   ],
   "source": [
    "xception_wo_top=Xception(include_top=False, input_shape=(291,291,3), weights='imagenet')\n",
    "xception_wo_top.summary()\n",
    "\n",
    "for layer in xception_wo_top.layers:\n",
    "    layer.trainable=True"
   ]
  },
  {
   "cell_type": "code",
   "execution_count": 9,
   "id": "ab6ba6c9",
   "metadata": {
    "execution": {
     "iopub.execute_input": "2022-04-07T18:24:08.704991Z",
     "iopub.status.busy": "2022-04-07T18:24:08.703910Z",
     "iopub.status.idle": "2022-04-07T18:24:09.167466Z",
     "shell.execute_reply": "2022-04-07T18:24:09.166742Z",
     "shell.execute_reply.started": "2022-03-25T18:13:22.589329Z"
    },
    "papermill": {
     "duration": 0.52116,
     "end_time": "2022-04-07T18:24:09.167620",
     "exception": false,
     "start_time": "2022-04-07T18:24:08.646460",
     "status": "completed"
    },
    "tags": []
   },
   "outputs": [
    {
     "name": "stdout",
     "output_type": "stream",
     "text": [
      "Model: \"sequential\"\n",
      "_________________________________________________________________\n",
      "Layer (type)                 Output Shape              Param #   \n",
      "=================================================================\n",
      "xception (Functional)        (None, 9, 9, 2048)        20861480  \n",
      "_________________________________________________________________\n",
      "global_average_pooling2d (Gl (None, 2048)              0         \n",
      "_________________________________________________________________\n",
      "dropout (Dropout)            (None, 2048)              0         \n",
      "_________________________________________________________________\n",
      "dense (Dense)                (None, 10)                20490     \n",
      "=================================================================\n",
      "Total params: 20,881,970\n",
      "Trainable params: 20,827,442\n",
      "Non-trainable params: 54,528\n",
      "_________________________________________________________________\n",
      "True\n",
      "True\n",
      "True\n",
      "True\n"
     ]
    }
   ],
   "source": [
    "classifier = Sequential()\n",
    "classifier.add(xception_wo_top)\n",
    "classifier.add(GlobalAveragePooling2D())\n",
    "classifier.add(Dropout(0.3))\n",
    "classifier.add(Dense(10,activation='softmax'))\n",
    "\n",
    "classifier.compile(loss='categorical_crossentropy', optimizer='adam', metrics=['accuracy'])\n",
    "classifier.summary()\n",
    "\n",
    "for i in classifier.layers:\n",
    "    print(i.trainable)"
   ]
  },
  {
   "cell_type": "code",
   "execution_count": 10,
   "id": "a9273ea4",
   "metadata": {
    "execution": {
     "iopub.execute_input": "2022-04-07T18:24:09.274829Z",
     "iopub.status.busy": "2022-04-07T18:24:09.273511Z",
     "iopub.status.idle": "2022-04-07T18:24:09.278234Z",
     "shell.execute_reply": "2022-04-07T18:24:09.278791Z",
     "shell.execute_reply.started": "2022-03-25T18:13:22.59155Z"
    },
    "papermill": {
     "duration": 0.060927,
     "end_time": "2022-04-07T18:24:09.278945",
     "exception": false,
     "start_time": "2022-04-07T18:24:09.218018",
     "status": "completed"
    },
    "tags": []
   },
   "outputs": [],
   "source": [
    "reduceLROnPlateau=ReduceLROnPlateau(monitor='val_acc', patience=3, verbose=1, factor=0.5, min_lr=0.00001)"
   ]
  },
  {
   "cell_type": "code",
   "execution_count": 11,
   "id": "f53930fa",
   "metadata": {
    "execution": {
     "iopub.execute_input": "2022-04-07T18:24:09.387898Z",
     "iopub.status.busy": "2022-04-07T18:24:09.387019Z",
     "iopub.status.idle": "2022-04-07T18:24:11.177726Z",
     "shell.execute_reply": "2022-04-07T18:24:11.178729Z",
     "shell.execute_reply.started": "2022-03-25T18:13:22.59383Z"
    },
    "papermill": {
     "duration": 1.850153,
     "end_time": "2022-04-07T18:24:11.179010",
     "exception": false,
     "start_time": "2022-04-07T18:24:09.328857",
     "status": "completed"
    },
    "tags": []
   },
   "outputs": [
    {
     "name": "stdout",
     "output_type": "stream",
     "text": [
      "Found 40204 images belonging to 10 classes.\n",
      "Found 9796 images belonging to 10 classes.\n"
     ]
    }
   ],
   "source": [
    "train_datagen = ImageDataGenerator(featurewise_center=False,\n",
    "                             samplewise_center=False,\n",
    "                             featurewise_std_normalization=False,\n",
    "                             samplewise_std_normalization=False,\n",
    "                             zca_whitening=False,\n",
    "                             rotation_range=10,\n",
    "                             zoom_range=0.1,\n",
    "                             width_shift_range=0.1,\n",
    "                             height_shift_range=0.1,\n",
    "                             horizontal_flip=False,\n",
    "                             vertical_flip=False,\n",
    "                             preprocessing_function=preprocess_input,\n",
    "                             rescale=None)\n",
    "\n",
    "valid_datagen = ImageDataGenerator(preprocessing_function=preprocess_input)\n",
    "\n",
    "\n",
    "train_generator = train_datagen.flow_from_directory(directory='/kaggle/temp/train/', \n",
    "                                                    shuffle=True, target_size=(192,192),\n",
    "                                                    batch_size=128)\n",
    "valid_generator = valid_datagen.flow_from_directory(directory='/kaggle/temp/valid/',\n",
    "                                                    shuffle=True, target_size=(192,192),\n",
    "                                                    batch_size=128)"
   ]
  },
  {
   "cell_type": "code",
   "execution_count": 12,
   "id": "52aa7cc5",
   "metadata": {
    "execution": {
     "iopub.execute_input": "2022-04-07T18:24:11.289112Z",
     "iopub.status.busy": "2022-04-07T18:24:11.284275Z",
     "iopub.status.idle": "2022-04-07T19:30:23.336749Z",
     "shell.execute_reply": "2022-04-07T19:30:23.337415Z",
     "shell.execute_reply.started": "2022-03-25T18:13:22.596145Z"
    },
    "papermill": {
     "duration": 3972.106906,
     "end_time": "2022-04-07T19:30:23.337661",
     "exception": false,
     "start_time": "2022-04-07T18:24:11.230755",
     "status": "completed"
    },
    "tags": []
   },
   "outputs": [
    {
     "name": "stderr",
     "output_type": "stream",
     "text": [
      "2022-04-07 18:24:12.433276: I tensorflow/compiler/mlir/mlir_graph_optimization_pass.cc:185] None of the MLIR Optimization Passes are enabled (registered 2)\n"
     ]
    },
    {
     "name": "stdout",
     "output_type": "stream",
     "text": [
      "Epoch 1/8\n"
     ]
    },
    {
     "name": "stderr",
     "output_type": "stream",
     "text": [
      "2022-04-07 18:24:30.603893: I tensorflow/stream_executor/cuda/cuda_dnn.cc:369] Loaded cuDNN version 8005\n",
      "2022-04-07 18:24:36.938027: W tensorflow/core/common_runtime/bfc_allocator.cc:272] Allocator (GPU_0_bfc) ran out of memory trying to allocate 3.68GiB with freed_by_count=0. The caller indicates that this is not a failure, but may mean that there could be performance gains if more memory were available.\n",
      "2022-04-07 18:24:37.421063: W tensorflow/core/common_runtime/bfc_allocator.cc:272] Allocator (GPU_0_bfc) ran out of memory trying to allocate 3.42GiB with freed_by_count=0. The caller indicates that this is not a failure, but may mean that there could be performance gains if more memory were available.\n",
      "2022-04-07 18:24:37.437242: W tensorflow/core/common_runtime/bfc_allocator.cc:272] Allocator (GPU_0_bfc) ran out of memory trying to allocate 3.82GiB with freed_by_count=0. The caller indicates that this is not a failure, but may mean that there could be performance gains if more memory were available.\n"
     ]
    },
    {
     "name": "stdout",
     "output_type": "stream",
     "text": [
      "314/314 [==============================] - 488s 1s/step - loss: 0.3845 - accuracy: 0.8746 - val_loss: 0.4049 - val_accuracy: 0.8721\n",
      "Epoch 2/8\n",
      "314/314 [==============================] - 477s 1s/step - loss: 0.2007 - accuracy: 0.9326 - val_loss: 0.2700 - val_accuracy: 0.9153\n",
      "Epoch 3/8\n",
      "314/314 [==============================] - 484s 2s/step - loss: 0.1502 - accuracy: 0.9495 - val_loss: 0.2894 - val_accuracy: 0.9052\n",
      "Epoch 4/8\n",
      "314/314 [==============================] - 487s 2s/step - loss: 0.1275 - accuracy: 0.9581 - val_loss: 0.2698 - val_accuracy: 0.9186\n",
      "Epoch 5/8\n",
      "314/314 [==============================] - 485s 2s/step - loss: 0.1138 - accuracy: 0.9626 - val_loss: 0.2562 - val_accuracy: 0.9233\n",
      "Epoch 6/8\n",
      "314/314 [==============================] - 483s 2s/step - loss: 0.0908 - accuracy: 0.9697 - val_loss: 0.3566 - val_accuracy: 0.9010\n",
      "Epoch 7/8\n",
      "314/314 [==============================] - 488s 2s/step - loss: 0.0779 - accuracy: 0.9744 - val_loss: 0.2684 - val_accuracy: 0.9205\n",
      "Epoch 8/8\n",
      "314/314 [==============================] - 488s 2s/step - loss: 0.0713 - accuracy: 0.9760 - val_loss: 0.2645 - val_accuracy: 0.9245\n"
     ]
    },
    {
     "data": {
      "text/plain": [
       "<keras.callbacks.History at 0x7f7bc00245d0>"
      ]
     },
     "execution_count": 12,
     "metadata": {},
     "output_type": "execute_result"
    }
   ],
   "source": [
    "classifier.fit(train_generator,\n",
    "               epochs=8, \n",
    "               validation_data=valid_generator,\n",
    "               callbacks=[reduceLROnPlateau],\n",
    "               steps_per_epoch=train_generator.n//train_generator.batch_size,\n",
    "               validation_steps= valid_generator.n//valid_generator.batch_size,\n",
    "               workers=8,\n",
    "               use_multiprocessing=True)"
   ]
  },
  {
   "cell_type": "code",
   "execution_count": 13,
   "id": "a94f2174",
   "metadata": {
    "execution": {
     "iopub.execute_input": "2022-04-07T19:30:25.788028Z",
     "iopub.status.busy": "2022-04-07T19:30:25.787213Z",
     "iopub.status.idle": "2022-04-07T19:46:11.947325Z",
     "shell.execute_reply": "2022-04-07T19:46:11.946730Z",
     "shell.execute_reply.started": "2022-03-25T18:13:22.598308Z"
    },
    "papermill": {
     "duration": 947.561524,
     "end_time": "2022-04-07T19:46:11.947541",
     "exception": false,
     "start_time": "2022-04-07T19:30:24.386017",
     "status": "completed"
    },
    "tags": []
   },
   "outputs": [],
   "source": [
    "shutil.unpack_archive('/kaggle/input/cifar-10/test.7z','/kaggle/temp/test')"
   ]
  },
  {
   "cell_type": "code",
   "execution_count": 14,
   "id": "c9923d58",
   "metadata": {
    "execution": {
     "iopub.execute_input": "2022-04-07T19:46:14.236582Z",
     "iopub.status.busy": "2022-04-07T19:46:14.235487Z",
     "iopub.status.idle": "2022-04-07T19:46:14.238336Z",
     "shell.execute_reply": "2022-04-07T19:46:14.238862Z",
     "shell.execute_reply.started": "2022-03-25T18:13:33.465847Z"
    },
    "papermill": {
     "duration": 1.190885,
     "end_time": "2022-04-07T19:46:14.239115",
     "exception": false,
     "start_time": "2022-04-07T19:46:13.048230",
     "status": "completed"
    },
    "tags": []
   },
   "outputs": [],
   "source": [
    "shutil.unregister_unpack_format('7zip')"
   ]
  },
  {
   "cell_type": "code",
   "execution_count": 15,
   "id": "ab251a0a",
   "metadata": {
    "execution": {
     "iopub.execute_input": "2022-04-07T19:46:16.376303Z",
     "iopub.status.busy": "2022-04-07T19:46:16.375260Z",
     "iopub.status.idle": "2022-04-07T19:46:26.596718Z",
     "shell.execute_reply": "2022-04-07T19:46:26.596072Z",
     "shell.execute_reply.started": "2022-03-25T18:13:38.509759Z"
    },
    "papermill": {
     "duration": 11.298879,
     "end_time": "2022-04-07T19:46:26.596900",
     "exception": false,
     "start_time": "2022-04-07T19:46:15.298021",
     "status": "completed"
    },
    "tags": []
   },
   "outputs": [
    {
     "name": "stdout",
     "output_type": "stream",
     "text": [
      "Found 300000 images belonging to 1 classes.\n"
     ]
    }
   ],
   "source": [
    "test_datagen = ImageDataGenerator(preprocessing_function=preprocess_input)\n",
    "\n",
    "test_gen = test_datagen.flow_from_directory(directory='/kaggle/temp/test',target_size=(192,192),batch_size=64,class_mode=None,shuffle=False)"
   ]
  },
  {
   "cell_type": "code",
   "execution_count": 16,
   "id": "cc2c4f6c",
   "metadata": {
    "execution": {
     "iopub.execute_input": "2022-04-07T19:46:28.737103Z",
     "iopub.status.busy": "2022-04-07T19:46:28.735661Z",
     "iopub.status.idle": "2022-04-07T19:54:16.425077Z",
     "shell.execute_reply": "2022-04-07T19:54:16.425694Z",
     "shell.execute_reply.started": "2022-03-25T18:57:18.821078Z"
    },
    "papermill": {
     "duration": 468.761671,
     "end_time": "2022-04-07T19:54:16.425933",
     "exception": false,
     "start_time": "2022-04-07T19:46:27.664262",
     "status": "completed"
    },
    "tags": []
   },
   "outputs": [],
   "source": [
    "test_gen.reset()\n",
    "predictions_vecs = classifier.predict(test_gen)\n",
    "\n",
    "predictions_final = np.argmax(predictions_vecs, axis=1)"
   ]
  },
  {
   "cell_type": "code",
   "execution_count": 17,
   "id": "13f057b2",
   "metadata": {
    "execution": {
     "iopub.execute_input": "2022-04-07T19:54:18.576470Z",
     "iopub.status.busy": "2022-04-07T19:54:18.575106Z",
     "iopub.status.idle": "2022-04-07T19:54:19.072917Z",
     "shell.execute_reply": "2022-04-07T19:54:19.072411Z",
     "shell.execute_reply.started": "2022-03-25T18:57:11.926768Z"
    },
    "papermill": {
     "duration": 1.560211,
     "end_time": "2022-04-07T19:54:19.073081",
     "exception": false,
     "start_time": "2022-04-07T19:54:17.512870",
     "status": "completed"
    },
    "tags": []
   },
   "outputs": [
    {
     "name": "stdout",
     "output_type": "stream",
     "text": [
      "<class 'dict'>\n",
      "{'airplane': 0, 'automobile': 1, 'bird': 2, 'cat': 3, 'deer': 4, 'dog': 5, 'frog': 6, 'horse': 7, 'ship': 8, 'truck': 9}\n",
      "{0: 'airplane', 1: 'automobile', 2: 'bird', 3: 'cat', 4: 'deer', 5: 'dog', 6: 'frog', 7: 'horse', 8: 'ship', 9: 'truck'}\n"
     ]
    }
   ],
   "source": [
    "print(type(train_generator.class_indices))\n",
    "print(train_generator.class_indices)\n",
    "\n",
    "classes = {value:key for (key,value) in train_generator.class_indices.items()}\n",
    "print(classes)\n",
    "\n",
    "predicted_classes=np.empty(shape=300000,dtype=np.dtype('U20'))\n",
    "\n",
    "ind=0\n",
    "for i in predictions_final.tolist():\n",
    "    predicted_classes[ind]=classes[i]\n",
    "    ind=ind+1\n",
    "    \n",
    "filenames_wo_ext = []\n",
    "for fname in test_gen.filenames:\n",
    "    filenames_wo_ext.append(int(fname.split(sep=\"/\")[1].split(sep=\".\")[0])-1)\n",
    "\n",
    "predicted_classes_final = np.empty(shape=300000,dtype=np.dtype('U20'))\n",
    "predicted_classes_final[filenames_wo_ext]=predicted_classes"
   ]
  },
  {
   "cell_type": "code",
   "execution_count": 18,
   "id": "7ef4f80b",
   "metadata": {
    "execution": {
     "iopub.execute_input": "2022-04-07T19:54:21.818825Z",
     "iopub.status.busy": "2022-04-07T19:54:21.818050Z",
     "iopub.status.idle": "2022-04-07T19:54:21.959467Z",
     "shell.execute_reply": "2022-04-07T19:54:21.958919Z",
     "shell.execute_reply.started": "2022-03-25T18:13:22.609031Z"
    },
    "papermill": {
     "duration": 1.194887,
     "end_time": "2022-04-07T19:54:21.959636",
     "exception": false,
     "start_time": "2022-04-07T19:54:20.764749",
     "status": "completed"
    },
    "tags": []
   },
   "outputs": [
    {
     "name": "stdout",
     "output_type": "stream",
     "text": [
      "<class 'pandas.core.frame.DataFrame'>\n",
      "RangeIndex: 300000 entries, 0 to 299999\n",
      "Data columns (total 2 columns):\n",
      " #   Column  Non-Null Count   Dtype \n",
      "---  ------  --------------   ----- \n",
      " 0   id      300000 non-null  int64 \n",
      " 1   label   300000 non-null  object\n",
      "dtypes: int64(1), object(1)\n",
      "memory usage: 4.6+ MB\n"
     ]
    }
   ],
   "source": [
    "sub = pd.read_csv('../input/cifar-10/sampleSubmission.csv',header='infer')\n",
    "sub.info()"
   ]
  },
  {
   "cell_type": "code",
   "execution_count": 19,
   "id": "62ab20c3",
   "metadata": {
    "execution": {
     "iopub.execute_input": "2022-04-07T19:54:24.121075Z",
     "iopub.status.busy": "2022-04-07T19:54:24.119440Z",
     "iopub.status.idle": "2022-04-07T19:54:24.675078Z",
     "shell.execute_reply": "2022-04-07T19:54:24.674478Z",
     "shell.execute_reply.started": "2022-03-25T18:13:22.611143Z"
    },
    "papermill": {
     "duration": 1.618958,
     "end_time": "2022-04-07T19:54:24.675277",
     "exception": false,
     "start_time": "2022-04-07T19:54:23.056319",
     "status": "completed"
    },
    "tags": []
   },
   "outputs": [],
   "source": [
    "sub['label'] = predicted_classes_final\n",
    "sub.to_csv('19BCE226_submission.csv',index=False)"
   ]
  }
 ],
 "metadata": {
  "kernelspec": {
   "display_name": "Python 3",
   "language": "python",
   "name": "python3"
  },
  "language_info": {
   "codemirror_mode": {
    "name": "ipython",
    "version": 3
   },
   "file_extension": ".py",
   "mimetype": "text/x-python",
   "name": "python",
   "nbconvert_exporter": "python",
   "pygments_lexer": "ipython3",
   "version": "3.7.12"
  },
  "papermill": {
   "default_parameters": {},
   "duration": 5524.564929,
   "end_time": "2022-04-07T19:54:28.897867",
   "environment_variables": {},
   "exception": null,
   "input_path": "__notebook__.ipynb",
   "output_path": "__notebook__.ipynb",
   "parameters": {},
   "start_time": "2022-04-07T18:22:24.332938",
   "version": "2.3.3"
  }
 },
 "nbformat": 4,
 "nbformat_minor": 5
}
