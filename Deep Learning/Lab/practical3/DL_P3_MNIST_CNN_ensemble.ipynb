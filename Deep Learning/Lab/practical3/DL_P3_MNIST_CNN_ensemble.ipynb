{
  "nbformat": 4,
  "nbformat_minor": 0,
  "metadata": {
    "colab": {
      "name": "DL_P3-MNIST-CNN-ensemble.ipynb",
      "provenance": [],
      "collapsed_sections": []
    },
    "kernelspec": {
      "name": "python3",
      "display_name": "Python 3"
    },
    "language_info": {
      "name": "python"
    }
  },
  "cells": [
    {
      "cell_type": "code",
      "execution_count": 2,
      "metadata": {
        "id": "Ibb7IzhridKW"
      },
      "outputs": [],
      "source": [
        "import numpy as np \n",
        "import pandas as pd\n",
        "import tensorflow as tf\n",
        "from keras.layers import Input, Dense, Conv2D, MaxPooling2D, UpSampling2D, Flatten, BatchNormalization, Dropout, Activation\n",
        "from keras.models import Model, Sequential\n",
        "from keras.preprocessing.image import ImageDataGenerator\n",
        "from keras.layers.advanced_activations import LeakyReLU\n",
        "from tensorflow.keras.optimizers import Adam\n",
        "from keras.datasets import mnist\n",
        "from keras import initializers\n",
        "import matplotlib.pyplot as plt\n",
        "from keras.callbacks import ReduceLROnPlateau\n",
        "from sklearn.model_selection import train_test_split"
      ]
    },
    {
      "cell_type": "code",
      "source": [
        "train_df = pd.read_csv('../input/digit-recognizer/train.csv')\n",
        "test_df = pd.read_csv('../input/digit-recognizer/test.csv')"
      ],
      "metadata": {
        "id": "iUjstVGaixR4"
      },
      "execution_count": null,
      "outputs": []
    },
    {
      "cell_type": "code",
      "source": [
        "X_train = train_df.drop(columns=['label'])\n",
        "y_train = train_df['label']\n",
        "X_test = test_df"
      ],
      "metadata": {
        "id": "IOYXHZOTiyce"
      },
      "execution_count": null,
      "outputs": []
    },
    {
      "cell_type": "code",
      "source": [
        "print(X_train.shape)\n",
        "print(X_test.shape)\n",
        "print(y_train.shape)"
      ],
      "metadata": {
        "id": "thXNr5hZizVv"
      },
      "execution_count": null,
      "outputs": []
    },
    {
      "cell_type": "code",
      "source": [
        "X_train = X_train.astype('float32') / 255.\n",
        "X_test = X_test.astype('float32') / 255."
      ],
      "metadata": {
        "id": "D6c7y4z_i0Zh"
      },
      "execution_count": null,
      "outputs": []
    },
    {
      "cell_type": "code",
      "source": [
        "X_train = np.array(X_train)\n",
        "X_train = X_train.reshape(X_train.shape[0],28,28,1)\n",
        "\n",
        "X_test = np.array(X_test)\n",
        "X_test = X_test.reshape(X_test.shape[0],28,28,1)"
      ],
      "metadata": {
        "id": "PqwTFN56jCrN"
      },
      "execution_count": null,
      "outputs": []
    },
    {
      "cell_type": "code",
      "source": [
        "from keras.utils.np_utils import to_categorical\n",
        "n_classes = 10\n",
        "y_train = to_categorical(y_train, n_classes)"
      ],
      "metadata": {
        "id": "aIbJsf3Oi1RU"
      },
      "execution_count": null,
      "outputs": []
    },
    {
      "cell_type": "code",
      "source": [
        "model_1 = Sequential()\n",
        "\n",
        "model_1.Input(shape=(X_train.shape[1:]))\n",
        "\n",
        "model_1.add(Conv2D(filters=32, kernel_size=(3,3), strides=(1,1),padding='valid',activation=None, use_bias=False))\n",
        "model_1.add(BatchNormalization())\n",
        "model_1.add(Activation('relu'))\n",
        "\n",
        "model_1.add(Conv2D(filters=48, kernel_size=(3,3), strides=(1,1),padding='valid',activation=None, use_bias=False))\n",
        "model_1.add(BatchNormalization())\n",
        "model_1.add(Activation('relu'))\n",
        "\n",
        "model_1.add(Conv2D(filters=64, kernel_size=(3,3), strides=(1,1),padding='valid',activation=None, use_bias=False))\n",
        "model_1.add(BatchNormalization())\n",
        "model_1.add(Activation('relu'))\n",
        "\n",
        "model_1.add(Conv2D(filters=80, kernel_size=(3,3), strides=(1,1),padding='valid',activation=None, use_bias=False))\n",
        "model_1.add(BatchNormalization())\n",
        "model_1.add(Activation('relu'))\n",
        "\n",
        "model_1.add(Conv2D(filters=96, kernel_size=(3,3), strides=(1,1),padding='valid',activation=None, use_bias=False))\n",
        "model_1.add(BatchNormalization())\n",
        "model_1.add(Activation('relu'))\n",
        "\n",
        "model_1.add(Conv2D(filters=112, kernel_size=(3,3), strides=(1,1),padding='valid',activation=None, use_bias=False))\n",
        "model_1.add(BatchNormalization())\n",
        "model_1.add(Activation('relu'))\n",
        "\n",
        "model_1.add(Conv2D(filters=128, kernel_size=(3,3), strides=(1,1),padding='valid',activation=None, use_bias=False))\n",
        "model_1.add(BatchNormalization())\n",
        "model_1.add(Activation('relu'))\n",
        "\n",
        "model_1.add(Conv2D(filters=144, kernel_size=(3,3), strides=(1,1),padding='valid',activation=None, use_bias=False))\n",
        "model_1.add(BatchNormalization())\n",
        "model_1.add(Activation('relu'))\n",
        "\n",
        "model_1.add(Conv2D(filters=160, kernel_size=(3,3), strides=(1,1),padding='valid',activation=None, use_bias=False))\n",
        "model_1.add(BatchNormalization())\n",
        "model_1.add(Activation('relu'))\n",
        "\n",
        "model_1.add(Conv2D(filters=176, kernel_size=(3,3), strides=(1,1),padding='valid',activation=None, use_bias=False))\n",
        "model_1.add(BatchNormalization())\n",
        "model_1.add(Activation('relu'))\n",
        "\n",
        "model_1.add(Flatten())\n",
        "\n",
        "model_1.add(Dense(units=10))\n",
        "model_1.add(BatchNormalization())\n",
        "model_1.add(Activation('softmax'))\n",
        "model_1.compile(loss='categorical_crossentropy', optimizer='adam', metrics=['accuracy'])"
      ],
      "metadata": {
        "colab": {
          "base_uri": "https://localhost:8080/",
          "height": 294
        },
        "id": "z61ECLdIjPWP",
        "outputId": "3766c7d6-6756-4c5e-a7a5-8df5e8a7b924"
      },
      "execution_count": 1,
      "outputs": [
        {
          "output_type": "error",
          "ename": "NameError",
          "evalue": "ignored",
          "traceback": [
            "\u001b[0;31m---------------------------------------------------------------------------\u001b[0m",
            "\u001b[0;31mNameError\u001b[0m                                 Traceback (most recent call last)",
            "\u001b[0;32m<ipython-input-1-1cb244e5b8d3>\u001b[0m in \u001b[0;36m<module>\u001b[0;34m()\u001b[0m\n\u001b[0;32m----> 1\u001b[0;31m \u001b[0mmodel_1\u001b[0m\u001b[0;34m.\u001b[0m\u001b[0mSequential\u001b[0m\u001b[0;34m(\u001b[0m\u001b[0;34m)\u001b[0m\u001b[0;34m\u001b[0m\u001b[0;34m\u001b[0m\u001b[0m\n\u001b[0m\u001b[1;32m      2\u001b[0m \u001b[0;34m\u001b[0m\u001b[0m\n\u001b[1;32m      3\u001b[0m \u001b[0mmodel_1\u001b[0m\u001b[0;34m.\u001b[0m\u001b[0mInput\u001b[0m\u001b[0;34m(\u001b[0m\u001b[0mshape\u001b[0m\u001b[0;34m=\u001b[0m\u001b[0;34m(\u001b[0m\u001b[0mX_train\u001b[0m\u001b[0;34m.\u001b[0m\u001b[0mshape\u001b[0m\u001b[0;34m[\u001b[0m\u001b[0;36m1\u001b[0m\u001b[0;34m:\u001b[0m\u001b[0;34m]\u001b[0m\u001b[0;34m)\u001b[0m\u001b[0;34m)\u001b[0m\u001b[0;34m\u001b[0m\u001b[0;34m\u001b[0m\u001b[0m\n\u001b[1;32m      4\u001b[0m \u001b[0;34m\u001b[0m\u001b[0m\n\u001b[1;32m      5\u001b[0m \u001b[0mmodel_1\u001b[0m\u001b[0;34m.\u001b[0m\u001b[0madd\u001b[0m\u001b[0;34m(\u001b[0m\u001b[0mConv2D\u001b[0m\u001b[0;34m(\u001b[0m\u001b[0mfilters\u001b[0m\u001b[0;34m=\u001b[0m\u001b[0;36m32\u001b[0m\u001b[0;34m,\u001b[0m \u001b[0mkernel_size\u001b[0m\u001b[0;34m=\u001b[0m\u001b[0;34m(\u001b[0m\u001b[0;36m3\u001b[0m\u001b[0;34m,\u001b[0m\u001b[0;36m3\u001b[0m\u001b[0;34m)\u001b[0m\u001b[0;34m,\u001b[0m \u001b[0mstrides\u001b[0m\u001b[0;34m=\u001b[0m\u001b[0;34m(\u001b[0m\u001b[0;36m1\u001b[0m\u001b[0;34m,\u001b[0m\u001b[0;36m1\u001b[0m\u001b[0;34m)\u001b[0m\u001b[0;34m,\u001b[0m\u001b[0mpadding\u001b[0m\u001b[0;34m=\u001b[0m\u001b[0;34m'valid'\u001b[0m\u001b[0;34m,\u001b[0m\u001b[0mactivation\u001b[0m\u001b[0;34m=\u001b[0m\u001b[0;32mNone\u001b[0m\u001b[0;34m,\u001b[0m \u001b[0muse_bias\u001b[0m\u001b[0;34m=\u001b[0m\u001b[0;32mFalse\u001b[0m\u001b[0;34m)\u001b[0m\u001b[0;34m)\u001b[0m\u001b[0;34m\u001b[0m\u001b[0;34m\u001b[0m\u001b[0m\n",
            "\u001b[0;31mNameError\u001b[0m: name 'model_1' is not defined"
          ]
        }
      ]
    },
    {
      "cell_type": "code",
      "source": [
        "model_2 = Sequential()\n",
        "\n",
        "model_2.Input(shape=(X_train.shape[1:]))\n",
        "\n",
        "model_2.add(Conv2D(filters=32, kernel_size=(5,5), strides=(1,1),padding='valid',activation=None, use_bias=False))\n",
        "model_2.add(BatchNormalization())\n",
        "model_2.add(Activation('relu'))\n",
        "\n",
        "model_2.add(Conv2D(filters=64, kernel_size=(5,5), strides=(1,1),padding='valid',activation=None, use_bias=False))\n",
        "model_2.add(BatchNormalization())\n",
        "model_2.add(Activation('relu'))\n",
        "\n",
        "model_2.add(Conv2D(filters=96, kernel_size=(5,5), strides=(1,1),padding='valid',activation=None, use_bias=False))\n",
        "model_2.add(BatchNormalization())\n",
        "model_2.add(Activation('relu'))\n",
        "\n",
        "model_2.add(Conv2D(filters=128, kernel_size=(5,5), strides=(1,1),padding='valid',activation=None, use_bias=False))\n",
        "model_2.add(BatchNormalization())\n",
        "model_2.add(Activation('relu'))\n",
        "\n",
        "model_2.add(Conv2D(filters=160, kernel_size=(5,5), strides=(1,1),padding='valid',activation=None, use_bias=False))\n",
        "model_2.add(BatchNormalization())\n",
        "model_2.add(Activation('relu'))\n",
        "\n",
        "model_2.add(Flatten())\n",
        "\n",
        "model_2.add(Dense(units=10))\n",
        "model_2.add(BatchNormalization())\n",
        "model_2.add(Activation('softmax'))\n",
        "model_2.compile(loss='categorical_crossentropy', optimizer='adam', metrics=['accuracy'])"
      ],
      "metadata": {
        "id": "DEB0PmEMkRXb"
      },
      "execution_count": null,
      "outputs": []
    },
    {
      "cell_type": "code",
      "source": [
        "model_3 = Sequential()\n",
        "\n",
        "model_3.Input(shape=(X_train.shape[1:]))\n",
        "\n",
        "model_3.add(Conv2D(filters=48, kernel_size=(7,7), strides=(1,1),padding='valid',activation=None, use_bias=False))\n",
        "model_3.add(BatchNormalization())\n",
        "model_3.add(Activation('relu'))\n",
        "\n",
        "model_3.add(Conv2D(filters=96, kernel_size=(7,7), strides=(1,1),padding='valid',activation=None, use_bias=False))\n",
        "model_3.add(BatchNormalization())\n",
        "model_3.add(Activation('relu'))\n",
        "\n",
        "model_3.add(Conv2D(filters=144, kernel_size=(7,7), strides=(1,1),padding='valid',activation=None, use_bias=False))\n",
        "model_3.add(BatchNormalization())\n",
        "model_3.add(Activation('relu'))\n",
        "\n",
        "model_3.add(Conv2D(filters=192, kernel_size=(7,7), strides=(1,1),padding='valid',activation=None, use_bias=False))\n",
        "model_3.add(BatchNormalization())\n",
        "model_3.add(Activation('relu'))\n",
        "\n",
        "model_3.add(Flatten())\n",
        "\n",
        "model_3.add(Dense(units=10))\n",
        "model_3.add(BatchNormalization())\n",
        "model_3.add(Activation('softmax'))\n",
        "model_3.compile(loss='categorical_crossentropy', optimizer='adam', metrics=['accuracy'])"
      ],
      "metadata": {
        "id": "gDHD9CerlDjs"
      },
      "execution_count": null,
      "outputs": []
    },
    {
      "cell_type": "code",
      "source": [
        "X_train, X_val, y_train, y_val= train_test_split(X_train, y_train_vectors, test_size=0.2, random_state=2)"
      ],
      "metadata": {
        "id": "4wX2dvZclodx"
      },
      "execution_count": null,
      "outputs": []
    },
    {
      "cell_type": "code",
      "source": [
        "train_datagen = ImageDataGenerator(featurewise_center=False,\n",
        "                             samplewise_center=False,\n",
        "                             featurewise_std_normalization=False,\n",
        "                             samplewise_std_normalization=False,\n",
        "                             zca_whitening=False,\n",
        "                             rotation_range=10,\n",
        "                             zoom_range=0.1,\n",
        "                             width_shift_range=0.1,\n",
        "                             height_shift_range=0.1,\n",
        "                             horizontal_flip=False,\n",
        "                             vertical_flip=False\n",
        "                            )\n",
        "train_generator = train_datagen.flow(X_train, y_train,\n",
        "                                     batch_size=120,\n",
        "                                     shuffle=True)\n",
        "\n",
        "val_datagen = ImageDataGenerator()\n",
        "val_generator = val_datagen.flow(X_val, y_val,\n",
        "                                 batch_size=120,\n",
        "                                 shuffle=True)"
      ],
      "metadata": {
        "id": "OLjP0Q_flzdz"
      },
      "execution_count": null,
      "outputs": []
    },
    {
      "cell_type": "code",
      "source": [
        "reduceLROnPlateau = ReduceLROnPlateau(monitor='val_acc', \n",
        "                                patience=3,\n",
        "                                verbose=1, \n",
        "                                factor=0.5,\n",
        "                                min_lr=0.00001)"
      ],
      "metadata": {
        "id": "y64B8T8WnDXQ"
      },
      "execution_count": null,
      "outputs": []
    },
    {
      "cell_type": "code",
      "source": [
        "model_1.fit(train_generator, epochs=150, callbacks=[reduceLROnPlateau], validation_data=val_generator)\n",
        "model_2.fit(train_generator, epochs=150, callbacks=[reduceLROnPlateau], validation_data=val_generator)\n",
        "model_3.fit(train_generator, epochs=150, callbacks=[reduceLROnPlateau], validation_data=val_generator)"
      ],
      "metadata": {
        "id": "TvA2yM7tn0u5"
      },
      "execution_count": null,
      "outputs": []
    },
    {
      "cell_type": "code",
      "source": [
        "prediction_vectors_1=model_1.predict(X_test)\n",
        "prediction_vectors_2=model_2.predict(X_test)\n",
        "prediction_vectors_3=model_3.predict(X_test)\n",
        "\n",
        "print(prediction_vectors_1.shape)\n",
        "print(prediction_vectors_2.shape)\n",
        "print(prediction_vectors_3.shape)\n",
        "\n",
        "average_prediction_vectors=(prediction_vectors_1+prediction_vectors_2+prediction_vectors_3)/3.\n",
        "final_predictions=np.argmax(average_prediction_vectors, axis=1)"
      ],
      "metadata": {
        "id": "6BvLE6xKn8HO"
      },
      "execution_count": null,
      "outputs": []
    },
    {
      "cell_type": "code",
      "source": [
        "submission = pd.read_csv('../input/digit-recognizer/sample_submission.csv')\n",
        "submission['label'] = final_predictions\n",
        "submission.to_csv('submission.csv', index=False)"
      ],
      "metadata": {
        "id": "0Ga_FKiOoSOQ"
      },
      "execution_count": null,
      "outputs": []
    }
  ]
}