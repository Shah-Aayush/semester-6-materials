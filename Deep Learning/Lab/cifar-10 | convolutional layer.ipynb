{
 "cells": [
  {
   "cell_type": "code",
   "execution_count": 1,
   "id": "e8f5cce7",
   "metadata": {
    "_cell_guid": "b1076dfc-b9ad-4769-8c92-a6c4dae69d19",
    "_uuid": "8f2839f25d086af736a60e9eeb907d3b93b6e0e5",
    "execution": {
     "iopub.execute_input": "2022-03-22T16:47:15.423995Z",
     "iopub.status.busy": "2022-03-22T16:47:15.421395Z",
     "iopub.status.idle": "2022-03-22T16:47:20.692122Z",
     "shell.execute_reply": "2022-03-22T16:47:20.692637Z",
     "shell.execute_reply.started": "2022-03-22T16:11:27.336736Z"
    },
    "papermill": {
     "duration": 5.293529,
     "end_time": "2022-03-22T16:47:20.692893",
     "exception": false,
     "start_time": "2022-03-22T16:47:15.399364",
     "status": "completed"
    },
    "tags": []
   },
   "outputs": [
    {
     "name": "stdout",
     "output_type": "stream",
     "text": [
      "/kaggle/input/cifar-10/trainLabels.csv\n",
      "/kaggle/input/cifar-10/sampleSubmission.csv\n",
      "/kaggle/input/cifar-10/test.7z\n",
      "/kaggle/input/cifar-10/train.7z\n"
     ]
    }
   ],
   "source": [
    "# This Python 3 environment comes with many helpful analytics libraries installed\n",
    "# It is defined by the kaggle/python Docker image: https://github.com/kaggle/docker-python\n",
    "# For example, here's several helpful packages to load\n",
    "\n",
    "import numpy as np # linear algebra\n",
    "import pandas as pd # data processing, CSV file I/O (e.g. pd.read_csv)\n",
    "import os\n",
    "from tensorflow import keras\n",
    "import tensorflow as tf\n",
    "from keras import Sequential\n",
    "from keras.layers import Dense, Conv2D, MaxPooling2D, Activation, BatchNormalization, Flatten\n",
    "from keras.utils.np_utils import to_categorical\n",
    "from keras.preprocessing.image import ImageDataGenerator\n",
    "\n",
    "# Input data files are available in the read-only \"../input/\" directory\n",
    "# For example, running this (by clicking run or pressing Shift+Enter) will list all files under the input directory\n",
    "\n",
    "import os\n",
    "for dirname, _, filenames in os.walk('/kaggle/input'):\n",
    "    for filename in filenames:\n",
    "        print(os.path.join(dirname, filename))\n",
    "\n",
    "# You can write up to 20GB to the current directory (/kaggle/working/) that gets preserved as output when you create a version using \"Save & Run All\" \n",
    "# You can also write temporary files to /kaggle/temp/, but they won't be saved outside of the current session"
   ]
  },
  {
   "cell_type": "code",
   "execution_count": 2,
   "id": "1006a801",
   "metadata": {
    "execution": {
     "iopub.execute_input": "2022-03-22T16:47:20.731775Z",
     "iopub.status.busy": "2022-03-22T16:47:20.731026Z",
     "iopub.status.idle": "2022-03-22T16:47:32.773422Z",
     "shell.execute_reply": "2022-03-22T16:47:32.772938Z",
     "shell.execute_reply.started": "2022-03-22T16:11:32.542202Z"
    },
    "papermill": {
     "duration": 12.063587,
     "end_time": "2022-03-22T16:47:32.773555",
     "exception": false,
     "start_time": "2022-03-22T16:47:20.709968",
     "status": "completed"
    },
    "tags": []
   },
   "outputs": [
    {
     "name": "stdout",
     "output_type": "stream",
     "text": [
      "Collecting py7zr\r\n",
      "  Downloading py7zr-0.18.1-py3-none-any.whl (69 kB)\r\n",
      "     |████████████████████████████████| 69 kB 893 kB/s            \r\n",
      "\u001b[?25hCollecting pyzstd>=0.14.4\r\n",
      "  Downloading pyzstd-0.15.2-cp37-cp37m-manylinux_2_17_x86_64.manylinux2014_x86_64.whl (2.4 MB)\r\n",
      "     |████████████████████████████████| 2.4 MB 1.7 MB/s            \r\n",
      "\u001b[?25hCollecting brotli>=1.0.9\r\n",
      "  Downloading Brotli-1.0.9-cp37-cp37m-manylinux1_x86_64.whl (357 kB)\r\n",
      "     |████████████████████████████████| 357 kB 63.5 MB/s            \r\n",
      "\u001b[?25hCollecting pycryptodomex>=3.6.6\r\n",
      "  Downloading pycryptodomex-3.14.1-cp35-abi3-manylinux2010_x86_64.whl (2.0 MB)\r\n",
      "     |████████████████████████████████| 2.0 MB 61.6 MB/s            \r\n",
      "\u001b[?25hRequirement already satisfied: importlib-metadata in /opt/conda/lib/python3.7/site-packages (from py7zr) (4.11.3)\r\n",
      "Collecting pyppmd<0.18.0,>=0.17.0\r\n",
      "  Downloading pyppmd-0.17.4-cp37-cp37m-manylinux_2_17_x86_64.manylinux2014_x86_64.whl (126 kB)\r\n",
      "     |████████████████████████████████| 126 kB 61.8 MB/s            \r\n",
      "\u001b[?25hRequirement already satisfied: texttable in /opt/conda/lib/python3.7/site-packages (from py7zr) (1.6.4)\r\n",
      "Collecting multivolumefile>=0.2.3\r\n",
      "  Downloading multivolumefile-0.2.3-py3-none-any.whl (17 kB)\r\n",
      "Collecting zipfile-deflate64>=0.2.0\r\n",
      "  Downloading zipfile_deflate64-0.2.0-cp37-cp37m-manylinux_2_17_x86_64.manylinux2014_x86_64.whl (43 kB)\r\n",
      "     |████████████████████████████████| 43 kB 1.6 MB/s             \r\n",
      "\u001b[?25hCollecting pybcj>=0.5.0\r\n",
      "  Downloading pybcj-0.5.0-cp37-cp37m-manylinux_2_17_x86_64.manylinux2014_x86_64.whl (48 kB)\r\n",
      "     |████████████████████████████████| 48 kB 3.6 MB/s             \r\n",
      "\u001b[?25hRequirement already satisfied: typing-extensions>=3.6.4 in /opt/conda/lib/python3.7/site-packages (from importlib-metadata->py7zr) (4.1.1)\r\n",
      "Requirement already satisfied: zipp>=0.5 in /opt/conda/lib/python3.7/site-packages (from importlib-metadata->py7zr) (3.6.0)\r\n",
      "Installing collected packages: zipfile-deflate64, pyzstd, pyppmd, pycryptodomex, pybcj, multivolumefile, brotli, py7zr\r\n",
      "Successfully installed brotli-1.0.9 multivolumefile-0.2.3 py7zr-0.18.1 pybcj-0.5.0 pycryptodomex-3.14.1 pyppmd-0.17.4 pyzstd-0.15.2 zipfile-deflate64-0.2.0\r\n",
      "\u001b[33mWARNING: Running pip as the 'root' user can result in broken permissions and conflicting behaviour with the system package manager. It is recommended to use a virtual environment instead: https://pip.pypa.io/warnings/venv\u001b[0m\r\n"
     ]
    }
   ],
   "source": [
    "!pip install py7zr"
   ]
  },
  {
   "cell_type": "code",
   "execution_count": 3,
   "id": "5c3d447d",
   "metadata": {
    "execution": {
     "iopub.execute_input": "2022-03-22T16:47:32.830142Z",
     "iopub.status.busy": "2022-03-22T16:47:32.829641Z",
     "iopub.status.idle": "2022-03-22T16:47:32.974455Z",
     "shell.execute_reply": "2022-03-22T16:47:32.974009Z",
     "shell.execute_reply.started": "2022-03-22T16:11:45.191893Z"
    },
    "papermill": {
     "duration": 0.174623,
     "end_time": "2022-03-22T16:47:32.974572",
     "exception": false,
     "start_time": "2022-03-22T16:47:32.799949",
     "status": "completed"
    },
    "tags": []
   },
   "outputs": [],
   "source": [
    "from py7zr import unpack_7zarchive\n",
    "import shutil\n",
    "\n",
    "shutil.register_unpack_format('7zip',['.7z'],unpack_7zarchive)"
   ]
  },
  {
   "cell_type": "code",
   "execution_count": 4,
   "id": "c1ed02ca",
   "metadata": {
    "execution": {
     "iopub.execute_input": "2022-03-22T16:47:33.028939Z",
     "iopub.status.busy": "2022-03-22T16:47:33.028455Z",
     "iopub.status.idle": "2022-03-22T16:48:13.947372Z",
     "shell.execute_reply": "2022-03-22T16:48:13.946850Z",
     "shell.execute_reply.started": "2022-03-22T16:11:45.341938Z"
    },
    "papermill": {
     "duration": 40.947491,
     "end_time": "2022-03-22T16:48:13.947518",
     "exception": false,
     "start_time": "2022-03-22T16:47:33.000027",
     "status": "completed"
    },
    "tags": []
   },
   "outputs": [],
   "source": [
    "shutil.unpack_archive('../input/cifar-10/train.7z', '/kaggle/temp/')"
   ]
  },
  {
   "cell_type": "code",
   "execution_count": 5,
   "id": "9af9f5d2",
   "metadata": {
    "execution": {
     "iopub.execute_input": "2022-03-22T16:48:14.005567Z",
     "iopub.status.busy": "2022-03-22T16:48:14.004987Z",
     "iopub.status.idle": "2022-03-22T16:48:14.048809Z",
     "shell.execute_reply": "2022-03-22T16:48:14.049202Z",
     "shell.execute_reply.started": "2022-03-22T16:12:26.098475Z"
    },
    "papermill": {
     "duration": 0.075423,
     "end_time": "2022-03-22T16:48:14.049351",
     "exception": false,
     "start_time": "2022-03-22T16:48:13.973928",
     "status": "completed"
    },
    "tags": []
   },
   "outputs": [
    {
     "name": "stdout",
     "output_type": "stream",
     "text": [
      "['frog' 'truck' 'deer' 'automobile' 'bird' 'horse' 'ship' 'cat' 'dog'\n",
      " 'airplane']\n"
     ]
    }
   ],
   "source": [
    "train_labels = pd.read_csv(\"../input/cifar-10/trainLabels.csv\", header=\"infer\")\n",
    "\n",
    "classes = train_labels['label'].unique()\n",
    "print(classes)"
   ]
  },
  {
   "cell_type": "code",
   "execution_count": 6,
   "id": "f11cfedf",
   "metadata": {
    "execution": {
     "iopub.execute_input": "2022-03-22T16:48:14.110301Z",
     "iopub.status.busy": "2022-03-22T16:48:14.109444Z",
     "iopub.status.idle": "2022-03-22T16:48:18.484311Z",
     "shell.execute_reply": "2022-03-22T16:48:18.483644Z",
     "shell.execute_reply.started": "2022-03-22T16:12:26.144850Z"
    },
    "papermill": {
     "duration": 4.408834,
     "end_time": "2022-03-22T16:48:18.484450",
     "exception": false,
     "start_time": "2022-03-22T16:48:14.075616",
     "status": "completed"
    },
    "tags": []
   },
   "outputs": [],
   "source": [
    "if not os.path.exists(\"/kaggle/temp/valid\"):\n",
    "    os.mkdir(\"/kaggle/temp/valid\")\n",
    "    \n",
    "parent_path_train = \"/kaggle/temp/train\"\n",
    "parent_path_valid = \"/kaggle/temp/valid\"\n",
    "parent_path_test = \"/kaggle/temp/test\"\n",
    "\n",
    "for class1 in classes:\n",
    "    path_train = os.path.join(parent_path_train,class1)\n",
    "    if not os.path.exists(path_train):\n",
    "        os.mkdir(path_train)\n",
    "    path_valid = os.path.join(parent_path_valid,class1)\n",
    "    if not os.path.exists(path_valid):\n",
    "        os.mkdir(path_valid)\n",
    "        \n",
    "for (int_ind,row) in train_labels.iterrows():\n",
    "    id = str(row[\"id\"])+\".png\"\n",
    "    source_path = os.path.join(parent_path_train,id)\n",
    "    \n",
    "    p=np.random.random()\n",
    "    if p<=0.8:\n",
    "        target_path = os.path.join(parent_path_train,row[\"label\"],id)\n",
    "        os.replace(source_path, target_path)\n",
    "    else:\n",
    "        target_path = os.path.join(parent_path_valid,row[\"label\"],id)\n",
    "        os.replace(source_path, target_path)"
   ]
  },
  {
   "cell_type": "code",
   "execution_count": 7,
   "id": "574b5055",
   "metadata": {
    "execution": {
     "iopub.execute_input": "2022-03-22T16:48:18.541471Z",
     "iopub.status.busy": "2022-03-22T16:48:18.540723Z",
     "iopub.status.idle": "2022-03-22T16:48:19.865160Z",
     "shell.execute_reply": "2022-03-22T16:48:19.864684Z",
     "shell.execute_reply.started": "2022-03-22T16:12:30.585121Z"
    },
    "papermill": {
     "duration": 1.354448,
     "end_time": "2022-03-22T16:48:19.865324",
     "exception": false,
     "start_time": "2022-03-22T16:48:18.510876",
     "status": "completed"
    },
    "tags": []
   },
   "outputs": [
    {
     "name": "stdout",
     "output_type": "stream",
     "text": [
      "airplane  automobile  bird  cat  deer  dog  frog  horse  ship  truck\r\n",
      "airplane  automobile  bird  cat  deer  dog  frog  horse  ship  truck\r\n"
     ]
    }
   ],
   "source": [
    "!ls /kaggle/temp/valid\n",
    "!ls /kaggle/temp/train"
   ]
  },
  {
   "cell_type": "code",
   "execution_count": 8,
   "id": "33d8a25f",
   "metadata": {
    "execution": {
     "iopub.execute_input": "2022-03-22T16:48:19.932025Z",
     "iopub.status.busy": "2022-03-22T16:48:19.931486Z",
     "iopub.status.idle": "2022-03-22T16:48:22.573212Z",
     "shell.execute_reply": "2022-03-22T16:48:22.574365Z",
     "shell.execute_reply.started": "2022-03-22T16:12:31.942477Z"
    },
    "papermill": {
     "duration": 2.682358,
     "end_time": "2022-03-22T16:48:22.574648",
     "exception": false,
     "start_time": "2022-03-22T16:48:19.892290",
     "status": "completed"
    },
    "tags": []
   },
   "outputs": [
    {
     "name": "stderr",
     "output_type": "stream",
     "text": [
      "2022-03-22 16:48:20.007771: I tensorflow/stream_executor/cuda/cuda_gpu_executor.cc:937] successful NUMA node read from SysFS had negative value (-1), but there must be at least one NUMA node, so returning NUMA node zero\n",
      "2022-03-22 16:48:20.099261: I tensorflow/stream_executor/cuda/cuda_gpu_executor.cc:937] successful NUMA node read from SysFS had negative value (-1), but there must be at least one NUMA node, so returning NUMA node zero\n",
      "2022-03-22 16:48:20.099985: I tensorflow/stream_executor/cuda/cuda_gpu_executor.cc:937] successful NUMA node read from SysFS had negative value (-1), but there must be at least one NUMA node, so returning NUMA node zero\n",
      "2022-03-22 16:48:20.101640: I tensorflow/core/platform/cpu_feature_guard.cc:142] This TensorFlow binary is optimized with oneAPI Deep Neural Network Library (oneDNN) to use the following CPU instructions in performance-critical operations:  AVX2 AVX512F FMA\n",
      "To enable them in other operations, rebuild TensorFlow with the appropriate compiler flags.\n",
      "2022-03-22 16:48:20.102773: I tensorflow/stream_executor/cuda/cuda_gpu_executor.cc:937] successful NUMA node read from SysFS had negative value (-1), but there must be at least one NUMA node, so returning NUMA node zero\n",
      "2022-03-22 16:48:20.103693: I tensorflow/stream_executor/cuda/cuda_gpu_executor.cc:937] successful NUMA node read from SysFS had negative value (-1), but there must be at least one NUMA node, so returning NUMA node zero\n",
      "2022-03-22 16:48:20.104572: I tensorflow/stream_executor/cuda/cuda_gpu_executor.cc:937] successful NUMA node read from SysFS had negative value (-1), but there must be at least one NUMA node, so returning NUMA node zero\n",
      "2022-03-22 16:48:22.040078: I tensorflow/stream_executor/cuda/cuda_gpu_executor.cc:937] successful NUMA node read from SysFS had negative value (-1), but there must be at least one NUMA node, so returning NUMA node zero\n",
      "2022-03-22 16:48:22.040879: I tensorflow/stream_executor/cuda/cuda_gpu_executor.cc:937] successful NUMA node read from SysFS had negative value (-1), but there must be at least one NUMA node, so returning NUMA node zero\n",
      "2022-03-22 16:48:22.041522: I tensorflow/stream_executor/cuda/cuda_gpu_executor.cc:937] successful NUMA node read from SysFS had negative value (-1), but there must be at least one NUMA node, so returning NUMA node zero\n",
      "2022-03-22 16:48:22.042096: I tensorflow/core/common_runtime/gpu/gpu_device.cc:1510] Created device /job:localhost/replica:0/task:0/device:GPU:0 with 15403 MB memory:  -> device: 0, name: Tesla P100-PCIE-16GB, pci bus id: 0000:00:04.0, compute capability: 6.0\n"
     ]
    }
   ],
   "source": [
    "model = Sequential()\n",
    "model.add(Conv2D(filters=32,kernel_size=(3,3),strides=(1,1),padding='valid',activation=None,use_bias=False,input_shape=(32,32,3)))\n",
    "model.add(BatchNormalization())\n",
    "model.add(Activation('relu'))\n",
    "\n",
    "model.add(Conv2D(filters=48, kernel_size=(3,3), strides=(1,1), padding='valid', activation=None, use_bias=False))\n",
    "model.add(BatchNormalization())\n",
    "model.add(Activation('relu'))\n",
    "\n",
    "model.add(Conv2D(filters=64, kernel_size=(3,3), strides=(1,1), padding='valid', activation=None, use_bias=False))\n",
    "model.add(BatchNormalization())\n",
    "model.add(Activation('relu'))\n",
    "\n",
    "model.add(Conv2D(filters=80, kernel_size=(3,3), strides=(1,1), padding='valid', activation=None, use_bias=False))\n",
    "model.add(BatchNormalization())\n",
    "model.add(Activation('relu'))\n",
    "\n",
    "model.add(Conv2D(filters=96, kernel_size=(3,3), strides=(1,1), padding='valid', activation=None, use_bias=False))\n",
    "model.add(BatchNormalization())\n",
    "model.add(Activation('relu'))\n",
    "\n",
    "model.add(Conv2D(filters=128, kernel_size=(3,3), strides=(1,1), padding='valid', activation=None, use_bias=False))\n",
    "model.add(BatchNormalization())\n",
    "model.add(Activation('relu'))\n",
    "\n",
    "model.add(Flatten())\n",
    "model.add(Dense(units=10))\n",
    "model.add(BatchNormalization())\n",
    "model.add(Activation('softmax'))\n",
    "model.compile(loss='categorical_crossentropy', optimizer='adam', metrics=['accuracy'])\n"
   ]
  },
  {
   "cell_type": "code",
   "execution_count": 9,
   "id": "ff959ee2",
   "metadata": {
    "execution": {
     "iopub.execute_input": "2022-03-22T16:48:22.676580Z",
     "iopub.status.busy": "2022-03-22T16:48:22.675786Z",
     "iopub.status.idle": "2022-03-22T16:48:24.758091Z",
     "shell.execute_reply": "2022-03-22T16:48:24.758609Z",
     "shell.execute_reply.started": "2022-03-22T16:12:35.235595Z"
    },
    "papermill": {
     "duration": 2.142424,
     "end_time": "2022-03-22T16:48:24.758758",
     "exception": false,
     "start_time": "2022-03-22T16:48:22.616334",
     "status": "completed"
    },
    "tags": []
   },
   "outputs": [
    {
     "name": "stdout",
     "output_type": "stream",
     "text": [
      "Found 40109 images belonging to 10 classes.\n",
      "Found 9891 images belonging to 10 classes.\n"
     ]
    }
   ],
   "source": [
    "train_datagen = ImageDataGenerator(featurewise_center=False,\n",
    "                             samplewise_center=False,\n",
    "                             featurewise_std_normalization=False,\n",
    "                             samplewise_std_normalization=False,\n",
    "                             zca_whitening=False,\n",
    "                             rotation_range=10,\n",
    "                             zoom_range=0.1,\n",
    "                             width_shift_range=0.1,\n",
    "                             height_shift_range=0.1,\n",
    "                             horizontal_flip=False,\n",
    "                             vertical_flip=False,\n",
    "                             rescale=1./255)\n",
    "valid_datagen = ImageDataGenerator()\n",
    "\n",
    "train_generator = train_datagen.flow_from_directory(directory='/kaggle/temp/train/', shuffle=True, target_size=(32,32),batch_size=128)\n",
    "valid_generator = valid_datagen.flow_from_directory(directory='/kaggle/temp/valid/', shuffle=True, target_size=(32,32),batch_size=128)"
   ]
  },
  {
   "cell_type": "code",
   "execution_count": 10,
   "id": "e65014a9",
   "metadata": {
    "execution": {
     "iopub.execute_input": "2022-03-22T16:48:24.828781Z",
     "iopub.status.busy": "2022-03-22T16:48:24.828102Z",
     "iopub.status.idle": "2022-03-22T16:54:11.402420Z",
     "shell.execute_reply": "2022-03-22T16:54:11.400736Z",
     "shell.execute_reply.started": "2022-03-22T16:12:37.672312Z"
    },
    "papermill": {
     "duration": 346.614694,
     "end_time": "2022-03-22T16:54:11.402612",
     "exception": false,
     "start_time": "2022-03-22T16:48:24.787918",
     "status": "completed"
    },
    "tags": []
   },
   "outputs": [
    {
     "name": "stderr",
     "output_type": "stream",
     "text": [
      "2022-03-22 16:48:25.028092: I tensorflow/compiler/mlir/mlir_graph_optimization_pass.cc:185] None of the MLIR Optimization Passes are enabled (registered 2)\n"
     ]
    },
    {
     "name": "stdout",
     "output_type": "stream",
     "text": [
      "Epoch 1/10\n"
     ]
    },
    {
     "name": "stderr",
     "output_type": "stream",
     "text": [
      "2022-03-22 16:48:28.443419: I tensorflow/stream_executor/cuda/cuda_dnn.cc:369] Loaded cuDNN version 8005\n"
     ]
    },
    {
     "name": "stdout",
     "output_type": "stream",
     "text": [
      "313/313 [==============================] - 41s 100ms/step - loss: 1.4682 - accuracy: 0.4985 - val_loss: 99.6006 - val_accuracy: 0.2010\n",
      "Epoch 2/10\n",
      "313/313 [==============================] - 31s 97ms/step - loss: 1.1618 - accuracy: 0.6174 - val_loss: 76.5321 - val_accuracy: 0.2156\n",
      "Epoch 3/10\n",
      "313/313 [==============================] - 32s 99ms/step - loss: 1.0062 - accuracy: 0.6700 - val_loss: 148.2479 - val_accuracy: 0.2357\n",
      "Epoch 4/10\n",
      "313/313 [==============================] - 32s 98ms/step - loss: 0.8958 - accuracy: 0.7071 - val_loss: 121.8954 - val_accuracy: 0.2176\n",
      "Epoch 5/10\n",
      "313/313 [==============================] - 31s 97ms/step - loss: 0.8210 - accuracy: 0.7284 - val_loss: 145.5091 - val_accuracy: 0.2178\n",
      "Epoch 6/10\n",
      "313/313 [==============================] - 32s 99ms/step - loss: 0.7594 - accuracy: 0.7488 - val_loss: 156.3459 - val_accuracy: 0.1852\n",
      "Epoch 7/10\n",
      "313/313 [==============================] - 32s 99ms/step - loss: 0.7147 - accuracy: 0.7621 - val_loss: 135.6471 - val_accuracy: 0.1872\n",
      "Epoch 8/10\n",
      "313/313 [==============================] - 31s 98ms/step - loss: 0.6774 - accuracy: 0.7764 - val_loss: 149.2105 - val_accuracy: 0.1763\n",
      "Epoch 9/10\n",
      "313/313 [==============================] - 32s 100ms/step - loss: 0.6382 - accuracy: 0.7893 - val_loss: 204.8217 - val_accuracy: 0.2093\n",
      "Epoch 10/10\n",
      "313/313 [==============================] - 32s 100ms/step - loss: 0.6091 - accuracy: 0.7979 - val_loss: 168.9621 - val_accuracy: 0.1944\n"
     ]
    },
    {
     "data": {
      "text/plain": [
       "<keras.callbacks.History at 0x7f1ec4bab150>"
      ]
     },
     "execution_count": 10,
     "metadata": {},
     "output_type": "execute_result"
    }
   ],
   "source": [
    "model.fit(train_generator,epochs=10, validation_data=valid_generator,steps_per_epoch=train_generator.n//train_generator.batch_size,\n",
    "         validation_steps= valid_generator.n//valid_generator.batch_size,workers=8,use_multiprocessing=True)"
   ]
  },
  {
   "cell_type": "code",
   "execution_count": 11,
   "id": "9edf2f7d",
   "metadata": {
    "execution": {
     "iopub.execute_input": "2022-03-22T16:54:12.990450Z",
     "iopub.status.busy": "2022-03-22T16:54:12.989773Z",
     "iopub.status.idle": "2022-03-22T17:08:12.742836Z",
     "shell.execute_reply": "2022-03-22T17:08:12.742333Z",
     "shell.execute_reply.started": "2022-03-22T16:18:52.767973Z"
    },
    "papermill": {
     "duration": 840.452863,
     "end_time": "2022-03-22T17:08:12.742978",
     "exception": false,
     "start_time": "2022-03-22T16:54:12.290115",
     "status": "completed"
    },
    "tags": []
   },
   "outputs": [],
   "source": [
    "shutil.unpack_archive('/kaggle/input/cifar-10/test.7z','/kaggle/temp/test')"
   ]
  },
  {
   "cell_type": "code",
   "execution_count": 12,
   "id": "da5265d2",
   "metadata": {
    "execution": {
     "iopub.execute_input": "2022-03-22T17:08:14.153785Z",
     "iopub.status.busy": "2022-03-22T17:08:14.152981Z",
     "iopub.status.idle": "2022-03-22T17:08:14.155423Z",
     "shell.execute_reply": "2022-03-22T17:08:14.154996Z",
     "shell.execute_reply.started": "2022-03-22T16:32:48.048905Z"
    },
    "papermill": {
     "duration": 0.715726,
     "end_time": "2022-03-22T17:08:14.155549",
     "exception": false,
     "start_time": "2022-03-22T17:08:13.439823",
     "status": "completed"
    },
    "tags": []
   },
   "outputs": [],
   "source": [
    "shutil.unregister_unpack_format('7zip')"
   ]
  },
  {
   "cell_type": "code",
   "execution_count": 13,
   "id": "a9a3de11",
   "metadata": {
    "execution": {
     "iopub.execute_input": "2022-03-22T17:08:15.572773Z",
     "iopub.status.busy": "2022-03-22T17:08:15.572167Z",
     "iopub.status.idle": "2022-03-22T17:08:24.656452Z",
     "shell.execute_reply": "2022-03-22T17:08:24.657747Z",
     "shell.execute_reply.started": "2022-03-22T16:37:54.560606Z"
    },
    "papermill": {
     "duration": 9.806948,
     "end_time": "2022-03-22T17:08:24.657991",
     "exception": false,
     "start_time": "2022-03-22T17:08:14.851043",
     "status": "completed"
    },
    "tags": []
   },
   "outputs": [
    {
     "name": "stdout",
     "output_type": "stream",
     "text": [
      "Found 300000 images belonging to 1 classes.\n"
     ]
    }
   ],
   "source": [
    "test_datagen = ImageDataGenerator(rescale=1./255)\n",
    "\n",
    "test_gen = test_datagen.flow_from_directory(directory='/kaggle/temp/test',target_size=(32,32),batch_size=64,class_mode=None,shuffle=False)"
   ]
  },
  {
   "cell_type": "code",
   "execution_count": 14,
   "id": "20e131cd",
   "metadata": {
    "execution": {
     "iopub.execute_input": "2022-03-22T17:08:27.210856Z",
     "iopub.status.busy": "2022-03-22T17:08:27.208846Z",
     "iopub.status.idle": "2022-03-22T17:09:51.190721Z",
     "shell.execute_reply": "2022-03-22T17:09:51.190168Z",
     "shell.execute_reply.started": "2022-03-22T16:42:43.569358Z"
    },
    "papermill": {
     "duration": 85.243655,
     "end_time": "2022-03-22T17:09:51.190863",
     "exception": false,
     "start_time": "2022-03-22T17:08:25.947208",
     "status": "completed"
    },
    "tags": []
   },
   "outputs": [],
   "source": [
    "test_gen.reset()\n",
    "predictions_vecs = model.predict(test_gen)\n",
    "\n",
    "predictions_final = np.argmax(predictions_vecs, axis=1)"
   ]
  },
  {
   "cell_type": "code",
   "execution_count": 15,
   "id": "11baad75",
   "metadata": {
    "execution": {
     "iopub.execute_input": "2022-03-22T17:09:52.680953Z",
     "iopub.status.busy": "2022-03-22T17:09:52.675931Z",
     "iopub.status.idle": "2022-03-22T17:09:53.115881Z",
     "shell.execute_reply": "2022-03-22T17:09:53.115228Z",
     "shell.execute_reply.started": "2022-03-22T16:45:09.818699Z"
    },
    "papermill": {
     "duration": 1.223995,
     "end_time": "2022-03-22T17:09:53.116025",
     "exception": false,
     "start_time": "2022-03-22T17:09:51.892030",
     "status": "completed"
    },
    "tags": []
   },
   "outputs": [
    {
     "name": "stdout",
     "output_type": "stream",
     "text": [
      "<class 'dict'>\n",
      "{'airplane': 0, 'automobile': 1, 'bird': 2, 'cat': 3, 'deer': 4, 'dog': 5, 'frog': 6, 'horse': 7, 'ship': 8, 'truck': 9}\n",
      "{0: 'airplane', 1: 'automobile', 2: 'bird', 3: 'cat', 4: 'deer', 5: 'dog', 6: 'frog', 7: 'horse', 8: 'ship', 9: 'truck'}\n"
     ]
    }
   ],
   "source": [
    "print(type(train_generator.class_indices))\n",
    "print(train_generator.class_indices)\n",
    "\n",
    "classes = {value:key for (key,value) in train_generator.class_indices.items()}\n",
    "print(classes)\n",
    "\n",
    "predicted_classes=np.empty(shape=300000,dtype=np.dtype('U20'))\n",
    "\n",
    "ind=0\n",
    "for i in predictions_final.tolist():\n",
    "    predicted_classes[ind]=classes[i]\n",
    "    ind=ind+1\n",
    "    \n",
    "filenames_wo_ext = []\n",
    "for fname in test_gen.filenames:\n",
    "    filenames_wo_ext.append(int(fname.split(sep=\"/\")[1].split(sep=\".\")[0])-1)\n",
    "\n",
    "predicted_classes_final = np.empty(shape=300000,dtype=np.dtype('U20'))\n",
    "predicted_classes_final[filenames_wo_ext]=predicted_classes\n"
   ]
  },
  {
   "cell_type": "code",
   "execution_count": 16,
   "id": "301bb94f",
   "metadata": {
    "execution": {
     "iopub.execute_input": "2022-03-22T17:09:54.536317Z",
     "iopub.status.busy": "2022-03-22T17:09:54.535764Z",
     "iopub.status.idle": "2022-03-22T17:09:54.677850Z",
     "shell.execute_reply": "2022-03-22T17:09:54.677415Z",
     "shell.execute_reply.started": "2022-03-22T16:46:29.935510Z"
    },
    "papermill": {
     "duration": 0.847595,
     "end_time": "2022-03-22T17:09:54.677979",
     "exception": false,
     "start_time": "2022-03-22T17:09:53.830384",
     "status": "completed"
    },
    "tags": []
   },
   "outputs": [
    {
     "name": "stdout",
     "output_type": "stream",
     "text": [
      "<class 'pandas.core.frame.DataFrame'>\n",
      "RangeIndex: 300000 entries, 0 to 299999\n",
      "Data columns (total 2 columns):\n",
      " #   Column  Non-Null Count   Dtype \n",
      "---  ------  --------------   ----- \n",
      " 0   id      300000 non-null  int64 \n",
      " 1   label   300000 non-null  object\n",
      "dtypes: int64(1), object(1)\n",
      "memory usage: 4.6+ MB\n"
     ]
    }
   ],
   "source": [
    "sub = pd.read_csv('../input/cifar-10/sampleSubmission.csv',header='infer')\n",
    "sub.info()"
   ]
  },
  {
   "cell_type": "code",
   "execution_count": 17,
   "id": "c538eb53",
   "metadata": {
    "execution": {
     "iopub.execute_input": "2022-03-22T17:09:56.106576Z",
     "iopub.status.busy": "2022-03-22T17:09:56.105468Z",
     "iopub.status.idle": "2022-03-22T17:09:56.638820Z",
     "shell.execute_reply": "2022-03-22T17:09:56.638281Z",
     "shell.execute_reply.started": "2022-03-22T16:46:45.287726Z"
    },
    "papermill": {
     "duration": 1.248443,
     "end_time": "2022-03-22T17:09:56.638946",
     "exception": false,
     "start_time": "2022-03-22T17:09:55.390503",
     "status": "completed"
    },
    "tags": []
   },
   "outputs": [],
   "source": [
    "sub['label'] = predicted_classes_final\n",
    "sub.to_csv('submission.csv',index=False)"
   ]
  },
  {
   "cell_type": "code",
   "execution_count": null,
   "id": "22fb1bbd",
   "metadata": {
    "papermill": {
     "duration": 0.70802,
     "end_time": "2022-03-22T17:09:58.051414",
     "exception": false,
     "start_time": "2022-03-22T17:09:57.343394",
     "status": "completed"
    },
    "tags": []
   },
   "outputs": [],
   "source": []
  }
 ],
 "metadata": {
  "kernelspec": {
   "display_name": "Python 3",
   "language": "python",
   "name": "python3"
  },
  "language_info": {
   "codemirror_mode": {
    "name": "ipython",
    "version": 3
   },
   "file_extension": ".py",
   "mimetype": "text/x-python",
   "name": "python",
   "nbconvert_exporter": "python",
   "pygments_lexer": "ipython3",
   "version": "3.7.12"
  },
  "papermill": {
   "default_parameters": {},
   "duration": 1374.479955,
   "end_time": "2022-03-22T17:10:01.772461",
   "environment_variables": {},
   "exception": null,
   "input_path": "__notebook__.ipynb",
   "output_path": "__notebook__.ipynb",
   "parameters": {},
   "start_time": "2022-03-22T16:47:07.292506",
   "version": "2.3.3"
  }
 },
 "nbformat": 4,
 "nbformat_minor": 5
}
