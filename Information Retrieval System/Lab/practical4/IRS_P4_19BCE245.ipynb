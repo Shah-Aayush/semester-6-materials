{
  "metadata": {
    "kernelspec": {
      "language": "python",
      "display_name": "Python 3",
      "name": "python3"
    },
    "language_info": {
      "pygments_lexer": "ipython3",
      "nbconvert_exporter": "python",
      "version": "3.6.4",
      "file_extension": ".py",
      "codemirror_mode": {
        "name": "ipython",
        "version": 3
      },
      "name": "python",
      "mimetype": "text/x-python"
    },
    "colab": {
      "name": "IRS_P4_19BCE245.ipynb",
      "provenance": []
    }
  },
  "nbformat_minor": 0,
  "nbformat": 4,
  "cells": [
    {
      "cell_type": "markdown",
      "source": [
        "# IRS Practical 4\n",
        "> 19BCE245 - Aayush Shah\n",
        "- Implementing similarity measures\n",
        "\n"
      ],
      "metadata": {
        "id": "ZWiON0kZSnaH"
      }
    },
    {
      "cell_type": "markdown",
      "source": [
        "## Cosine similarity with TF-IDF\n"
      ],
      "metadata": {
        "id": "HUqE6BTHSnaL"
      }
    },
    {
      "cell_type": "code",
      "source": [
        "import numpy as np # linear algebra\n",
        "import pandas as pd # data processing, CSV file I/O (e.g. pd.read_csv)\n",
        "import math\n",
        "from collections import Counter\n",
        "from nltk import word_tokenize\n",
        "from subprocess import check_output\n",
        "print(check_output([\"ls\", \"../input\"]).decode(\"utf8\"))\n",
        "\n",
        "# Any results you write to the current directory are saved as output."
      ],
      "metadata": {
        "execution": {
          "iopub.status.busy": "2022-04-08T04:44:46.848551Z",
          "iopub.execute_input": "2022-04-08T04:44:46.848925Z",
          "iopub.status.idle": "2022-04-08T04:44:46.889336Z",
          "shell.execute_reply.started": "2022-04-08T04:44:46.848879Z",
          "shell.execute_reply": "2022-04-08T04:44:46.88851Z"
        },
        "trusted": true,
        "id": "Hcj5bt_rSnaM"
      },
      "execution_count": null,
      "outputs": []
    },
    {
      "cell_type": "code",
      "source": [
        "def tf(question, word):\n",
        "    if word not in question:\n",
        "        return 0\n",
        "    count = dict(Counter(question))\n",
        "    q_len = len(question)\n",
        "    return float(count[word]) / float(q_len)\n"
      ],
      "metadata": {
        "_cell_guid": "2d194d35-2240-5692-bf74-92a6ed50e28e",
        "execution": {
          "iopub.status.busy": "2022-04-08T04:44:46.953104Z",
          "iopub.execute_input": "2022-04-08T04:44:46.953339Z",
          "iopub.status.idle": "2022-04-08T04:44:46.958543Z",
          "shell.execute_reply.started": "2022-04-08T04:44:46.953312Z",
          "shell.execute_reply": "2022-04-08T04:44:46.957424Z"
        },
        "trusted": true,
        "id": "DYMD1ZCOSnaN"
      },
      "execution_count": null,
      "outputs": []
    },
    {
      "cell_type": "code",
      "source": [
        "def n_containing(qlist, word):\n",
        "    return float(qlist[word])\n",
        "\n",
        "def idf(qlist, word):\n",
        "    return math.log(float(len(qlist.keys())) / (1.0 + n_containing(qlist, word)))"
      ],
      "metadata": {
        "_cell_guid": "e0c5d83c-3bc8-e6c2-8394-538c6636c016",
        "execution": {
          "iopub.status.busy": "2022-04-08T04:44:47.06524Z",
          "iopub.execute_input": "2022-04-08T04:44:47.066023Z",
          "iopub.status.idle": "2022-04-08T04:44:47.071746Z",
          "shell.execute_reply.started": "2022-04-08T04:44:47.06598Z",
          "shell.execute_reply": "2022-04-08T04:44:47.070735Z"
        },
        "trusted": true,
        "id": "he5a7VpMSnaO"
      },
      "execution_count": null,
      "outputs": []
    },
    {
      "cell_type": "code",
      "source": [
        "def tfidf(question, qlist, word):\n",
        "    return tf(question, word) * idf(qlist, word)"
      ],
      "metadata": {
        "_cell_guid": "97bf1c51-498e-01d4-799c-31f4b6e2649a",
        "execution": {
          "iopub.status.busy": "2022-04-08T04:44:47.144355Z",
          "iopub.execute_input": "2022-04-08T04:44:47.144692Z",
          "iopub.status.idle": "2022-04-08T04:44:47.148342Z",
          "shell.execute_reply.started": "2022-04-08T04:44:47.144662Z",
          "shell.execute_reply": "2022-04-08T04:44:47.147569Z"
        },
        "trusted": true,
        "id": "_GRsR3pMSnaO"
      },
      "execution_count": null,
      "outputs": []
    },
    {
      "cell_type": "code",
      "source": [
        "def cosine(v1, v2):\n",
        "    v1 = np.array(v1)\n",
        "    v2 = np.array(v2)\n",
        "\n",
        "    return np.dot(v1, v2) / (np.sqrt(np.sum(v1**2)) * np.sqrt(np.sum(v2**2)))"
      ],
      "metadata": {
        "_cell_guid": "2d62c12d-b9a0-e882-7f27-33838b949820",
        "execution": {
          "iopub.status.busy": "2022-04-08T04:44:47.218947Z",
          "iopub.execute_input": "2022-04-08T04:44:47.219223Z",
          "iopub.status.idle": "2022-04-08T04:44:47.224313Z",
          "shell.execute_reply.started": "2022-04-08T04:44:47.219195Z",
          "shell.execute_reply": "2022-04-08T04:44:47.223679Z"
        },
        "trusted": true,
        "id": "kvmxgq4QSnaP"
      },
      "execution_count": null,
      "outputs": []
    },
    {
      "cell_type": "code",
      "source": [
        "train = pd.read_csv('../input/quora-question-pairs/train.csv.zip')\n",
        "\n",
        "train_qs = train[['id', 'question1', 'question2', 'is_duplicate']]\n",
        "\n",
        "qlist = []\n",
        "count = 0\n",
        "for row in train_qs.itertuples():\n",
        "    try:\n",
        "        if len(str(row[2])) > 10:\n",
        "            q1 = word_tokenize(row[2].lower())\n",
        "        if len(str(row[3])) > 10:\n",
        "            q2 = word_tokenize(row[3].lower())\n",
        "        qlist += q1 + q2\n",
        "        count+=1\n",
        "        if count%100000 == 0:\n",
        "            print('At'+str(count))\n",
        "#        qlist.append(q2)\n",
        "    except TypeError:\n",
        "        pass\n",
        "\n",
        "# print len(qlist)\n",
        "qlist = dict(Counter(qlist))\n",
        "import json\n",
        "with open('qlist.json', 'w') as f:\n",
        "    f.write(json.dumps(qlist, indent=2))\n",
        "print('All Questions added to list')"
      ],
      "metadata": {
        "_cell_guid": "19c2ffbd-8d0e-7f92-4165-fc279ba249cd",
        "execution": {
          "iopub.status.busy": "2022-04-08T04:44:47.296974Z",
          "iopub.execute_input": "2022-04-08T04:44:47.297271Z",
          "iopub.status.idle": "2022-04-08T04:47:06.300156Z",
          "shell.execute_reply.started": "2022-04-08T04:44:47.297244Z",
          "shell.execute_reply": "2022-04-08T04:47:06.299376Z"
        },
        "trusted": true,
        "id": "Zg4u5C_nSnaP"
      },
      "execution_count": null,
      "outputs": []
    },
    {
      "cell_type": "code",
      "source": [
        "train = pd.read_csv('../input/quora-question-pairs/train.csv.zip')\n",
        "\n"
      ],
      "metadata": {
        "execution": {
          "iopub.status.busy": "2022-04-08T04:47:06.302124Z",
          "iopub.execute_input": "2022-04-08T04:47:06.302685Z",
          "iopub.status.idle": "2022-04-08T04:47:07.65087Z",
          "shell.execute_reply.started": "2022-04-08T04:47:06.302645Z",
          "shell.execute_reply": "2022-04-08T04:47:07.650114Z"
        },
        "trusted": true,
        "id": "839hX4coSnaQ"
      },
      "execution_count": null,
      "outputs": []
    },
    {
      "cell_type": "code",
      "source": [
        "print(train.shape)\n",
        "print(train.head)"
      ],
      "metadata": {
        "execution": {
          "iopub.status.busy": "2022-04-08T04:47:07.652386Z",
          "iopub.execute_input": "2022-04-08T04:47:07.652662Z",
          "iopub.status.idle": "2022-04-08T04:47:07.665129Z",
          "shell.execute_reply.started": "2022-04-08T04:47:07.652625Z",
          "shell.execute_reply": "2022-04-08T04:47:07.664442Z"
        },
        "trusted": true,
        "id": "hFRYrgoLSnaR"
      },
      "execution_count": null,
      "outputs": []
    },
    {
      "cell_type": "code",
      "source": [
        "with open('submission.csv', 'a') as f:\n",
        "    f.write('id,is_duplicate\\n')\n",
        "for row in train_qs.itertuples():\n",
        "    if len(str(row[2])) > 10 and len(str(row[3])) > 10:\n",
        "        wordvec1 = word_tokenize(row[2].lower())\n",
        "        wordvec2 = word_tokenize(row[3].lower())\n",
        "        words = wordvec1 + wordvec2\n",
        "        words = list(set([word for word in words if word != '?']))\n",
        "\n",
        "        # print words\n",
        "\n",
        "        vec1 = []\n",
        "        vec2 = []\n",
        "        for word in words:\n",
        "            vec1.append(tfidf(wordvec1, qlist, word))\n",
        "            vec2.append(tfidf(wordvec2, qlist, word))\n",
        "\n",
        "        with open('submission.csv', 'a') as f:\n",
        "            f.write(str(row[1]) + \",\" + str(cosine(vec1, vec2)) + '\\n')\n",
        "    else:\n",
        "        with open('submission.csv', 'a') as f:\n",
        "            f.write(str(row[1]) + \",\" + '0' + '\\n')\n",
        "#    print str(row[1]) + \",\" + str(cosine(vec1, vec2))"
      ],
      "metadata": {
        "_cell_guid": "cd418128-c1c0-b05b-29ec-ba69f8bfd48a",
        "execution": {
          "iopub.status.busy": "2022-04-08T04:47:07.666913Z",
          "iopub.execute_input": "2022-04-08T04:47:07.667437Z",
          "iopub.status.idle": "2022-04-08T04:51:48.054749Z",
          "shell.execute_reply.started": "2022-04-08T04:47:07.667399Z",
          "shell.execute_reply": "2022-04-08T04:51:48.053802Z"
        },
        "trusted": true,
        "id": "r4EMfiUSSnaR"
      },
      "execution_count": null,
      "outputs": []
    }
  ]
}