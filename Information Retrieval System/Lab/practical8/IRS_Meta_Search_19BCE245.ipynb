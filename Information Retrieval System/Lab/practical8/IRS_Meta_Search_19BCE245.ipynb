{
 "cells": [
  {
   "cell_type": "markdown",
   "metadata": {},
   "source": [
    "# NLP Practical 8\n",
    "> 19BCE245 - Aayush Shah"
   ]
  },
  {
   "cell_type": "code",
   "execution_count": 30,
   "metadata": {},
   "outputs": [],
   "source": [
    "import pandas as pd\n",
    "import string"
   ]
  },
  {
   "cell_type": "markdown",
   "metadata": {},
   "source": [
    "# Borda Method"
   ]
  },
  {
   "cell_type": "code",
   "execution_count": 32,
   "metadata": {},
   "outputs": [
    {
     "name": "stdout",
     "output_type": "stream",
     "text": [
      "Ranking Matrix is:\n",
      "   8 13  5  6  1\n",
      "0  A  C  A  B  C\n",
      "1  B  B  C  D  B\n",
      "2  C  A  D  A  D\n",
      "3  D  D  B  C  A\n",
      "\n",
      "The Count of Votes are:\n",
      "{'A': 91, 'B': 95, 'C': 93, 'D': 51}\n",
      "\n",
      "\n",
      "The Sorted Values are:\n",
      "['B', 'C', 'A', 'D']\n",
      "\n",
      "\n",
      "The winner is:\n",
      "B\n"
     ]
    }
   ],
   "source": [
    "d = pd.read_csv('Prac-8.csv', header=0)\n",
    "print(\"Ranking Matrix is:\")\n",
    "print(d)\n",
    "print()\n",
    "\n",
    "num_of_candidates = len(d)\n",
    "candidate_list = string.ascii_uppercase #Inititalizing all the alphabets \n",
    "# print(candidate_list)\n",
    "\n",
    "candidate_list = candidate_list[:num_of_candidates] #Truncating the list of alphabets as per the number of candidates\n",
    "\n",
    "# print(candidate_list)\n",
    "\n",
    "vote_count = {}\n",
    "for candidate in candidate_list:\n",
    "    vote_count[candidate] = 0 #Initiatlizing the vote counts of all practicals with 0\n",
    "    \n",
    "# print(vote_count['A'])\n",
    "for j in d.columns:\n",
    "    for i in range(num_of_candidates):\n",
    "#         print(d[j].iloc[i])\n",
    "        vote_count[d[j].iloc[i]] += ((num_of_candidates - i) * int(j)) #Allocating the vote count value to each candidate\n",
    "    \n",
    "sorted_vals = sorted(vote_count.items(), key=lambda x: -x[1]) #Sorting the key(candidate name) and value(vote count) as per the value of vote count\n",
    "# print(sorted_vals)\n",
    "sorted_values = []\n",
    "for a in sorted_vals:\n",
    "    sorted_values.append(a[0])\n",
    "\n",
    "\n",
    "winner = sorted_values[0] # Printing winner\n",
    "\n",
    "\n",
    "print(\"The Count of Votes are:\")\n",
    "print(vote_count)\n",
    "print('\\n')\n",
    "\n",
    "print(\"The Sorted Values are:\")\n",
    "print(sorted_values)\n",
    "print('\\n')\n",
    "\n",
    "print(\"The winner is:\")\n",
    "print(winner)"
   ]
  },
  {
   "cell_type": "markdown",
   "metadata": {},
   "source": [
    "# Reciprocal Method"
   ]
  },
  {
   "cell_type": "code",
   "execution_count": 34,
   "metadata": {},
   "outputs": [
    {
     "name": "stdout",
     "output_type": "stream",
     "text": [
      "Ranking Matrix is:\n",
      "   8 13  5  6  1\n",
      "0  A  C  A  B  C\n",
      "1  B  B  C  D  B\n",
      "2  C  A  D  A  D\n",
      "3  D  D  B  C  A\n",
      "\n",
      "\n",
      "The Count of Votes are:\n",
      "{'A': 2.9166666666666665, 'B': 2.75, 'C': 3.083333333333333, 'D': 1.6666666666666665}\n",
      "\n",
      "\n",
      "The Sorted Values are:\n",
      "['C', 'A', 'B', 'D']\n",
      "\n",
      "\n",
      "The winner is:\n",
      "C\n"
     ]
    }
   ],
   "source": [
    "d = pd.read_csv('Prac-8.csv', header=0)\n",
    "print(\"Ranking Matrix is:\")\n",
    "print(d)\n",
    "print('\\n')\n",
    "\n",
    "num_of_candidates = len(d)\n",
    "candidate_list = string.ascii_uppercase\n",
    "candidate_list = candidate_list[:num_of_candidates]\n",
    "candidate_score = {}\n",
    "\n",
    "for candidate in candidate_list:\n",
    "    candidate_score[candidate] = 0\n",
    "for j in d.columns:\n",
    "    for i in range(num_of_candidates):\n",
    "        candidate_score[d[j].iloc[i]] += (1 / (i + 1))\n",
    "sorted_vals = sorted(candidate_score.items(), key=lambda x: -x[1])\n",
    "sorted_values = []\n",
    "for a in sorted_vals:\n",
    "    sorted_values.append(a[0])\n",
    "\n",
    "\n",
    "\n",
    "winner = sorted_values[0]\n",
    "\n",
    "print(\"The Count of Votes are:\")\n",
    "print(candidate_score)\n",
    "print()\n",
    "print()\n",
    "print(\"The Sorted Values are:\")\n",
    "print(sorted_values)\n",
    "print()\n",
    "print()\n",
    "print(\"The winner is:\")\n",
    "print(winner)"
   ]
  },
  {
   "cell_type": "markdown",
   "metadata": {},
   "source": [
    "# Condorcet Method "
   ]
  },
  {
   "cell_type": "code",
   "execution_count": 37,
   "metadata": {},
   "outputs": [
    {
     "name": "stdout",
     "output_type": "stream",
     "text": [
      "Ranking Matrix is:\n",
      "   8 13  5  6  1\n",
      "0  A  C  A  B  C\n",
      "1  B  B  C  D  B\n",
      "2  C  A  D  A  D\n",
      "3  D  D  B  C  A\n",
      "\n",
      "\n",
      "Winner\n",
      "The Pairwise Winner is:\n",
      "{('A', 'B'): ['B', (13, 20)], ('A', 'C'): ['A', (19, 14)], ('A', 'D'): ['A', (26, 7)], ('B', 'C'): ['C', (14, 19)], ('B', 'D'): ['B', (28, 5)], ('C', 'D'): ['C', (27, 6)]}\n",
      "\n",
      "\n",
      "The Sorted Values are:\n",
      "[('B', 2), ('A', 2), ('C', 2)]\n",
      "\n",
      "\n",
      "The winner is:\n",
      "\n"
     ]
    }
   ],
   "source": [
    "d = pd.read_csv('Prac-8.csv', header=0)\n",
    "print(\"Ranking Matrix is:\")\n",
    "print(d)\n",
    "print()\n",
    "print()\n",
    "\n",
    "num_of_candidates = len(d)\n",
    "candidate_list = string.ascii_uppercase\n",
    "candidate_list = candidate_list[:num_of_candidates]\n",
    "pair_winner = {}\n",
    "pairs = []\n",
    "for candidate in candidate_list:\n",
    "    for candidate2 in candidate_list:\n",
    "        if candidate != candidate2 and (candidate, candidate2) not in pairs:\n",
    "            if (candidate2, candidate) not in pairs:\n",
    "                pairs.append((candidate, candidate2))\n",
    "                \n",
    "\n",
    "for p in pairs:\n",
    "    votea, voteb = 0, 0\n",
    "    for j in d.columns:\n",
    "        for i in range(num_of_candidates - 1):\n",
    "            if d[j].iloc[i] == p[0] and p[1] in list(d.loc[i+1:, j]):\n",
    "                votea += int(j)\n",
    "            elif d[j].iloc[i] == p[1] and p[0] in list(d.loc[i+1:, j]):\n",
    "                voteb += int(j)\n",
    "    if votea > voteb:\n",
    "        pair_winner[p] = [p[0], (votea, voteb)]\n",
    "    else:\n",
    "        pair_winner[p] = [p[1], (votea, voteb)]\n",
    "        \n",
    "\n",
    "wins = {}\n",
    "for pair, winner in pair_winner.items():\n",
    "    if winner[0] in wins.keys():\n",
    "        wins[winner[0]] += 1\n",
    "    else:\n",
    "        wins[winner[0]] = 1\n",
    "sorted_vals = sorted(wins.items(), key=lambda x: -x[1])\n",
    "\n",
    "winner = ''\n",
    "\n",
    "if sorted_vals[0][1] == (num_of_candidates - 1):\n",
    "    winner = sorted_vals[0][0]\n",
    "\n",
    "del candidate_list\n",
    "del num_of_candidates\n",
    "del d\n",
    "del wins\n",
    "\n",
    "print(\"The Pairwise Winner is:\")\n",
    "print(pair_winner)\n",
    "print()\n",
    "print()\n",
    "print(\"The Sorted Values are:\")\n",
    "print(sorted_vals)\n",
    "print()\n",
    "print()\n",
    "print(\"The winner is:\")\n",
    "print(winner)"
   ]
  }
 ],
 "metadata": {
  "kernelspec": {
   "display_name": "Python 3",
   "language": "python",
   "name": "python3"
  },
  "language_info": {
   "codemirror_mode": {
    "name": "ipython",
    "version": 3
   },
   "file_extension": ".py",
   "mimetype": "text/x-python",
   "name": "python",
   "nbconvert_exporter": "python",
   "pygments_lexer": "ipython3",
   "version": "3.8.5"
  }
 },
 "nbformat": 4,
 "nbformat_minor": 2
}
