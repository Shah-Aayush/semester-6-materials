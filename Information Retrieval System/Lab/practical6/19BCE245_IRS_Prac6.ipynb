{
  "nbformat": 4,
  "nbformat_minor": 0,
  "metadata": {
    "colab": {
      "name": "19BCE245_IRS_Prac6.ipynb",
      "provenance": []
    },
    "kernelspec": {
      "name": "python3",
      "display_name": "Python 3"
    },
    "language_info": {
      "name": "python"
    }
  },
  "cells": [
    {
      "cell_type": "markdown",
      "source": [
        "# NLP Practical 6\n",
        "> 19BCE245 - Aayush Shah\n",
        "\n",
        "- Precision Recall, Rank Precision"
      ],
      "metadata": {
        "id": "M_XN1tzqYTm_"
      }
    },
    {
      "cell_type": "code",
      "execution_count": 199,
      "metadata": {
        "id": "K2u06R30YS5a"
      },
      "outputs": [],
      "source": [
        "import pandas as pd\n",
        "import string"
      ]
    },
    {
      "cell_type": "code",
      "source": [
        "# Enter ground truth value here \n",
        "ground_truth = 5"
      ],
      "metadata": {
        "id": "L96ALqL5akgR"
      },
      "execution_count": 200,
      "outputs": []
    },
    {
      "cell_type": "code",
      "source": [
        "data = pd.read_csv('prac6-dataset-2.csv')\n",
        "# data = pd.read_csv('prac6-dataset.csv')\n",
        "print(\"Given data is :\")\n",
        "print(data)"
      ],
      "metadata": {
        "colab": {
          "base_uri": "https://localhost:8080/"
        },
        "id": "HV-ok2EQY_Ng",
        "outputId": "3461eb5f-a6fd-430a-b5c3-27d92fffa373"
      },
      "execution_count": 201,
      "outputs": [
        {
          "output_type": "stream",
          "name": "stdout",
          "text": [
            "Given data is :\n",
            "   Rank Relevance\n",
            "0     1         +\n",
            "1     2         +\n",
            "2     3         +\n",
            "3     4         -\n",
            "4     5         +\n",
            "5     6         -\n",
            "6     7         -\n",
            "7     8         +\n",
            "8     9         -\n",
            "9    10         -\n"
          ]
        }
      ]
    },
    {
      "cell_type": "code",
      "source": [
        "rank = list(data['Rank'])\n",
        "relevance = list(data['Relevance'])\n",
        "# print(rank, relevance)\n",
        "# data = data.assign(D=rank)\n",
        "# print(data)"
      ],
      "metadata": {
        "id": "txyOChbTZt-W"
      },
      "execution_count": 202,
      "outputs": []
    },
    {
      "cell_type": "code",
      "source": [
        "precision = []\n",
        "recall = []\n",
        "relevant_docs_until_now = 0\n",
        "avg_precision = 0\n",
        "breakeven_point = -1\n",
        "\n",
        "for i in range(len(rank)):\n",
        "  if relevance[i] == '+':\n",
        "    relevant_docs_until_now += 1\n",
        "\n",
        "  precision.append( round(relevant_docs_until_now/(i+1),4) * 100 )\n",
        "  recall.append( round((relevant_docs_until_now/ground_truth),4) * 100 )\n",
        "\n",
        "  if relevance[i] == '+':\n",
        "    avg_precision += precision[i]\n",
        "  \n",
        "  if precision[i] == recall[i]:\n",
        "    breakeven_point = i+1\n",
        "  \n",
        "if breakeven_point==-1:\n",
        "  min_diff = 1\n",
        "  for i in range(len(rank)):\n",
        "    if min_diff>abs(precision[i]-recall[i]):\n",
        "      min_diff = abs(precision[i]-recall[i])\n",
        "      breakeven_point = i+1\n",
        "\n",
        "avg_precision/=relevant_docs_until_now"
      ],
      "metadata": {
        "id": "r7KIfbCdaaOw"
      },
      "execution_count": 203,
      "outputs": []
    },
    {
      "cell_type": "code",
      "source": [
        "precision_strings = [str(i)+'%' for i in precision]\n",
        "recall_strings = [str(i)+'%' for i in recall]\n",
        "print(precision_strings)\n",
        "print(recall_strings)\n",
        "\n",
        "# data = data.assign(Precision=precision)\n",
        "# data = data.assign(Recall=recall)\n",
        "\n",
        "# data = data.assign(Precision=precision_strings)\n",
        "# data = data.assign(Recall=recall_strings)"
      ],
      "metadata": {
        "colab": {
          "base_uri": "https://localhost:8080/"
        },
        "id": "t6mjCoefbP0P",
        "outputId": "5c5a49f7-c220-4268-c5df-1904334280b1"
      },
      "execution_count": 204,
      "outputs": [
        {
          "output_type": "stream",
          "name": "stdout",
          "text": [
            "['100.0%', '100.0%', '100.0%', '75.0%', '80.0%', '66.67%', '57.14%', '62.5%', '55.559999999999995%', '50.0%']\n",
            "['20.0%', '40.0%', '60.0%', '60.0%', '80.0%', '80.0%', '80.0%', '100.0%', '100.0%', '100.0%']\n"
          ]
        }
      ]
    },
    {
      "cell_type": "code",
      "source": [
        "print(data)\n",
        "print('Average Precision :', avg_precision)\n",
        "print('Break Even Point :', breakeven_point)"
      ],
      "metadata": {
        "colab": {
          "base_uri": "https://localhost:8080/"
        },
        "id": "8TzNmf-mbd52",
        "outputId": "f9ff0483-c9b0-43c0-b164-342fecdf4aec"
      },
      "execution_count": 205,
      "outputs": [
        {
          "output_type": "stream",
          "name": "stdout",
          "text": [
            "   Rank Relevance\n",
            "0     1         +\n",
            "1     2         +\n",
            "2     3         +\n",
            "3     4         -\n",
            "4     5         +\n",
            "5     6         -\n",
            "6     7         -\n",
            "7     8         +\n",
            "8     9         -\n",
            "9    10         -\n",
            "Average Precision : 88.5\n",
            "Break Even Point : 5\n"
          ]
        }
      ]
    },
    {
      "cell_type": "markdown",
      "source": [
        "## PR Curve"
      ],
      "metadata": {
        "id": "fzYKxRPtejX0"
      }
    },
    {
      "cell_type": "code",
      "source": [
        "recalls = list(range(0, 110, 10))\n",
        "# print(recalls)"
      ],
      "metadata": {
        "id": "no4m6OMhelXa"
      },
      "execution_count": 206,
      "outputs": []
    },
    {
      "cell_type": "code",
      "source": [
        "precisions = []\n",
        "for i in range(11):\n",
        "  count = 0\n",
        "  while(recall[count]<recalls[i]):\n",
        "    count+=1\n",
        "  precisions.append(max(precision[count:]))\n",
        "\n",
        "# print(precisions)"
      ],
      "metadata": {
        "id": "jMR_OiCRgbU6"
      },
      "execution_count": 207,
      "outputs": []
    },
    {
      "cell_type": "code",
      "source": [
        "pr_curve = pd.DataFrame({'Recalls':recalls, 'Precisions':precisions})\n",
        "print(pr_curve)"
      ],
      "metadata": {
        "colab": {
          "base_uri": "https://localhost:8080/"
        },
        "id": "RHTQ_iNAh5t0",
        "outputId": "f27fa4b2-f331-466d-91b8-bebdae572cc7"
      },
      "execution_count": 208,
      "outputs": [
        {
          "output_type": "stream",
          "name": "stdout",
          "text": [
            "    Recalls  Precisions\n",
            "0         0       100.0\n",
            "1        10       100.0\n",
            "2        20       100.0\n",
            "3        30       100.0\n",
            "4        40       100.0\n",
            "5        50       100.0\n",
            "6        60       100.0\n",
            "7        70        80.0\n",
            "8        80        80.0\n",
            "9        90        62.5\n",
            "10      100        62.5\n"
          ]
        }
      ]
    },
    {
      "cell_type": "code",
      "source": [
        "import matplotlib.pyplot as plt\n",
        "plt.plot(recalls, precisions)\n",
        "plt.xlabel('Recalls')\n",
        "plt.ylabel('Precisions')\n",
        "plt.title('P-R Curve')\n",
        "plt.show()"
      ],
      "metadata": {
        "colab": {
          "base_uri": "https://localhost:8080/",
          "height": 295
        },
        "id": "9ILeTr_VjDVR",
        "outputId": "b5ac195b-23fe-446e-e70b-001827e3455e"
      },
      "execution_count": 209,
      "outputs": [
        {
          "output_type": "display_data",
          "data": {
            "text/plain": [
              "<Figure size 432x288 with 1 Axes>"
            ],
            "image/png": "[encoded data removed]"
          },
          "metadata": {
            "needs_background": "light"
          }
        }
      ]
    }
  ]
}