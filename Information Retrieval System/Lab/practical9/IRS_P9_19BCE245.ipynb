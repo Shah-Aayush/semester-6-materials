{
  "nbformat": 4,
  "nbformat_minor": 0,
  "metadata": {
    "colab": {
      "name": "IRS_P9_19BCE245.ipynb",
      "provenance": []
    },
    "kernelspec": {
      "name": "python3",
      "display_name": "Python 3"
    }
  },
  "cells": [
    {
      "cell_type": "markdown",
      "source": [
        "# IRS Practical 9\n",
        "> 19BCE245 - Aayush Shah\n",
        "\n",
        "- Mini search engine using GUI"
      ],
      "metadata": {
        "id": "WhzDoHvkW3BS"
      }
    },
    {
      "cell_type": "code",
      "metadata": {
        "id": "gIS0d6YRvGA9"
      },
      "source": [
        "import re\n",
        "import string\n",
        "import requests\n",
        "import numpy as np\n",
        "import pandas as pd\n",
        "from bs4 import BeautifulSoup\n",
        "from sklearn.feature_extraction.text import TfidfVectorizer\n",
        "\n",
        "def retrieve_docs_and_clean():\n",
        "  # Untuk mendapatkan link berita populer\n",
        "  r = requests.get('https://bola.kompas.com/')\n",
        "  soup = BeautifulSoup(r.content, 'html.parser')\n",
        "\n",
        "  link = []\n",
        "  for i in soup.find('div', {'class':'most__wrap'}).find_all('a'):\n",
        "      i['href'] = i['href'] + '?page=all'\n",
        "      link.append(i['href'])\n",
        "\n",
        "  # Retrieve Paragraphs\n",
        "  documents = []\n",
        "  for i in link:\n",
        "      r = requests.get(i)\n",
        "      soup = BeautifulSoup(r.content, 'html.parser')\n",
        "\n",
        "      sen = []\n",
        "      for i in soup.find('div', {'class':'read__content'}).find_all('p'):\n",
        "          sen.append(i.text)\n",
        "      documents.append(' '.join(sen))\n",
        "\n",
        "  # Clean Paragraphs\n",
        "  documents_clean = []\n",
        "  for d in documents:\n",
        "      document_test = re.sub(r'[^\\x00-\\x7F]+', ' ', d)\n",
        "      document_test = re.sub(r'@\\w+', '', document_test)\n",
        "      document_test = document_test.lower()\n",
        "      document_test = re.sub(r'[%s]' % re.escape(string.punctuation), ' ', document_test)\n",
        "      document_test = re.sub(r'[0-9]', '', document_test)\n",
        "      document_test = re.sub(r'\\s{2,}', ' ', document_test)\n",
        "      documents_clean.append(document_test)\n",
        "\n",
        "  return documents_clean"
      ],
      "execution_count": null,
      "outputs": []
    },
    {
      "cell_type": "code",
      "metadata": {
        "id": "3Nx9IePKvNA_",
        "colab": {
          "base_uri": "https://localhost:8080/",
          "height": 168
        },
        "outputId": "29c3e0f5-c570-4093-d807-b131fd72e700"
      },
      "source": [
        "docs = retrieve_docs_and_clean()\n",
        "\n",
        "# Create Term-Document Matrix with TF-IDF weighting\n",
        "vectorizer = TfidfVectorizer()\n",
        "X = vectorizer.fit_transform(docs)\n",
        "\n",
        "# Create a DataFrame\n",
        "df = pd.DataFrame(X.T.toarray(), index=vectorizer.get_feature_names())\n",
        "print(df.head())\n",
        "print(df.shape)"
      ],
      "execution_count": null,
      "outputs": [
        {
          "output_type": "stream",
          "text": [
            "                   0         1         2  ...    7         8    9\n",
            "aarhus      0.000000  0.000000  0.000000  ...  0.0  0.000000  0.0\n",
            "abdulkarim  0.000000  0.000000  0.000000  ...  0.0  0.000000  0.0\n",
            "absen       0.000000  0.000000  0.000000  ...  0.0  0.000000  0.0\n",
            "acu         0.062817  0.000000  0.000000  ...  0.0  0.000000  0.0\n",
            "ada         0.050583  0.021906  0.031355  ...  0.0  0.021412  0.0\n",
            "\n",
            "[5 rows x 10 columns]\n",
            "(1142, 10)\n"
          ],
          "name": "stdout"
        }
      ]
    },
    {
      "cell_type": "code",
      "metadata": {
        "id": "O39-ROvgwAqM",
        "colab": {
          "base_uri": "https://localhost:8080/",
          "height": 195
        },
        "outputId": "d06e13f0-cacc-4f0a-cf16-44424dc9e684"
      },
      "source": [
        "docs = retrieve_docs_and_clean()\n",
        "# Create Term-Document Matrix with TF-IDF weighting\n",
        "vectorizer = TfidfVectorizer()\n",
        "X = vectorizer.fit_transform(docs)\n",
        "\n",
        "# Create a DataFrame\n",
        "df = pd.DataFrame(X.T.toarray(), index=vectorizer.get_feature_names())\n",
        "df.head()"
      ],
      "execution_count": null,
      "outputs": [
        {
          "output_type": "execute_result",
          "data": {
            "text/html": [
              "<div>\n",
              "<style scoped>\n",
              "    .dataframe tbody tr th:only-of-type {\n",
              "        vertical-align: middle;\n",
              "    }\n",
              "\n",
              "    .dataframe tbody tr th {\n",
              "        vertical-align: top;\n",
              "    }\n",
              "\n",
              "    .dataframe thead th {\n",
              "        text-align: right;\n",
              "    }\n",
              "</style>\n",
              "<table border=\"1\" class=\"dataframe\">\n",
              "  <thead>\n",
              "    <tr style=\"text-align: right;\">\n",
              "      <th></th>\n",
              "      <th>0</th>\n",
              "      <th>1</th>\n",
              "      <th>2</th>\n",
              "      <th>3</th>\n",
              "      <th>4</th>\n",
              "      <th>5</th>\n",
              "      <th>6</th>\n",
              "      <th>7</th>\n",
              "      <th>8</th>\n",
              "      <th>9</th>\n",
              "    </tr>\n",
              "  </thead>\n",
              "  <tbody>\n",
              "    <tr>\n",
              "      <th>aarhus</th>\n",
              "      <td>0.000000</td>\n",
              "      <td>0.000000</td>\n",
              "      <td>0.000000</td>\n",
              "      <td>0.000000</td>\n",
              "      <td>0.000000</td>\n",
              "      <td>0.000000</td>\n",
              "      <td>0.029945</td>\n",
              "      <td>0.0</td>\n",
              "      <td>0.000000</td>\n",
              "      <td>0.0</td>\n",
              "    </tr>\n",
              "    <tr>\n",
              "      <th>abdulkarim</th>\n",
              "      <td>0.000000</td>\n",
              "      <td>0.000000</td>\n",
              "      <td>0.000000</td>\n",
              "      <td>0.045648</td>\n",
              "      <td>0.000000</td>\n",
              "      <td>0.000000</td>\n",
              "      <td>0.000000</td>\n",
              "      <td>0.0</td>\n",
              "      <td>0.000000</td>\n",
              "      <td>0.0</td>\n",
              "    </tr>\n",
              "    <tr>\n",
              "      <th>absen</th>\n",
              "      <td>0.000000</td>\n",
              "      <td>0.000000</td>\n",
              "      <td>0.000000</td>\n",
              "      <td>0.000000</td>\n",
              "      <td>0.017908</td>\n",
              "      <td>0.000000</td>\n",
              "      <td>0.000000</td>\n",
              "      <td>0.0</td>\n",
              "      <td>0.000000</td>\n",
              "      <td>0.0</td>\n",
              "    </tr>\n",
              "    <tr>\n",
              "      <th>acu</th>\n",
              "      <td>0.062817</td>\n",
              "      <td>0.000000</td>\n",
              "      <td>0.000000</td>\n",
              "      <td>0.000000</td>\n",
              "      <td>0.000000</td>\n",
              "      <td>0.000000</td>\n",
              "      <td>0.000000</td>\n",
              "      <td>0.0</td>\n",
              "      <td>0.000000</td>\n",
              "      <td>0.0</td>\n",
              "    </tr>\n",
              "    <tr>\n",
              "      <th>ada</th>\n",
              "      <td>0.050583</td>\n",
              "      <td>0.021906</td>\n",
              "      <td>0.031355</td>\n",
              "      <td>0.000000</td>\n",
              "      <td>0.009613</td>\n",
              "      <td>0.017337</td>\n",
              "      <td>0.000000</td>\n",
              "      <td>0.0</td>\n",
              "      <td>0.021412</td>\n",
              "      <td>0.0</td>\n",
              "    </tr>\n",
              "  </tbody>\n",
              "</table>\n",
              "</div>"
            ],
            "text/plain": [
              "                   0         1         2  ...    7         8    9\n",
              "aarhus      0.000000  0.000000  0.000000  ...  0.0  0.000000  0.0\n",
              "abdulkarim  0.000000  0.000000  0.000000  ...  0.0  0.000000  0.0\n",
              "absen       0.000000  0.000000  0.000000  ...  0.0  0.000000  0.0\n",
              "acu         0.062817  0.000000  0.000000  ...  0.0  0.000000  0.0\n",
              "ada         0.050583  0.021906  0.031355  ...  0.0  0.021412  0.0\n",
              "\n",
              "[5 rows x 10 columns]"
            ]
          },
          "metadata": {
            "tags": []
          },
          "execution_count": 3
        }
      ]
    },
    {
      "cell_type": "code",
      "metadata": {
        "id": "memATAT_6CtF",
        "colab": {
          "base_uri": "https://localhost:8080/",
          "height": 524
        },
        "outputId": "bdfde847-37fa-43e7-e776-d504c18de92e"
      },
      "source": [
        "def get_similar_articles(q, df):\n",
        "  print(\"query:\", q)\n",
        "  print(\"Berikut artikel dengan nilai cosine similarity tertinggi: \")\n",
        "  q = [q]\n",
        "  q_vec = vectorizer.transform(q).toarray().reshape(df.shape[0],)\n",
        "  sim = {}\n",
        "  for i in range(10):\n",
        "    sim[i] = np.dot(df.loc[:, i].values, q_vec) / np.linalg.norm(df.loc[:, i]) * np.linalg.norm(q_vec)\n",
        "  \n",
        "  sim_sorted = sorted(sim.items(), key=lambda x: x[1], reverse=True)\n",
        "  \n",
        "  for k, v in sim_sorted:\n",
        "    if v != 0.0:\n",
        "      print(\"Nilai Similaritas:\", v)\n",
        "      print(docs[k])\n",
        "      print()\n",
        "\n",
        "\n",
        "q1 = 'barcelona'\n",
        "q2 = 'gareth bale'\n",
        "q3 = 'shin tae yong'\n",
        "\n",
        "get_similar_articles(q1, df)\n",
        "print('-'*100)\n",
        "get_similar_articles(q2, df)\n",
        "print('-'*100)\n",
        "get_similar_articles(q3, df)"
      ],
      "execution_count": null,
      "outputs": [
        {
          "output_type": "stream",
          "text": [
            "query: barcelona\n",
            "Berikut artikel dengan nilai cosine similarity tertinggi: \n",
            "Nilai Similaritas: 0.4323959078488918\n",
            "kompas com perkembangan terkini kabar transfer luis suarez ke atletico madrid ternyata bukan seperti yang sang striker ingin dengar kendati bomber asal uruguay ini telah punya persetujuan menyeluruh dengan atletico madrid barcelona menghentikan transfer tersebut balik langkah barcelona ini dilaporkan oleh onda cero seperti dikutip dari mundo deportivo mereka melaporkan presiden josep maria bartomeu ogah memperkuat rival langsung di liga spanyol tanpa kubu atletico madrid membayar satu euro pun dalam biaya transfer apalagi barcelona juga dilaporkan bakal membayar sebagian gaji pemain berusia tahun tersebut baca juga sudah diusir koeman the next iniesta ngotot bertahan di barcelona presiden josep maria bartomeu dikatakan ogah untuk mengulang kasus david villa penyerang timnas spanyol itu pindah ke atletico madrid pada musim panas dengan banderol hanya juta euro villa langsung mencetak gol kontra barcelona pada laga debutnya bersama atletico yakni partai leg pertama piala super spanyol ia kemudian memenangi liga spanyol bersama kubu rojiblancos pertama kalinya atm juara sejak afp lluis gene penyerang barcelona luis suarez merayakan gol ke gawang espanyol bersama dengan sergi roberto di stadion camp nou barcelona pada juli larangan pergi ke atletico madrid ini merupakan batasan baru dari kubu barcelona ke luis suarez pasalnya onda cero mengutarakan bahwa barca memberikan suarez kebebasan berdiskusi dengan klub mana pun asalkan ia tidak pindah ke real madrid manchester united manchester city atau psg baca juga josep maria bartomeu akui tak rela lionel messi tinggalkan barcelona nama klub atletico madrid tidak muncul dari daftar tersebut namun klub kini berpendirian lain dan sekarang memutuskan untuk menahan suarez di camp nou kubu atletico madrid sendiri sudah mengantisipasi kedatangan suarez dengan menjual alvaro morata ke juventus kabar dari kubu barcelona ini dapat membuat kubu diego simeone berubah target ke edinson cavani yang masih tanpa klub sejak meninggalkan psg pada musim panas bagi barcelona sendiri pembatalan transfer ini berarti klub akan tetap membayar gaji suarez yang berada di kisaran juta euro per musim \n",
            "\n",
            "----------------------------------------------------------------------------------------------------\n",
            "query: gareth bale\n",
            "Berikut artikel dengan nilai cosine similarity tertinggi: \n",
            "Nilai Similaritas: 0.05770993633509231\n",
            "kompas com mantan bek dan kapten manchester united patrice evra menyerang kebijakan dan menuduh orang orang di old trafford sombong serta kurang menghormati sejarah klub patrice evra menyatakan klaim tersebut dalam video berdurasi menit pada akun media sosial instagram nya seperti dikutip dari espn selasa sebelumnya man united telah dikaitkan dengan sejumlah pemain selama jendela transfer musim panas ini beberapa nama dikaitkan dengan setan merah julukan man united seperti jadon sancho dayot upamecano gareth bale sergio reguilon hingga alex telles namun sejauh ini satu satunya pemain yang berhasil direkrut adalah donny van de beek dari ajax amsterdam baca juga liverpool resmi rekrut thiago jota nama man united ikut terseret selain itu terbaru man united pun memulai laga premier league musim ini dengan hasil minor tim asuhan ole gunnar solskjaer itu mesti mengakui kekalahan dari crystal palace di old trafford pada sabtu evra pun seolah gerah melihat situasi terkini dari mantan timnya tersebut klub harus berhenti bersikap sombong ada orang orang tertentu di klub saat ini yang bahkan tidak menghormati sir alex ferguson pelatih legendaris man united tutur evra sebelum kami bobby charlton george best mereka membuat sejarah klub dan kami mencoba menghormatinya musim treble winners dan kami juara liga inggris dan liga champions pada lanjutnya namun beberapa orang ingin membuang warisan ini untuk apa bisnis saya pikir beberapa orang yang bekerja untuk klub ini merusak klub ini itu sebabnya kami harus mengatakan yang sebenarnya kepada fans ucap sosok asal perancis itu baca juga man united vs palace fakta menarik serba pertama takluknya setan merah evra pun mengkritik wakil ketua eksekutif man united ed woodward satu satunya masalah yang akan saya katakan kepada wakil ketua eksekutif man united ed woodward adalah dia memercayai orang orang yang seharusnya tidak dia percayai ujar evra dia bahkan memercayai orang orang di luar klub yang seharusnya tidak dia percayai ucapnya saat masih membela man united dalam delapan setengah musim antara dan evra memang berhasil meraih beberapa gelar bersama setan merah dia pernah menjuarai premier league liga champions hingga piala dunia antarklub \n",
            "\n",
            "----------------------------------------------------------------------------------------------------\n",
            "query: shin tae yong\n",
            "Berikut artikel dengan nilai cosine similarity tertinggi: \n",
            "Nilai Similaritas: 0.29734981596390647\n",
            "kompas com timnas u indonesia kembali berbenah menjelang laga uji coba menghadapi bosnia dan herzegovina pertahanan timnas u indonesia vs bosnia akan digelar pada jumat laga kontra bosnia merupakan pertandingan uji coba keenam timnas u indonesia besutan shin tae yong selama menjalani pemusatan latihan atau training center tc di kroasia pada pertandingan terakhir melawan qatar minggu brylian aldama dkk meraih hasil imbang baca juga shin tae yong ungkap satu kekurangan timnas u indonesia usai ditahan imbang qatar ketika menghadapi qatar timnas u lebih dulu unggul pada menit ke melalui sundulan saddam emiruddin gaffar saddam berhasil menjebol gawang qatar memanfaatkan umpan lemparan ke dalam dari bek kiri pratama arhan namun kemenangan timnas u yang sudah di depan mata akhirnya buyar setelah qatar mampu menyamakan skor pada akhir babak kedua qatar memaksa timnas u indonesia bermain imbang setelah osamah abdulkarim altairi mencetak gol balasan lewat tendangan penalti pada menit ke baca juga satu pesan fakhri husaini kepada timnas u indonesia asuhan shin tae yong kebobolan pada menit menit akhir menjadi catatan bagi timnas u indonesia kini para pemain garuda muda mulai mengasah fokus agar tidak membuat kesalahan lagi pada pertandingan berikutnya menghadapi bosnia permainan sudah meningkat dan teman teman juga sudah bekerja keras serta disiplin posisi kesalahan kesalahan akan diperbaiki kata pratama arhan di youtube pssi selasa menurut saya yang harus dievaluasi adalah lebih fokus di menit menit akhir line kedalaman pemain belakang gelandang dan striker harus lebih rapat lagi agar pertahanan lebih kuat ucap arhan menambahkan sementara itu shin tae yong menyebut para pemain timnas u indonesia masih memiliki kekurangan dalam hal power atau kekuatan shin melihat kekuarangan itu dalam laga menghadapi qatar baca juga skill unik bek timnas u indonesia ini ternyata sudah ditempa sejak lama secara keseluruhan pemain semakin membaik dari evaluasi laga ini masalah masih terlihat di power pemain tutur shin tae yong power pemain masih sangat kurang tetapi untuk stamina saat ini semakin membaik ucapnya lagi karena power pemain kurang kami akan adakan program penguatan pemain jadi saat menghadapi lawan dengan postur lebih tinggi dan kuat kami bisa melawan mereka dengan baik kata shin tae yong mengakhiri timnas u indonesia masih memiliki dua agenda laga uji coba di kroasia setelah menghadapi bosnia dan herzegovina pada jumat selanjutnya garuda muda akan melawan dinamo zagreb pada senin \n",
            "\n",
            "Nilai Similaritas: 0.2402975503524834\n",
            "kompas com pemain belakang andalan timnas u indonesia pratama arhan alief mengungkapkan mimpinya untuk berkarier bersama klub eropa nama pratama arhan sedang naik daun setelah menunjukkan penampilan gemilang bersama timasn u indonesia selama menjalani pemusatan latihan tc di kroasia bek psis semarang itu menjadi perbincangan berkat kemampuannya dalam melakukan lemparan ke dalam jarak jauh dalam beberapa kesempatan arhan juga sempat mengancam lini pertahanan lawan hanya dengan memberikan umpan lewat lemparan ke dalam baca juga ivan rakitic putuskan pensiun dari timnas kroasia lemparan super bek kiri timnas u indonesia itu juga menjadi awal mula gol pembuka saddam gaffar saat pasukan shin tae yong menghadapi qatar pada minggu dengan penampilan gemilangnya pratama arhan ternyata punya mimpi besar untuk kariernya di masa depan pemain tahun itu sangat ingin bermain di liga eropa seperti yang dilakukan oleh rekan setimnya witan sulaeman dan elkan baggott selain itu arhan juga ingin bisa menembus timnas senior indonesia dan mengharumkan nama bangsa di kancah internasional semoga saya suatu saat bermain di eropa ucap arhan dilansir bolasport com dari laman resmi pssi selain itu saya ingin menembus skuad timnas senior serta meraih prestasi dan membikin bangga kedua orang tua saya tukas pemain kelahiran desember itu pratama arhan dkk masih menyisakan dua laga uji coba lain sebelum mengakhiri pemusatan latihan di kroasia baca juga pemain andalan shin tae yong di timnas u indonesia siapa saja dua calon lawan skuad garuda nusantara berikutnya adalah bosnia herzegovina dan dinamo zagreb setelah itu bagas kaffa dkk akan bertolak ke turki untuk menjalani pemusatan latihan di sana pasukan timnas u indonesia arahan shin tae yong dikabarkan akan menggelar lima laga uji coba selama berada di turki hugo hardianto wijaya baca juga komentar soal timnas era shin tae yong tak ada pemain yang jalan semua lari\n",
            "\n",
            "Nilai Similaritas: 0.2051196650724395\n",
            "kompas com mantan pelatih timnas u indonesia fakhri husaini memberikan wejangan kepada skuad garuda nusantara yang kini dilatih oleh shin tae yong timnas u indonesia asuhan shin tae yong sedang menjalani pemusatan latihan tc di kroasia selama berada di kroasia timnas u indonesia telah melakoni sejumlah laga uji coba aksi para penggawa garuda nusantara selama beruji coba di kroasia pun selalu diikuti oleh fakhri husaini baca juga mimpi bek super timnas u indonesia untuk berkarier di eropa mantan pelatih timnas u indonesia itu pun menunjukkan kepeduliannya terhadap bagas kaffa dkk kepedulian fakhri husaini ini ditunjukannya dengan menyoroti perkembangan timnas u indonesia fakhri husaini pun tak jarang memberikan beberapa wejangan kepada timnas u indonesia selepas menjalani beberapa rangkaian uji coba seperti diketahui timnas u indonesia telah menjajal beberapa tim termasuk tampil di international u friendly tournament dalam turnamen tersebut timnas u indonesia belum mampu meraih kemenangan dalam tiga laga yang dijalaninya skuad garuda muda ditaklukkan oleh timnas u bulgaria dengan skor dan timnas u kroasia lewat skor satu pertandingan lainnya yang dijalani timnas u indonesia di international u friendly tournament berakhir imbang kontra timnas u arab saudi timnas u indonesia kala itu menjadi juru kunci dalam turnamen tersebut karena hanya mengoleksi satu poin dan kemasukan cukup banyak yaitu gol seusai menjalani international u friendly tournament skuad garuda muda asuhan shin tae yong semakin berbenah kala akan bertemu timnas u qatar dalam dua laga uji coba baca juga legenda timnas argentina mungkin messi kurang jiwa pemimpin alhasil timnas u indonesia pun sempat sekali meraih kemenangan atas timnas u qatar pada laga pertama september namun pada minggu timnas u indonesia harus puas bermain imbang melawan timnas u qatar dalam partai kedua dari beragam hasil uji coba yang telah diterima fakhri husaini mengingatkan satu hal kepada timnas u indonesia dia mengingatkan kepada anak asuh shin tae yong untuk memetik pelajaran penting dari setiap laga yang telah dilakoni fakhri pun tidak henti hentinya untuk tetap memberikan semangat kepada timnas u indonesia setiap laga apa pun hasilnya menang seri ataupun kalah selalu ada pelajaran penting dan berharga yang dapat dipetik tulis fakhri husaini seperti dilansir oleh bolasport com dari instagram nya september tetap semangat sadam ridho withan cs ujar fakhri kepada para pemain timnas u indonesia asuhan shin tae yong alif mardiansyah \n",
            "\n",
            "Nilai Similaritas: 0.1899142389888608\n",
            "kompas com pemain belakang timnas u indonesia pratama arhan alief mengungkap rahasia di balik skill uniknya bek kiri garuda muda itu memiliki skill unik yang ia miliki yaitu lemparan ke dalam tercatat lima pertandingan uji coba timnas u indonesia melawan bulgaria kroasia arab saudi dan dua kali menghadapi qatar arhan selalu bermain dari lima laga uji coba tersebut arhan selalu kerap mengambil alih untuk melakukan lemparan ke dalam baca juga pemain andalan shin tae yong di timnas u indonesia siapa saja hal ini karena arhan mempunyai lemparan bola yang jauh dan juga akurat bahkan kemampuannya ini membuatnya bisa memberikan assist untuk gol saddam gaffar saat melakoni uji coba melawan qatar pada pertemuan kedua saat itu timnas u indonesia besutan pelatih shin tae yong bermain imbang dengan qatar arhan mengungkap bahwa untuk menguasai skill khususnya itu ia melalui perjuangan yang panjang baca juga selusin fakta menarik usai laga timnas u indonesia vs qatar untuk menguasai skill khusus tersebut arhan membutuhkan waktu tiga tahun soal lemparan kedalam yang jauh saya belajar sendiri dan memang sudah lama sekitar tahun saya melakukannya hingga sekarang ucap arhan dikutip kompas com dari laman resmi pssi selain itu setiap pertandingan saya harus fokus dan bekerja keras untuk mendapatkan hasil terbaik ucapnya garuda muda masih menyisakan dua laga uji coba di tengah pemusatan di kroasia baca juga penyesalan shin tae yong soal hasil timnas u indonesia vs qatar adapun laga terdekat timnas u indonesia adalah menghadapi bosnia herzegovina pada jumat malam wib seusai menghadapi bosnia herzegovina witan sulaeman dkk akan menjajal kekuatan klub kroasia dinamo zagreb pada senin malam wib \n",
            "\n",
            "Nilai Similaritas: 0.03079897328419178\n",
            " kompas com pssi menyatakan bahwa bek fiorentina kevin diks tak mungkin masuk ke skuad timnas indonesia kevin diks merupakan pemain kelahiran apeldorn belanda yang mempunyai darah maluku dari ibunya meski memiliki darah indonesia pemain berusia tahun itu disebut tak mungkin bisa membela timnas indonesia sebab kevin diks tercatat pernah bermain untuk timnas u belanda pada laga kualifikasi piala eropa u dalam statuta fifa pasal ayat seorang pemain yang pernah membela sebuah negara pada kompetisi resmi fifa tidak berhak membela asosiasi lain meskipun sudah berganti kewarganegaraan baca juga jelang laga kontra bosnia timnas u indonesia fokus benahi pertahanan kejadian ini sebelumnya pernah dialami ezra walian ketika tidak bisa membela timnas indonesia pada ajang kualifikasi piala asia ezra walian tidak bisa didaftarkan karena tercatat pernah membela timnas u belanda pada kualifikasi piala eropa u pelaksana tugas plt sekjen pssi yunus nusi mengakui federasi dalam beberapa waktu terakhir sedang menelusuri silsilah kevin diks hal itu dilakukan karena pssi kini sedang mencari pemain muda keturunan indonesia sebagai persiapan piala dunia u setelah ditelusuri pssi kevin diks ternyata tidak bisa membela timnas indonesia kevin diks tidak mungkin dimasukkan ke dalam skuad timnas indonesia untuk piala dunia u karena faktor usia kata yunus nusi dikutip dari situs resmi pssi kami saat ini sedang mencari pemain keturunan indonesia yang masih berusia dan tahun ucap yunus nusi kejadian ini kevin diks juga pernah dialami oleh ezra walian dia tidak bisa membela indonesia karena sempat memperkuat timnas belanda junior pada kompetisi uefa tutur yunus nusi menambahkan baca juga satu pesan fakhri husaini kepada timnas u indonesia asuhan shin tae yong sebelumnya kevin diks sendiri sudah mengakui dirinya sempat terpikir untuk membela timnas indonesia namun kevin diks tidak mau terlalu memikirkan itu meski sudah berbicara dengan agennya mamaku berasal dari indonesia nama belakangnya bakarbessy opa dan omaku juga berasal dari indonesia kata kevin diks dilansir bolasport dari youtube yussa nugraha saya selalu mengatakan bahwa saya selalu terbuka untuk membela timnas indonesia ucap kevin diks saya sudah berbicara dengan agen saya saya berkata bahwa indonesia adalah asal usulku jadi saya tidak pernah menutup kemungkinan membela indonesia ujar kevin diks namun selama federasi pssi tidak menghubungi saya tidak mau memikirkan hal itu kata kevin diks menambahkan selain membela tim u belanda kevin diks juga pernah bermain untuk tim u dan u negara kincir angin tersebut selama kariernya kevin diks pernah membela vitesse feyenoord aarhus fg dan kini fiorentina \n",
            "\n"
          ],
          "name": "stdout"
        }
      ]
    }
  ]
}